{
  "nbformat": 4,
  "nbformat_minor": 0,
  "metadata": {
    "colab": {
      "name": "Q2_temp.ipynb",
      "provenance": [],
      "authorship_tag": "ABX9TyODHOlHmhM6O1WijqKTkD88",
      "include_colab_link": true
    },
    "kernelspec": {
      "name": "python3",
      "display_name": "Python 3"
    },
    "language_info": {
      "name": "python"
    },
    "accelerator": "GPU"
  },
  "cells": [
    {
      "cell_type": "markdown",
      "metadata": {
        "id": "view-in-github",
        "colab_type": "text"
      },
      "source": [
        "<a href=\"https://colab.research.google.com/github/cs20m016/cs6910-Assignment-3/blob/main/Q2_temp.ipynb\" target=\"_parent\"><img src=\"https://colab.research.google.com/assets/colab-badge.svg\" alt=\"Open In Colab\"/></a>"
      ]
    },
    {
      "cell_type": "code",
      "metadata": {
        "colab": {
          "base_uri": "https://localhost:8080/"
        },
        "id": "jnIomKXdbJbk",
        "outputId": "2ba9e199-1e49-4c28-a4de-4149f38626e7"
      },
      "source": [
        "!pip install wandb -qq\n",
        "import wandb"
      ],
      "execution_count": 3,
      "outputs": [
        {
          "output_type": "stream",
          "text": [
            "\u001b[K     |████████████████████████████████| 1.8MB 4.3MB/s \n",
            "\u001b[K     |████████████████████████████████| 133kB 18.3MB/s \n",
            "\u001b[K     |████████████████████████████████| 174kB 14.6MB/s \n",
            "\u001b[K     |████████████████████████████████| 102kB 7.0MB/s \n",
            "\u001b[K     |████████████████████████████████| 71kB 7.3MB/s \n",
            "\u001b[?25h  Building wheel for subprocess32 (setup.py) ... \u001b[?25l\u001b[?25hdone\n",
            "  Building wheel for pathtools (setup.py) ... \u001b[?25l\u001b[?25hdone\n"
          ],
          "name": "stdout"
        }
      ]
    },
    {
      "cell_type": "code",
      "metadata": {
        "colab": {
          "base_uri": "https://localhost:8080/",
          "height": 69
        },
        "id": "z0EbWCV-bjjF",
        "outputId": "27f0e7fa-2e31-4e16-b2af-7eb6c0bc31b6"
      },
      "source": [
        "wandb.login()"
      ],
      "execution_count": 4,
      "outputs": [
        {
          "output_type": "display_data",
          "data": {
            "application/javascript": [
              "\n",
              "        window._wandbApiKey = new Promise((resolve, reject) => {\n",
              "            function loadScript(url) {\n",
              "            return new Promise(function(resolve, reject) {\n",
              "                let newScript = document.createElement(\"script\");\n",
              "                newScript.onerror = reject;\n",
              "                newScript.onload = resolve;\n",
              "                document.body.appendChild(newScript);\n",
              "                newScript.src = url;\n",
              "            });\n",
              "            }\n",
              "            loadScript(\"https://cdn.jsdelivr.net/npm/postmate/build/postmate.min.js\").then(() => {\n",
              "            const iframe = document.createElement('iframe')\n",
              "            iframe.style.cssText = \"width:0;height:0;border:none\"\n",
              "            document.body.appendChild(iframe)\n",
              "            const handshake = new Postmate({\n",
              "                container: iframe,\n",
              "                url: 'https://wandb.ai/authorize'\n",
              "            });\n",
              "            const timeout = setTimeout(() => reject(\"Couldn't auto authenticate\"), 5000)\n",
              "            handshake.then(function(child) {\n",
              "                child.on('authorize', data => {\n",
              "                    clearTimeout(timeout)\n",
              "                    resolve(data)\n",
              "                });\n",
              "            });\n",
              "            })\n",
              "        });\n",
              "    "
            ],
            "text/plain": [
              "<IPython.core.display.Javascript object>"
            ]
          },
          "metadata": {
            "tags": []
          }
        },
        {
          "output_type": "stream",
          "text": [
            "\u001b[34m\u001b[1mwandb\u001b[0m: Appending key for api.wandb.ai to your netrc file: /root/.netrc\n"
          ],
          "name": "stderr"
        },
        {
          "output_type": "execute_result",
          "data": {
            "text/plain": [
              "True"
            ]
          },
          "metadata": {
            "tags": []
          },
          "execution_count": 4
        }
      ]
    },
    {
      "cell_type": "code",
      "metadata": {
        "colab": {
          "base_uri": "https://localhost:8080/"
        },
        "id": "WELnfSY2bjfj",
        "outputId": "c1d11354-cff1-4e56-bd37-dfb34385b623"
      },
      "source": [
        "from google.colab import drive\n",
        "drive.mount('/content/drive/')"
      ],
      "execution_count": 1,
      "outputs": [
        {
          "output_type": "stream",
          "text": [
            "Mounted at /content/drive/\n"
          ],
          "name": "stdout"
        }
      ]
    },
    {
      "cell_type": "code",
      "metadata": {
        "id": "kMAZ2Lg7bjdX"
      },
      "source": [
        "import numpy as np\n",
        "import tensorflow as tf\n",
        "from tensorflow import keras\n",
        "import random\n",
        "from keras.utils.vis_utils import plot_model\n",
        "from tensorflow.keras import layers\n",
        "from keras.models import Model\n",
        "from keras.layers import Input, LSTM, Dense, RNN, GRU, SimpleRNN\n",
        "import math\n",
        "from math import log"
      ],
      "execution_count": 17,
      "outputs": []
    },
    {
      "cell_type": "code",
      "metadata": {
        "id": "1YEwAtEWbja0"
      },
      "source": [
        "!unzip /content/drive/MyDrive/Assignment3_DL/dakshina_dataset_v1.0.zip > /dev/null"
      ],
      "execution_count": 6,
      "outputs": []
    },
    {
      "cell_type": "code",
      "metadata": {
        "id": "yzn8XAu5bjYk"
      },
      "source": [
        "# Path to the data txt file on disk.\n",
        "data_path = \"dakshina_dataset_v1.0/hi/lexicons/hi.translit.sampled.train.tsv\"\n",
        "val_path = \"dakshina_dataset_v1.0/hi/lexicons/hi.translit.sampled.dev.tsv\"\n",
        "test_path = \"dakshina_dataset_v1.0/hi/lexicons/hi.translit.sampled.test.tsv\""
      ],
      "execution_count": 7,
      "outputs": []
    },
    {
      "cell_type": "code",
      "metadata": {
        "colab": {
          "base_uri": "https://localhost:8080/"
        },
        "id": "WC5ybOs6bjVs",
        "outputId": "f4cdb866-6f20-4d0a-aad4-76346b25f9dc"
      },
      "source": [
        "input_texts = []\n",
        "target_texts = []\n",
        "input_characters = set()\n",
        "target_characters = set()\n",
        "with open(data_path, \"r\", encoding=\"utf-8\") as f:\n",
        "    lines = f.read().split(\"\\n\")\n",
        "for line in lines[: len(lines) - 1]:\n",
        "    target_text, input_text, _ = line.split(\"\\t\")\n",
        "    # We use \"tab\" as the \"start sequence\" character\n",
        "    # for the targets, and \"\\n\" as \"end sequence\" character.\n",
        "    target_text = \"\\t\" + target_text + \"\\n\"\n",
        "    input_texts.append(input_text)\n",
        "    target_texts.append(target_text)\n",
        "    for char in input_text:\n",
        "        if char not in input_characters:\n",
        "            input_characters.add(char)\n",
        "    for char in target_text:\n",
        "        if char not in target_characters:\n",
        "            target_characters.add(char)\n",
        "\n",
        "input_characters.add(\" \")\n",
        "target_characters.add(\" \")\n",
        "input_characters = sorted(list(input_characters))\n",
        "target_characters = sorted(list(target_characters))\n",
        "num_encoder_tokens = len(input_characters)\n",
        "num_decoder_tokens = len(target_characters)\n",
        "max_encoder_seq_length = max([len(txt) for txt in input_texts])\n",
        "max_decoder_seq_length = max([len(txt) for txt in target_texts])\n",
        "\n",
        "val_input_texts = []\n",
        "val_target_texts = []\n",
        "\n",
        "with open(val_path, \"r\", encoding=\"utf-8\") as f:\n",
        "    lines = f.read().split(\"\\n\")\n",
        "for line in lines[: len(lines) - 1]:\n",
        "    target_text, input_text, _ = line.split(\"\\t\")\n",
        "    # We use \"tab\" as the \"start sequence\" character\n",
        "    # for the targets, and \"\\n\" as \"end sequence\" character.\n",
        "    target_text = \"\\t\" + target_text + \"\\n\"\n",
        "    val_input_texts.append(input_text)\n",
        "    val_target_texts.append(target_text)\n",
        "\n",
        "test_input_texts = []\n",
        "test_target_texts = []\n",
        "\n",
        "with open(val_path, \"r\", encoding=\"utf-8\") as f:\n",
        "    lines = f.read().split(\"\\n\")\n",
        "for line in lines[: len(lines) - 1]:\n",
        "    target_text, input_text, _ = line.split(\"\\t\")\n",
        "    # We use \"tab\" as the \"start sequence\" character\n",
        "    # for the targets, and \"\\n\" as \"end sequence\" character.\n",
        "    test_input_texts.append(input_text)\n",
        "    test_target_texts.append(target_text)\n",
        "\n",
        "print(\"Number of samples:\", len(input_texts))\n",
        "print(\"Number of validation samples:\", len(val_input_texts))\n",
        "print(\"Number of test samples:\", len(test_input_texts))\n",
        "print(\"Number of unique input tokens:\", num_encoder_tokens)\n",
        "print(\"Number of unique output tokens:\", num_decoder_tokens)\n",
        "print(\"Max sequence length for inputs:\", max_encoder_seq_length)\n",
        "print(\"Max sequence length for outputs:\", max_decoder_seq_length)"
      ],
      "execution_count": 8,
      "outputs": [
        {
          "output_type": "stream",
          "text": [
            "Number of samples: 44204\n",
            "Number of validation samples: 4358\n",
            "Number of test samples: 4358\n",
            "Number of unique input tokens: 27\n",
            "Number of unique output tokens: 66\n",
            "Max sequence length for inputs: 20\n",
            "Max sequence length for outputs: 21\n"
          ],
          "name": "stdout"
        }
      ]
    },
    {
      "cell_type": "code",
      "metadata": {
        "colab": {
          "base_uri": "https://localhost:8080/"
        },
        "id": "WwIYKAc5bjTG",
        "outputId": "fcd9a021-782a-4683-bbcc-bdbd6f7f36a1"
      },
      "source": [
        "print(\"Train Set Samples\")\n",
        "for i in range (5):\n",
        "  index = random. randint(0,len(target_texts))\n",
        "  print(input_texts[index],target_texts[index])"
      ],
      "execution_count": 9,
      "outputs": [
        {
          "output_type": "stream",
          "text": [
            "Train Set Samples\n",
            "koronary \tकोरोनरी\n",
            "\n",
            "rajdharm \tराजधर्म\n",
            "\n",
            "ahluwalia \tआहलूवालिया\n",
            "\n",
            "ganva \tगंवा\n",
            "\n",
            "patiyaali \tपटियाली\n",
            "\n"
          ],
          "name": "stdout"
        }
      ]
    },
    {
      "cell_type": "code",
      "metadata": {
        "colab": {
          "base_uri": "https://localhost:8080/"
        },
        "id": "VnS7StmvbjQ4",
        "outputId": "8eb7e8c9-0130-4f51-fc75-490ea090d2ab"
      },
      "source": [
        "print(\"Validation Set Samples\")\n",
        "for i in range (5):\n",
        "  index = random. randint(0,len(val_target_texts))\n",
        "  print(val_input_texts[index],val_target_texts[index])"
      ],
      "execution_count": 10,
      "outputs": [
        {
          "output_type": "stream",
          "text": [
            "Validation Set Samples\n",
            "kalpna \tकल्पना\n",
            "\n",
            "paranparik \tपारंपरिक\n",
            "\n",
            "chalaki \tचलाकी\n",
            "\n",
            "ethlati \tइठलाती\n",
            "\n",
            "many \tमैनी\n",
            "\n"
          ],
          "name": "stdout"
        }
      ]
    },
    {
      "cell_type": "code",
      "metadata": {
        "colab": {
          "base_uri": "https://localhost:8080/"
        },
        "id": "VjX132jbxnwS",
        "outputId": "2befdcbe-97b4-4254-fdb2-eda1ac32d65b"
      },
      "source": [
        "input_token_index = dict([(char, i) for i, char in enumerate(input_characters)])\n",
        "target_token_index = dict([(char, i) for i, char in enumerate(target_characters)])\n",
        "\n",
        "encoder_input_data = np.zeros((len(input_texts), max_encoder_seq_length, num_encoder_tokens), dtype=\"float32\")\n",
        "decoder_input_data = np.zeros((len(input_texts), max_decoder_seq_length, num_decoder_tokens), dtype=\"float32\")\n",
        "decoder_target_data = np.zeros((len(input_texts), max_decoder_seq_length, num_decoder_tokens), dtype=\"float32\")\n",
        "print(np.shape(encoder_input_data),np.shape(decoder_input_data),np.shape(decoder_target_data))\n",
        "\n",
        "val_encoder_input_data = np.zeros((len(val_input_texts), max_encoder_seq_length, num_encoder_tokens), dtype=\"float32\")\n",
        "val_decoder_input_data = np.zeros((len(val_input_texts), max_decoder_seq_length, num_decoder_tokens), dtype=\"float32\")\n",
        "val_decoder_target_data = np.zeros((len(val_input_texts), max_decoder_seq_length, num_decoder_tokens), dtype=\"float32\")\n",
        "print(np.shape(val_encoder_input_data),np.shape(val_decoder_input_data),np.shape(val_decoder_target_data))\n",
        "\n",
        "test_encoder_input_data = np.zeros((len(test_input_texts), max_encoder_seq_length, num_encoder_tokens), dtype=\"float32\")\n",
        "print(np.shape(test_encoder_input_data))\n",
        "\n",
        "for i, (input_text, target_text) in enumerate(zip(input_texts, target_texts)):\n",
        "    for t, char in enumerate(input_text):\n",
        "        encoder_input_data[i, t, input_token_index[char]] = 1.0\n",
        "    encoder_input_data[i, t + 1 :, input_token_index[\" \"]] = 1.0\n",
        "    for t, char in enumerate(target_text):\n",
        "        # decoder_target_data is ahead of decoder_input_data by one timestep\n",
        "        decoder_input_data[i, t, target_token_index[char]] = 1.0\n",
        "        if t > 0:\n",
        "            # decoder_target_data will be ahead by one timestep\n",
        "            # and will not include the start character.\n",
        "            decoder_target_data[i, t - 1, target_token_index[char]] = 1.0\n",
        "    decoder_input_data[i, t + 1 :, target_token_index[\" \"]] = 1.0\n",
        "    decoder_target_data[i, t:, target_token_index[\" \"]] = 1.0\n",
        "\n",
        "for i, (val_input_text, val_target_text) in enumerate(zip(val_input_texts, val_target_texts)):\n",
        "    for t, char in enumerate(val_input_text):\n",
        "        val_encoder_input_data[i, t, input_token_index[char]] = 1.0\n",
        "    val_encoder_input_data[i, t + 1 :, input_token_index[\" \"]] = 1.0\n",
        "    for t, char in enumerate(val_target_text):\n",
        "        # decoder_target_data is ahead of decoder_input_data by one timestep\n",
        "        val_decoder_input_data[i, t, target_token_index[char]] = 1.0\n",
        "        if t > 0:\n",
        "            # decoder_target_data will be ahead by one timestep\n",
        "            # and will not include the start character.\n",
        "            val_decoder_target_data[i, t - 1, target_token_index[char]] = 1.0\n",
        "    val_decoder_input_data[i, t + 1 :, target_token_index[\" \"]] = 1.0\n",
        "    val_decoder_target_data[i, t:, target_token_index[\" \"]] = 1.0\n",
        "\n",
        "for i, (test_input_text, ) in enumerate(zip(test_input_texts, )):\n",
        "    for t, char in enumerate(test_input_text):\n",
        "        test_encoder_input_data[i, t, input_token_index[char]] = 1.0\n",
        "    test_encoder_input_data[i, t + 1 :, input_token_index[\" \"]] = 1.0"
      ],
      "execution_count": 11,
      "outputs": [
        {
          "output_type": "stream",
          "text": [
            "(44204, 20, 27) (44204, 21, 66) (44204, 21, 66)\n",
            "(4358, 20, 27) (4358, 21, 66) (4358, 21, 66)\n",
            "(4358, 20, 27)\n"
          ],
          "name": "stdout"
        }
      ]
    },
    {
      "cell_type": "code",
      "metadata": {
        "id": "AS_KbRBH4xbx"
      },
      "source": [
        "def LSTM_model(epochs, batch_size, latent_dims, optimizer_fn, dropout, recc_dropout):\n",
        "  # Define an input sequence and process it by going through a len(latent_dims)-layer deep encoder\n",
        "  encoder_inputs = Input(shape=(None, num_encoder_tokens))\n",
        "\n",
        "  outputs = encoder_inputs\n",
        "  encoder_states = []\n",
        "  for j in range(len(latent_dims))[::-1]:\n",
        "      outputs, h, c = LSTM(latent_dims[j], return_state=True, return_sequences=bool(j))(outputs)\n",
        "      encoder_states += [h, c]\n",
        "\n",
        "  # Set up the decoder, setting the initial state of each layer to the state of the layer in the encoder\n",
        "  # which is it's mirror (so for encoder: a->b->c, you'd have decoder initial states: c->b->a).\n",
        "  decoder_inputs = Input(shape=(None, num_decoder_tokens))\n",
        "\n",
        "  outputs = decoder_inputs\n",
        "  output_layers = []\n",
        "  for j in range(len(latent_dims)):\n",
        "      output_layers.append(LSTM(latent_dims[len(latent_dims) - j - 1], return_sequences=True, return_state=True))\n",
        "      outputs, dh, dc = output_layers[-1](outputs, initial_state=encoder_states[2*j:2*(j+1)])\n",
        "\n",
        "\n",
        "  decoder_dense = Dense(num_decoder_tokens, activation='softmax')\n",
        "  decoder_outputs = decoder_dense(outputs)\n",
        "\n",
        "  # Define the model that will turn\n",
        "  # `encoder_input_data` & `decoder_input_data` into `decoder_target_data`\n",
        "  model = Model([encoder_inputs, decoder_inputs], decoder_outputs)\n",
        "  model.compile(optimizer=optimizer_fn, loss=\"categorical_crossentropy\", metrics=[\"accuracy\"])\n",
        "  model.fit([encoder_input_data, decoder_input_data], decoder_target_data, batch_size=batch_size, epochs=epochs, validation_data=([val_encoder_input_data, val_decoder_input_data],val_decoder_target_data))\n",
        "  encoder_model = Model(encoder_inputs, encoder_states)\n",
        "\n",
        "  d_outputs = decoder_inputs\n",
        "  decoder_states_inputs = []\n",
        "  decoder_states = []\n",
        "  for j in range(len(latent_dims))[::-1]:\n",
        "      current_state_inputs = [Input(shape=(latent_dims[j],)) for _ in range(2)]\n",
        "      temp = output_layers[len(latent_dims)-j-1](d_outputs, initial_state=current_state_inputs)\n",
        "      d_outputs, cur_states = temp[0], temp[1:]\n",
        "\n",
        "      decoder_states += cur_states\n",
        "      decoder_states_inputs += current_state_inputs\n",
        "\n",
        "  decoder_outputs = decoder_dense(d_outputs)\n",
        "  decoder_model = Model([decoder_inputs] + decoder_states_inputs, [decoder_outputs] + decoder_states)\n",
        "  return model,encoder_model,decoder_model"
      ],
      "execution_count": 23,
      "outputs": []
    },
    {
      "cell_type": "code",
      "metadata": {
        "id": "SnWrzR294xYF"
      },
      "source": [
        "def GRU_model(epochs, batch_size, latent_dims, optimizer_fn, dropout, recc_dropout):\n",
        "  # Define an input sequence and process it by going through a len(latent_dims)-layer deep encoder\n",
        "  encoder_inputs = Input(shape=(None, num_encoder_tokens))\n",
        "\n",
        "  outputs = encoder_inputs\n",
        "  encoder_states = []\n",
        "  for j in range(len(latent_dims))[::-1]:\n",
        "      outputs, h = GRU(latent_dims[j], return_state=True, return_sequences=bool(j))(outputs)\n",
        "      encoder_states += [h]\n",
        "\n",
        "  # Set up the decoder, setting the initial state of each layer to the state of the layer in the encoder\n",
        "  # which is it's mirror (so for encoder: a->b->c, you'd have decoder initial states: c->b->a).\n",
        "  decoder_inputs = Input(shape=(None, num_decoder_tokens))\n",
        "\n",
        "  outputs = decoder_inputs\n",
        "  output_layers = []\n",
        "  for j in range(len(latent_dims)):\n",
        "      output_layers.append(GRU(latent_dims[len(latent_dims) - j - 1], return_sequences=True, return_state=True))\n",
        "      outputs, dh = output_layers[-1](outputs, initial_state=encoder_states[j:j+1])\n",
        "\n",
        "  decoder_dense = Dense(num_decoder_tokens, activation='softmax')\n",
        "  decoder_outputs = decoder_dense(outputs)\n",
        "\n",
        "  # Define the model that will turn\n",
        "  # `encoder_input_data` & `decoder_input_data` into `decoder_target_data`\n",
        "  model = Model([encoder_inputs, decoder_inputs], decoder_outputs)\n",
        "  model.compile(optimizer=optimizer_fn, loss=\"categorical_crossentropy\", metrics=[\"accuracy\"])\n",
        "  model.fit([encoder_input_data, decoder_input_data], decoder_target_data, batch_size=batch_size, epochs=epochs, validation_data=([val_encoder_input_data, val_decoder_input_data],val_decoder_target_data))\n",
        "  encoder_model = Model(encoder_inputs, encoder_states)\n",
        "\n",
        "  d_outputs = decoder_inputs\n",
        "  decoder_states_inputs = []\n",
        "  decoder_states = []\n",
        "  for j in range(len(latent_dims))[::-1]:\n",
        "      current_state_inputs = [Input(shape=(latent_dims[j],)) for _ in range(1)]\n",
        "      temp = output_layers[len(latent_dims)-j-1](d_outputs, initial_state=current_state_inputs)\n",
        "      d_outputs, cur_states = temp[0], temp[1:]\n",
        "\n",
        "      decoder_states += cur_states\n",
        "      decoder_states_inputs += current_state_inputs\n",
        "\n",
        "  decoder_outputs = decoder_dense(d_outputs)\n",
        "  decoder_model = Model([decoder_inputs] + decoder_states_inputs, [decoder_outputs] + decoder_states)\n",
        "  return model,encoder_model,decoder_model"
      ],
      "execution_count": 24,
      "outputs": []
    },
    {
      "cell_type": "code",
      "metadata": {
        "id": "25j_wALq4xVK"
      },
      "source": [
        "def RNN_model(epochs, batch_size, latent_dims, optimizer_fn, dropout, recc_dropout):\n",
        "  # Define an input sequence and process it by going through a len(latent_dims)-layer deep encoder\n",
        "  encoder_inputs = Input(shape=(None, num_encoder_tokens))\n",
        "\n",
        "  outputs = encoder_inputs\n",
        "  encoder_states = []\n",
        "  for j in range(len(latent_dims))[::-1]:\n",
        "      outputs, h = SimpleRNN(latent_dims[j], return_state=True, return_sequences=bool(j))(outputs)\n",
        "      encoder_states += [h]\n",
        "\n",
        "  # Set up the decoder, setting the initial state of each layer to the state of the layer in the encoder\n",
        "  # which is it's mirror (so for encoder: a->b->c, you'd have decoder initial states: c->b->a).\n",
        "  decoder_inputs = Input(shape=(None, num_decoder_tokens))\n",
        "\n",
        "  outputs = decoder_inputs\n",
        "  output_layers = []\n",
        "  for j in range(len(latent_dims)):\n",
        "      output_layers.append(SimpleRNN(latent_dims[len(latent_dims) - j - 1], return_sequences=True, return_state=True))\n",
        "      outputs, dh = output_layers[-1](outputs, initial_state=encoder_states[j:j+1])\n",
        "\n",
        "  decoder_dense = Dense(num_decoder_tokens, activation='softmax')\n",
        "  decoder_outputs = decoder_dense(outputs)\n",
        "\n",
        "  # Define the model that will turn\n",
        "  # `encoder_input_data` & `decoder_input_data` into `decoder_target_data`\n",
        "  model = Model([encoder_inputs, decoder_inputs], decoder_outputs)\n",
        "  model.compile(optimizer=optimizer_fn, loss=\"categorical_crossentropy\", metrics=[\"accuracy\"])\n",
        "  model.fit([encoder_input_data, decoder_input_data], decoder_target_data, batch_size=batch_size, epochs=epochs, validation_data=([val_encoder_input_data, val_decoder_input_data],val_decoder_target_data))\n",
        "  encoder_model = Model(encoder_inputs, encoder_states)\n",
        "\n",
        "  d_outputs = decoder_inputs\n",
        "  decoder_states_inputs = []\n",
        "  decoder_states = []\n",
        "  for j in range(len(latent_dims))[::-1]:\n",
        "      current_state_inputs = [Input(shape=(latent_dims[j],)) for _ in range(1)]\n",
        "      temp = output_layers[len(latent_dims)-j-1](d_outputs, initial_state=current_state_inputs)\n",
        "      d_outputs, cur_states = temp[0], temp[1:]\n",
        "\n",
        "      decoder_states += cur_states\n",
        "      decoder_states_inputs += current_state_inputs\n",
        "\n",
        "  decoder_outputs = decoder_dense(d_outputs)\n",
        "  decoder_model = Model([decoder_inputs] + decoder_states_inputs, [decoder_outputs] + decoder_states)\n",
        "  return model,encoder_model,decoder_model"
      ],
      "execution_count": 25,
      "outputs": []
    },
    {
      "cell_type": "code",
      "metadata": {
        "id": "gC5TEG298Qew"
      },
      "source": [
        "def decode_sequence(input_seq, beam_search, model, encoder_model, decoder_model):\n",
        "  # Encode the input as state vectors.\n",
        "  states_value = encoder_model.predict(input_seq)\n",
        "\n",
        "  # Generate empty target sequence of length 1.\n",
        "  target_seq = np.zeros((1, 1, num_decoder_tokens))\n",
        "  # Populate the first character of target sequence with the start character.\n",
        "  target_seq[0, 0, target_token_index['\\t']] = 1.\n",
        "\n",
        "  # Sampling loop for a batch of sequences\n",
        "  # (to simplify, here we assume a batch of size 1).\n",
        "  stop_condition = False\n",
        "  decoded_sentences = []\n",
        "  if beam_search==0:\n",
        "    decoded_sentence = []  #Creating a list then using \"\".join() is usually much faster for string creation\n",
        "    while not stop_condition:\n",
        "        to_split = decoder_model.predict([target_seq] + states_value)\n",
        "        output_tokens, states_value = to_split[0], to_split[1:]\n",
        "        sampled_token_index = np.argmax(output_tokens[0, 0])\n",
        "        sampled_char = reverse_target_char_index[sampled_token_index]\n",
        "        decoded_sentence.append(sampled_char)\n",
        "        if sampled_char == '\\n' or len(decoded_sentence) > max_decoder_seq_length:\n",
        "          stop_condition = True\n",
        "        target_seq = np.zeros((1, 1, num_decoder_tokens))\n",
        "        target_seq[0, 0, sampled_token_index] = 1.\n",
        "    decoded_sentences.append(\"\".join(decoded_sentence))\n",
        "  else:\n",
        "    decoded_prob = []\n",
        "    it=0\n",
        "    while not stop_condition:\n",
        "        to_split = decoder_model.predict([target_seq] + states_value)\n",
        "        output_tokens, states_value = to_split[0], to_split[1:]\n",
        "        sampled_token_index = np.argmax(output_tokens[0, 0])\n",
        "        sampled_char = reverse_target_char_index[sampled_token_index]\n",
        "        it += 1\n",
        "        decoded_prob.append(output_tokens[0, 0])\n",
        "        if sampled_char == '\\n' or it > max_decoder_seq_length:\n",
        "          stop_condition = True\n",
        "        target_seq = np.zeros((1, 1, num_decoder_tokens))\n",
        "        target_seq[0, 0, sampled_token_index] = 1.\n",
        "    sequences = [[list(), 0.0]]\n",
        "    # walk over each step in sequence\n",
        "    for row in decoded_prob:\n",
        "      all_candidates = list()\n",
        "      # expand each current candidate\n",
        "      for i in range(len(sequences)):\n",
        "        seq, score = sequences[i]\n",
        "        for j in range(len(row)):\n",
        "          candidate = [seq + [j], score - log(row[j])]\n",
        "          all_candidates.append(candidate)\n",
        "      # order all candidates by score\n",
        "      ordered = sorted(all_candidates, key=lambda tup:tup[1])\n",
        "      # select k best\n",
        "      sequences = ordered[:beam_search]\n",
        "    for seq in sequences:\n",
        "      decoded_sentence = []\n",
        "      for char_in in seq[0]:\n",
        "        sampled_char = reverse_target_char_index[char_in]\n",
        "        decoded_sentence.append(sampled_char)\n",
        "      decoded_sentences.append(\"\".join(decoded_sentence))\n",
        "  return decoded_sentences"
      ],
      "execution_count": 26,
      "outputs": []
    },
    {
      "cell_type": "code",
      "metadata": {
        "id": "lHtN9NLDxnsD"
      },
      "source": [
        "def Recurrent_Neural_Network(epochs, batch_size, dropout, recc_dropout, beam_search, layers, hidden_neurons, cell_type, optimizer_fn):\n",
        "  #latent_dims = [256,128,64]  # Latent dimensionality of the encoding space.\n",
        "  latent_dims = []\n",
        "  for i in range(layers):\n",
        "    latent_dims.append((i+1)*hidden_neurons)\n",
        "  latent_dims = latent_dims[::-1]\n",
        "  #print(latent_dims)\n",
        "\n",
        "  if cell_type=='LSTM':\n",
        "    model,encoder_model,decoder_model = LSTM_model(epochs, batch_size, latent_dims, optimizer_fn, dropout, recc_dropout)\n",
        "  elif cell_type=='GRU':\n",
        "    model,encoder_model,decoder_model = GRU_model(epochs, batch_size, latent_dims, optimizer_fn, dropout, recc_dropout)\n",
        "  elif cell_type=='RNN':\n",
        "    model,encoder_model,decoder_model = RNN_model(epochs, batch_size, latent_dims, optimizer_fn, dropout, recc_dropout)\n",
        "\n",
        "  # Reverse-lookup token index to decode sequences back to\n",
        "  # something readable.\n",
        "  reverse_input_char_index = dict((i, char) for char, i in input_token_index.items())\n",
        "  reverse_target_char_index = dict((i, char) for char, i in target_token_index.items())\n",
        "    \n",
        "  valid = 0\n",
        "  for i in range(1000):\n",
        "      # Take one sequence (part of the training set)\n",
        "      # for trying out decoding.\n",
        "      seq_index=random.randint(0,len(test_input_texts))\n",
        "      #seq_index=i\n",
        "      input_seq = test_encoder_input_data[seq_index : seq_index + 1]\n",
        "      decoded_sentence = decode_sequence(input_seq, beam_search, model, encoder_model, decoder_model)\n",
        "      #print(\"-\")\n",
        "      #print(\"Input sentence:\", test_input_texts[seq_index])\n",
        "      #for seq in decoded_sentence:\n",
        "        #print(\"Decoded sentence:\", seq)\n",
        "      #print(\"Actual sentence:\", test_target_texts[seq_index])\n",
        "      for translate in decoded_sentence:\n",
        "        flag=1\n",
        "        for (i,j) in zip(translate,test_target_texts[seq_index]):\n",
        "          if i!=j:\n",
        "            flag=0\n",
        "            break\n",
        "        if flag==1:\n",
        "          valid += 1\n",
        "          break\n",
        "  print(\"Word Level Validation Accuracy :\",valid/1000)\n",
        "  wandb.log({'word_level_accuracy': valid/1000})\n",
        "  return  "
      ],
      "execution_count": 27,
      "outputs": []
    },
    {
      "cell_type": "code",
      "metadata": {
        "id": "DDpvvbuhbjL2"
      },
      "source": [
        "sweep_config = {\n",
        "    'method': 'random',\n",
        "    'metric': {\n",
        "      'name': 'model_accuracy',\n",
        "      'goal': 'maximize'   \n",
        "    },\n",
        "    'parameters': {\n",
        "        'epoch': {\n",
        "            'values': [40,50,60]\n",
        "        },\n",
        "        'batch_size': {\n",
        "            'values': [64]\n",
        "        },\n",
        "        'dropout':{\n",
        "            'values': [0.1,0.2,0.3]\n",
        "        },\n",
        "        'recc_dropout':{\n",
        "            'values': [0.1,0.2,0.3]\n",
        "        },\n",
        "        'beam_search': {\n",
        "            'values': [16]\n",
        "        },\n",
        "        'layers': {\n",
        "            'values': [1]\n",
        "        },\n",
        "        'hidden_neurons':{\n",
        "            'values': [1]\n",
        "        },\n",
        "        'cell_type': {\n",
        "            'values':['RNN','GRU','LSTM']\n",
        "        },\n",
        "        'optimizer_fn': {\n",
        "            'values': ['adam','sgd','momentum','rmsprop']\n",
        "        }\n",
        "    }\n",
        "}"
      ],
      "execution_count": 29,
      "outputs": []
    },
    {
      "cell_type": "code",
      "metadata": {
        "colab": {
          "base_uri": "https://localhost:8080/"
        },
        "id": "wNb_Lsp1bjJJ",
        "outputId": "f7648fb1-dfe0-4bf4-c6b5-4a99390def31"
      },
      "source": [
        "sweep_id = wandb.sweep(sweep_config,entity=\"dl-assignment3\",project=\"A3\")"
      ],
      "execution_count": 30,
      "outputs": [
        {
          "output_type": "stream",
          "text": [
            "Create sweep with ID: qiupnla9\n",
            "Sweep URL: https://wandb.ai/dl-assignment3/A3/sweeps/qiupnla9\n"
          ],
          "name": "stdout"
        }
      ]
    },
    {
      "cell_type": "code",
      "metadata": {
        "id": "MXhH2AkFbjG-"
      },
      "source": [
        "def train():\n",
        "    config_defaults={\n",
        "        'epoch':40,\n",
        "        'batch_size':64,\n",
        "        'dropout':0.2,\n",
        "        'recc_dropout':0.2,\n",
        "        'beam_search':32,\n",
        "        'layers':1,\n",
        "        'hidden_neurons':1,\n",
        "        'cell_type':'RNN',\n",
        "        'optimiser_fn':'adam',\n",
        "        }\n",
        "    # Initialize a new wandb run\n",
        "    wandb.init(config=config_defaults)\n",
        "    \n",
        "    # Config is a variable that holds and saves hyperparameters and inputs\n",
        "    config = wandb.config\n",
        "\n",
        "    Recurrent_Neural_Network(config.epoch, config.batch_size, config.dropout, config.recc_dropout, config.beam_search, config.layers,config.hidden_neurons, config.cell_type, config.optimiser_fn)  \n",
        "    return"
      ],
      "execution_count": 32,
      "outputs": []
    },
    {
      "cell_type": "code",
      "metadata": {
        "colab": {
          "base_uri": "https://localhost:8080/",
          "height": 329
        },
        "id": "R5FtMf8IbjEk",
        "outputId": "87b58a04-94bc-40d3-e91f-1e9f8e823e5c"
      },
      "source": [
        "wandb.agent(sweep_id, train,count=6)"
      ],
      "execution_count": null,
      "outputs": [
        {
          "output_type": "stream",
          "text": [
            "\u001b[34m\u001b[1mwandb\u001b[0m: Agent Starting Run: 4lgp8rqk with config:\n",
            "\u001b[34m\u001b[1mwandb\u001b[0m: \tbatch_size: 64\n",
            "\u001b[34m\u001b[1mwandb\u001b[0m: \tbeam_search: 16\n",
            "\u001b[34m\u001b[1mwandb\u001b[0m: \tcell_type: LSTM\n",
            "\u001b[34m\u001b[1mwandb\u001b[0m: \tdropout: 0.2\n",
            "\u001b[34m\u001b[1mwandb\u001b[0m: \tepoch: 50\n",
            "\u001b[34m\u001b[1mwandb\u001b[0m: \thidden_neurons: 1\n",
            "\u001b[34m\u001b[1mwandb\u001b[0m: \tlayers: 1\n",
            "\u001b[34m\u001b[1mwandb\u001b[0m: \toptimizer_fn: sgd\n",
            "\u001b[34m\u001b[1mwandb\u001b[0m: \trecc_dropout: 0.2\n"
          ],
          "name": "stderr"
        },
        {
          "output_type": "display_data",
          "data": {
            "text/html": [
              "\n",
              "                Tracking run with wandb version 0.10.30<br/>\n",
              "                Syncing run <strong style=\"color:#cdcd00\">pleasant-sweep-1</strong> to <a href=\"https://wandb.ai\" target=\"_blank\">Weights & Biases</a> <a href=\"https://docs.wandb.com/integrations/jupyter.html\" target=\"_blank\">(Documentation)</a>.<br/>\n",
              "                Project page: <a href=\"https://wandb.ai/dl-assignment3/A3\" target=\"_blank\">https://wandb.ai/dl-assignment3/A3</a><br/>\n",
              "                Sweep page: <a href=\"https://wandb.ai/dl-assignment3/A3/sweeps/qiupnla9\" target=\"_blank\">https://wandb.ai/dl-assignment3/A3/sweeps/qiupnla9</a><br/>\n",
              "Run page: <a href=\"https://wandb.ai/dl-assignment3/A3/runs/4lgp8rqk\" target=\"_blank\">https://wandb.ai/dl-assignment3/A3/runs/4lgp8rqk</a><br/>\n",
              "                Run data is saved locally in <code>/content/wandb/run-20210520_091029-4lgp8rqk</code><br/><br/>\n",
              "            "
            ],
            "text/plain": [
              "<IPython.core.display.HTML object>"
            ]
          },
          "metadata": {
            "tags": []
          }
        },
        {
          "output_type": "stream",
          "text": [
            "Epoch 1/50\n"
          ],
          "name": "stdout"
        }
      ]
    },
    {
      "cell_type": "code",
      "metadata": {
        "id": "n1HaxUoqbjB-"
      },
      "source": [
        ""
      ],
      "execution_count": null,
      "outputs": []
    },
    {
      "cell_type": "code",
      "metadata": {
        "id": "F_0tkfrJbi_3"
      },
      "source": [
        ""
      ],
      "execution_count": null,
      "outputs": []
    }
  ]
}