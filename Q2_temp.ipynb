{
  "nbformat": 4,
  "nbformat_minor": 0,
  "metadata": {
    "colab": {
      "name": "Q2_temp.ipynb",
      "provenance": [],
      "authorship_tag": "ABX9TyOty/j4K8Pvxryb7W1w9VMf",
      "include_colab_link": true
    },
    "kernelspec": {
      "name": "python3",
      "display_name": "Python 3"
    },
    "language_info": {
      "name": "python"
    }
  },
  "cells": [
    {
      "cell_type": "markdown",
      "metadata": {
        "id": "view-in-github",
        "colab_type": "text"
      },
      "source": [
        "<a href=\"https://colab.research.google.com/github/cs20m016/cs6910-Assignment-3/blob/main/Q2_temp.ipynb\" target=\"_parent\"><img src=\"https://colab.research.google.com/assets/colab-badge.svg\" alt=\"Open In Colab\"/></a>"
      ]
    },
    {
      "cell_type": "code",
      "metadata": {
        "id": "F3Z3K7Nf7q79"
      },
      "source": [
        "!pip install wandb -qq\n",
        "import wandb"
      ],
      "execution_count": null,
      "outputs": []
    },
    {
      "cell_type": "code",
      "metadata": {
        "id": "IovU_R9f7sba"
      },
      "source": [
        "wandb.login()"
      ],
      "execution_count": null,
      "outputs": []
    },
    {
      "cell_type": "code",
      "metadata": {
        "id": "97MiICgk2-UN"
      },
      "source": [
        "from google.colab import drive\n",
        "drive.mount('/content/drive/')"
      ],
      "execution_count": null,
      "outputs": []
    },
    {
      "cell_type": "code",
      "metadata": {
        "id": "D4ggVohJ3Beq"
      },
      "source": [
        "import numpy as np\n",
        "import tensorflow as tf\n",
        "from tensorflow import keras\n",
        "import random\n",
        "from keras.utils.vis_utils import plot_model"
      ],
      "execution_count": null,
      "outputs": []
    },
    {
      "cell_type": "code",
      "metadata": {
        "id": "abHYywZh3BcK"
      },
      "source": [
        "def Recurrent_Neural_Network(epoch, dropout, number_of_filters, input_embedding_size, number_of_encoder_layers, number_of_decoder_layers, cell_type, learning_rate, optimiser_fn, activation_fn):\n",
        "  batch_size = 64  # Batch size for training.\n",
        "  epochs = 4  # Number of epochs to train for.\n",
        "  latent_dim = 256  # Latent dimensionality of the encoding space.\n",
        "  num_samples = 10000  # Number of samples to train on.\n",
        "  # Path to the data txt file on disk.\n",
        "  data_path = \"dakshina_dataset_v1.0/hi/lexicons/hi.translit.sampled.train.tsv\"\n",
        "  val_path = \"dakshina_dataset_v1.0/hi/lexicons/hi.translit.sampled.dev.tsv\"\n",
        "  test_path = \"dakshina_dataset_v1.0/hi/lexicons/hi.translit.sampled.test.tsv\"\n",
        "  input_texts = []\n",
        "  target_texts = []\n",
        "  input_characters = set()\n",
        "  target_characters = set()\n",
        "  with open(data_path, \"r\", encoding=\"utf-8\") as f:\n",
        "      lines = f.read().split(\"\\n\")\n",
        "  for line in lines[: len(lines) - 1]:\n",
        "      target_text, input_text, _ = line.split(\"\\t\")\n",
        "      # We use \"tab\" as the \"start sequence\" character\n",
        "      # for the targets, and \"\\n\" as \"end sequence\" character.\n",
        "      target_text = \"\\t\" + target_text + \"\\n\"\n",
        "      input_texts.append(input_text)\n",
        "      target_texts.append(target_text)\n",
        "      for char in input_text:\n",
        "          if char not in input_characters:\n",
        "              input_characters.add(char)\n",
        "      for char in target_text:\n",
        "          if char not in target_characters:\n",
        "              target_characters.add(char)\n",
        "\n",
        "  input_characters.add(\" \")\n",
        "  target_characters.add(\" \")\n",
        "  input_characters = sorted(list(input_characters))\n",
        "  target_characters = sorted(list(target_characters))\n",
        "  num_encoder_tokens = len(input_characters)\n",
        "  num_decoder_tokens = len(target_characters)\n",
        "  max_encoder_seq_length = max([len(txt) for txt in input_texts])\n",
        "  max_decoder_seq_length = max([len(txt) for txt in target_texts])\n",
        "\n",
        "  val_input_texts = []\n",
        "  val_target_texts = []\n",
        "\n",
        "  with open(val_path, \"r\", encoding=\"utf-8\") as f:\n",
        "      lines = f.read().split(\"\\n\")\n",
        "  for line in lines[: len(lines) - 1]:\n",
        "      target_text, input_text, _ = line.split(\"\\t\")\n",
        "      # We use \"tab\" as the \"start sequence\" character\n",
        "      # for the targets, and \"\\n\" as \"end sequence\" character.\n",
        "      target_text = \"\\t\" + target_text + \"\\n\"\n",
        "      val_input_texts.append(input_text)\n",
        "      val_target_texts.append(target_text)\n",
        "\n",
        "  test_input_texts = []\n",
        "  test_target_texts = []\n",
        "\n",
        "  with open(test_path, \"r\", encoding=\"utf-8\") as f:\n",
        "      lines = f.read().split(\"\\n\")\n",
        "  for line in lines[: len(lines) - 1]:\n",
        "      target_text, input_text, _ = line.split(\"\\t\")\n",
        "      # We use \"tab\" as the \"start sequence\" character\n",
        "      # for the targets, and \"\\n\" as \"end sequence\" character.\n",
        "      test_input_texts.append(input_text)\n",
        "      test_target_texts.append(target_text)\n",
        "\n",
        "  input_token_index = dict([(char, i) for i, char in enumerate(input_characters)])\n",
        "  target_token_index = dict([(char, i) for i, char in enumerate(target_characters)])\n",
        "\n",
        "  encoder_input_data = np.zeros((len(input_texts), max_encoder_seq_length, num_encoder_tokens), dtype=\"float32\")\n",
        "  decoder_input_data = np.zeros((len(input_texts), max_decoder_seq_length, num_decoder_tokens), dtype=\"float32\")\n",
        "  decoder_target_data = np.zeros((len(input_texts), max_decoder_seq_length, num_decoder_tokens), dtype=\"float32\")\n",
        "  #print(np.shape(encoder_input_data),np.shape(decoder_input_data),np.shape(decoder_target_data))\n",
        "\n",
        "  val_encoder_input_data = np.zeros((len(val_input_texts), max_encoder_seq_length, num_encoder_tokens), dtype=\"float32\")\n",
        "  val_decoder_input_data = np.zeros((len(val_input_texts), max_decoder_seq_length, num_decoder_tokens), dtype=\"float32\")\n",
        "  val_decoder_target_data = np.zeros((len(val_input_texts), max_decoder_seq_length, num_decoder_tokens), dtype=\"float32\")\n",
        "  #print(np.shape(val_encoder_input_data),np.shape(val_decoder_input_data),np.shape(val_decoder_target_data))\n",
        "\n",
        "  test_encoder_input_data = np.zeros((len(test_input_texts), max_encoder_seq_length, num_encoder_tokens), dtype=\"float32\")\n",
        "\n",
        "  for i, (input_text, target_text) in enumerate(zip(input_texts, target_texts)):\n",
        "    for t, char in enumerate(input_text):\n",
        "        encoder_input_data[i, t, input_token_index[char]] = 1.0\n",
        "    encoder_input_data[i, t + 1 :, input_token_index[\" \"]] = 1.0\n",
        "    for t, char in enumerate(target_text):\n",
        "        # decoder_target_data is ahead of decoder_input_data by one timestep\n",
        "        decoder_input_data[i, t, target_token_index[char]] = 1.0\n",
        "        if t > 0:\n",
        "            # decoder_target_data will be ahead by one timestep\n",
        "            # and will not include the start character.\n",
        "            decoder_target_data[i, t - 1, target_token_index[char]] = 1.0\n",
        "    decoder_input_data[i, t + 1 :, target_token_index[\" \"]] = 1.0\n",
        "    decoder_target_data[i, t:, target_token_index[\" \"]] = 1.0\n",
        "\n",
        "  for i, (val_input_text, val_target_text) in enumerate(zip(val_input_texts, val_target_texts)):\n",
        "    for t, char in enumerate(val_input_text):\n",
        "        val_encoder_input_data[i, t, input_token_index[char]] = 1.0\n",
        "    val_encoder_input_data[i, t + 1 :, input_token_index[\" \"]] = 1.0\n",
        "    for t, char in enumerate(val_target_text):\n",
        "        # decoder_target_data is ahead of decoder_input_data by one timestep\n",
        "        val_decoder_input_data[i, t, target_token_index[char]] = 1.0\n",
        "        if t > 0:\n",
        "            # decoder_target_data will be ahead by one timestep\n",
        "            # and will not include the start character.\n",
        "            val_decoder_target_data[i, t - 1, target_token_index[char]] = 1.0\n",
        "    val_decoder_input_data[i, t + 1 :, target_token_index[\" \"]] = 1.0\n",
        "    val_decoder_target_data[i, t:, target_token_index[\" \"]] = 1.0\n",
        "\n",
        "    for i, (test_input_text, ) in enumerate(zip(test_input_texts, )):\n",
        "      for t, char in enumerate(test_input_text):\n",
        "          test_encoder_input_data[i, t, input_token_index[char]] = 1.0\n",
        "      test_encoder_input_data[i, t + 1 :, input_token_index[\" \"]] = 1.0\n",
        "\n",
        "  encoder_inputs = keras.Input(shape=(None, num_encoder_tokens))\n",
        "\n",
        "  # Define an input sequence and process it.\n",
        "  if cell_type=='LSTM':\n",
        "    encoder = keras.layers.LSTM(latent_dim, return_state=True)\n",
        "    encoder_outputs, state_h, state_c = encoder(encoder_inputs)\n",
        "    # We discard `encoder_outputs` and only keep the states.\n",
        "    encoder_states = [state_h, state_c]\n",
        "    # Set up the decoder, using `encoder_states` as initial state.\n",
        "    decoder_inputs = keras.Input(shape=(None, num_decoder_tokens))\n",
        "    # We set up our decoder to return full output sequences,\n",
        "    # and to return internal states as well. We don't use the\n",
        "    # return states in the training model, but we will use them in inference.\n",
        "    decoder_lstm = keras.layers.LSTM(latent_dim, return_sequences=True, return_state=True)\n",
        "    decoder_outputs, _, _ = decoder_lstm(decoder_inputs, initial_state=encoder_states)\n",
        "\n",
        "  elif cell_type=='RNN':\n",
        "    encoder = keras.layers.SimpleRNN(latent_dim, return_state=True,dropout=dropout,recurrent_dropout=recc_dropout)\n",
        "    encoder_outputs, state_h = encoder(encoder_inputs)\n",
        "    decoder_inputs = keras.Input(shape=(None, num_decoder_tokens))\n",
        "    decoder_rnn = keras.layers.SimpleRNN(latent_dim, return_sequences=True,return_state=True,dropout=dropout,recurrent_dropout=recc_dropout)\n",
        "    decoder_outputs,_ = decoder_rnn(decoder_inputs, initial_state=state_h)\n",
        "\n",
        "  elif cell_type=='GRU':\n",
        "    encoder = keras.layers.GRU(latent_dim, return_state=True,dropout=dropout,recurrent_dropout=recc_dropout)\n",
        "    encoder_outputs, state_h = encoder(encoder_inputs)\n",
        "    decoder_inputs = keras.Input(shape=(None, num_decoder_tokens))\n",
        "    decoder_gru = keras.layers.GRU(latent_dim, return_sequences=True,return_state=True,dropout=dropout,recurrent_dropout=recc_dropout)\n",
        "    decoder_outputs,_ = decoder_gru(decoder_inputs, initial_state=state_h)\n",
        "    \n",
        "  decoder_dense = keras.layers.Dense(num_decoder_tokens, activation='softmax')\n",
        "  decoder_outputs = decoder_dense(decoder_outputs)\n",
        "  \n",
        "  # Define the model that will turn\n",
        "  # `encoder_input_data` & `decoder_input_data` into `decoder_target_data`\n",
        "  model = keras.Model([encoder_inputs, decoder_inputs], decoder_outputs)\n",
        "\n",
        "  if optimiser_fn=='adam':\n",
        "    opt = tf.keras.optimizers.Adam(learning_rate = learning_rate, beta_1=0.9, beta_2=0.999, epsilon=1e-07, amsgrad=False, name=\"Adam\")\n",
        "  elif optimiser_fn=='sgd':\n",
        "    opt = tf.keras.optimizers.SGD(learning_rate = learning_rate, momentum=0.0, nesterov=False, name=\"SGD\")\n",
        "  elif optimiser_fn=='momentum':\n",
        "    opt = tf.keras.optimizers.SGD(learning_rate = learning_rate, momentum=0.9, nesterov=False)\n",
        "\n",
        "  model.compile(optimizer=opt, loss=\"categorical_crossentropy\", metrics=[\"accuracy\"])\n",
        "  model.fit([encoder_input_data, decoder_input_data], decoder_target_data, batch_size=batch_size, epochs=epochs, validation_data=([val_encoder_input_data, val_decoder_input_data],val_decoder_target_data))\n"
      ],
      "execution_count": null,
      "outputs": []
    },
    {
      "cell_type": "code",
      "metadata": {
        "id": "nQqHDUmy3BZV"
      },
      "source": [
        "sweep_config = {\n",
        "    'method': 'random',\n",
        "    'metric': {\n",
        "      'name': 'model_accuracy',\n",
        "      'goal': 'maximize'   \n",
        "    },\n",
        "    'parameters': {\n",
        "        'epoch': {\n",
        "            'values': [40,50,60]\n",
        "        },\n",
        "        'dropout':{\n",
        "            'values': [0.1,0.2,0.3]\n",
        "        },\n",
        "        'input_embedding_size': {\n",
        "            'values': [16,32,64,256]\n",
        "        },\n",
        "        'number_of_encoder_layers': {\n",
        "            'values': [1,2,3,4]\n",
        "        },\n",
        "        'number_of_decoder_layers':{\n",
        "            'values': [1,2,3,4]\n",
        "        },\n",
        "        'cell_type': {\n",
        "            'values':['RNN','GRU','LSTM']\n",
        "        },\n",
        "        'learning_rate':{\n",
        "            'values': [0.01,0.001,0.0001]\n",
        "        },\n",
        "        'optimizer_fn':{\n",
        "            'values': ['adam','sgd','momentum']\n",
        "        },\n",
        "        'activation_fn':{\n",
        "            'values': ['relu','tanh']\n",
        "        }\n",
        "    }\n",
        "}"
      ],
      "execution_count": null,
      "outputs": []
    },
    {
      "cell_type": "code",
      "metadata": {
        "id": "uODXDwDw3BW7"
      },
      "source": [
        "sweep_id = wandb.sweep(sweep_config,entity=\"dlassignment3_\",project=\"Part-A\")"
      ],
      "execution_count": null,
      "outputs": []
    },
    {
      "cell_type": "code",
      "metadata": {
        "id": "DxEIHgab3BUT"
      },
      "source": [
        "def train():\n",
        "    config_defaults={\n",
        "        'epoch':40,\n",
        "        'dropout':0.2,\n",
        "        'input_embedding_size':32,\n",
        "        'number_of_encoder_layers':1,\n",
        "        'number_of_decoder_layers':1,\n",
        "        'cell_type':'RNN',\n",
        "        'learning_rate':0.001,\n",
        "        'optimiser_fn':'adam',\n",
        "        'activation_fn':'relu',\n",
        "        }\n",
        "    # Initialize a new wandb run\n",
        "    wandb.init(config=config_defaults)\n",
        "    \n",
        "    # Config is a variable that holds and saves hyperparameters and inputs\n",
        "    config = wandb.config\n",
        "\n",
        "    Recurrent_Neural_Network(config.epoch, config.dropout, config.input_embedding_size, config.number_of_encoder_layers,config.number_of_decoder_layers, config.cell_type, config.learning_rate, config.optimiser_fn, config.activation_fn)  \n",
        "    return"
      ],
      "execution_count": null,
      "outputs": []
    },
    {
      "cell_type": "code",
      "metadata": {
        "id": "pc9c9Mrh3BRx"
      },
      "source": [
        ""
      ],
      "execution_count": null,
      "outputs": []
    },
    {
      "cell_type": "code",
      "metadata": {
        "id": "kvkXVjAv3BPV"
      },
      "source": [
        ""
      ],
      "execution_count": null,
      "outputs": []
    },
    {
      "cell_type": "code",
      "metadata": {
        "id": "drRTmGg13BMg"
      },
      "source": [
        ""
      ],
      "execution_count": null,
      "outputs": []
    },
    {
      "cell_type": "code",
      "metadata": {
        "id": "VmyBKt_z3BJ7"
      },
      "source": [
        ""
      ],
      "execution_count": null,
      "outputs": []
    },
    {
      "cell_type": "code",
      "metadata": {
        "id": "pK1c043-3BHY"
      },
      "source": [
        ""
      ],
      "execution_count": null,
      "outputs": []
    },
    {
      "cell_type": "code",
      "metadata": {
        "id": "I5JzL9543BFI"
      },
      "source": [
        ""
      ],
      "execution_count": null,
      "outputs": []
    },
    {
      "cell_type": "code",
      "metadata": {
        "id": "pNFuz9D33BCj"
      },
      "source": [
        ""
      ],
      "execution_count": null,
      "outputs": []
    },
    {
      "cell_type": "code",
      "metadata": {
        "id": "GIFzNw8-3A_9"
      },
      "source": [
        ""
      ],
      "execution_count": null,
      "outputs": []
    }
  ]
}