{
  "nbformat": 4,
  "nbformat_minor": 0,
  "metadata": {
    "colab": {
      "name": "NoAttention.ipynb",
      "provenance": [],
      "include_colab_link": true
    },
    "kernelspec": {
      "name": "python3",
      "display_name": "Python 3"
    },
    "language_info": {
      "name": "python"
    },
    "accelerator": "GPU"
  },
  "cells": [
    {
      "cell_type": "markdown",
      "metadata": {
        "id": "view-in-github",
        "colab_type": "text"
      },
      "source": [
        "<a href=\"https://colab.research.google.com/github/cs20m016/cs6910-Assignment-3/blob/main/NoAttention.ipynb\" target=\"_parent\"><img src=\"https://colab.research.google.com/assets/colab-badge.svg\" alt=\"Open In Colab\"/></a>"
      ]
    },
    {
      "cell_type": "code",
      "metadata": {
        "colab": {
          "base_uri": "https://localhost:8080/"
        },
        "id": "Ie0lVBFhufVa",
        "outputId": "abbdb1d7-7bbd-42f5-b554-4eb523301854"
      },
      "source": [
        "!pip install wandb -qq\n",
        "import wandb"
      ],
      "execution_count": 2,
      "outputs": [
        {
          "output_type": "stream",
          "text": [
            "\u001b[K     |████████████████████████████████| 1.8MB 7.3MB/s \n",
            "\u001b[K     |████████████████████████████████| 102kB 13.7MB/s \n",
            "\u001b[K     |████████████████████████████████| 133kB 56.2MB/s \n",
            "\u001b[K     |████████████████████████████████| 174kB 58.2MB/s \n",
            "\u001b[K     |████████████████████████████████| 71kB 12.4MB/s \n",
            "\u001b[?25h  Building wheel for subprocess32 (setup.py) ... \u001b[?25l\u001b[?25hdone\n",
            "  Building wheel for pathtools (setup.py) ... \u001b[?25l\u001b[?25hdone\n"
          ],
          "name": "stdout"
        }
      ]
    },
    {
      "cell_type": "code",
      "metadata": {
        "colab": {
          "base_uri": "https://localhost:8080/",
          "height": 69
        },
        "id": "DfZo9BSeun7Y",
        "outputId": "f945baf4-205e-415e-f8b0-6678d474df2e"
      },
      "source": [
        "wandb.login()"
      ],
      "execution_count": 3,
      "outputs": [
        {
          "output_type": "display_data",
          "data": {
            "application/javascript": [
              "\n",
              "        window._wandbApiKey = new Promise((resolve, reject) => {\n",
              "            function loadScript(url) {\n",
              "            return new Promise(function(resolve, reject) {\n",
              "                let newScript = document.createElement(\"script\");\n",
              "                newScript.onerror = reject;\n",
              "                newScript.onload = resolve;\n",
              "                document.body.appendChild(newScript);\n",
              "                newScript.src = url;\n",
              "            });\n",
              "            }\n",
              "            loadScript(\"https://cdn.jsdelivr.net/npm/postmate/build/postmate.min.js\").then(() => {\n",
              "            const iframe = document.createElement('iframe')\n",
              "            iframe.style.cssText = \"width:0;height:0;border:none\"\n",
              "            document.body.appendChild(iframe)\n",
              "            const handshake = new Postmate({\n",
              "                container: iframe,\n",
              "                url: 'https://wandb.ai/authorize'\n",
              "            });\n",
              "            const timeout = setTimeout(() => reject(\"Couldn't auto authenticate\"), 5000)\n",
              "            handshake.then(function(child) {\n",
              "                child.on('authorize', data => {\n",
              "                    clearTimeout(timeout)\n",
              "                    resolve(data)\n",
              "                });\n",
              "            });\n",
              "            })\n",
              "        });\n",
              "    "
            ],
            "text/plain": [
              "<IPython.core.display.Javascript object>"
            ]
          },
          "metadata": {
            "tags": []
          }
        },
        {
          "output_type": "stream",
          "text": [
            "\u001b[34m\u001b[1mwandb\u001b[0m: Appending key for api.wandb.ai to your netrc file: /root/.netrc\n"
          ],
          "name": "stderr"
        },
        {
          "output_type": "execute_result",
          "data": {
            "text/plain": [
              "True"
            ]
          },
          "metadata": {
            "tags": []
          },
          "execution_count": 3
        }
      ]
    },
    {
      "cell_type": "code",
      "metadata": {
        "colab": {
          "base_uri": "https://localhost:8080/"
        },
        "id": "AgnSS1xMmvQe",
        "outputId": "090cb07a-1e58-4804-fb6a-7e526a4f7940"
      },
      "source": [
        "from google.colab import drive\n",
        "drive.mount('/content/drive/')"
      ],
      "execution_count": 4,
      "outputs": [
        {
          "output_type": "stream",
          "text": [
            "Mounted at /content/drive/\n"
          ],
          "name": "stdout"
        }
      ]
    },
    {
      "cell_type": "code",
      "metadata": {
        "id": "Mh3mlBZDmzaR"
      },
      "source": [
        "!unzip /content/drive/MyDrive/lexicons.zip > /dev/null"
      ],
      "execution_count": 5,
      "outputs": []
    },
    {
      "cell_type": "code",
      "metadata": {
        "id": "4kJSFzx_m1j6"
      },
      "source": [
        "import numpy as np\n",
        "import tensorflow as tf\n",
        "from tensorflow import keras\n",
        "import random\n",
        "from keras.utils.vis_utils import plot_model"
      ],
      "execution_count": 6,
      "outputs": []
    },
    {
      "cell_type": "code",
      "metadata": {
        "id": "R323epWim3SC"
      },
      "source": [
        "# Path to the data txt file on disk.\n",
        "data_path = \"/content/lexicons/hi.translit.sampled.train.tsv\"\n",
        "val_path = \"/content/lexicons/hi.translit.sampled.dev.tsv\"\n",
        "test_path = \"/content/lexicons/hi.translit.sampled.test.tsv\""
      ],
      "execution_count": 7,
      "outputs": []
    },
    {
      "cell_type": "code",
      "metadata": {
        "id": "M50-Z7f4m5A3"
      },
      "source": [
        "input_texts = []\n",
        "target_texts = []\n",
        "input_characters = set()\n",
        "target_characters = set()\n",
        "with open(data_path, \"r\", encoding=\"utf-8\") as f:\n",
        "    lines = f.read().split(\"\\n\")\n",
        "for line in lines[: len(lines) - 1]:\n",
        "    target_text, input_text, _ = line.split(\"\\t\")\n",
        "    # We use \"tab\" as the \"start sequence\" character\n",
        "    # for the targets, and \"\\n\" as \"end sequence\" character.\n",
        "    target_text = \"\\t\" + target_text + \"\\n\"\n",
        "    input_texts.append(input_text)\n",
        "    target_texts.append(target_text)\n",
        "    for char in input_text:\n",
        "        if char not in input_characters:\n",
        "            input_characters.add(char)\n",
        "    for char in target_text:\n",
        "        if char not in target_characters:\n",
        "            target_characters.add(char)\n",
        "\n",
        "input_characters.add(\" \")\n",
        "target_characters.add(\" \")\n",
        "input_characters = sorted(list(input_characters))\n",
        "target_characters = sorted(list(target_characters))\n",
        "num_encoder_tokens = len(input_characters)\n",
        "num_decoder_tokens = len(target_characters)\n",
        "max_encoder_seq_length = max([len(txt) for txt in input_texts])\n",
        "max_decoder_seq_length = max([len(txt) for txt in target_texts])"
      ],
      "execution_count": 8,
      "outputs": []
    },
    {
      "cell_type": "code",
      "metadata": {
        "id": "eNZAYvzQm8Vg"
      },
      "source": [
        "val_input_texts = []\n",
        "val_target_texts = []\n",
        "\n",
        "with open(val_path, \"r\", encoding=\"utf-8\") as f:\n",
        "    lines = f.read().split(\"\\n\")\n",
        "for line in lines[: len(lines) - 1]:\n",
        "    target_text, input_text, _ = line.split(\"\\t\")\n",
        "    # We use \"tab\" as the \"start sequence\" character\n",
        "    # for the targets, and \"\\n\" as \"end sequence\" character.\n",
        "    target_text = \"\\t\" + target_text + \"\\n\"\n",
        "    val_input_texts.append(input_text)\n",
        "    val_target_texts.append(target_text)"
      ],
      "execution_count": 9,
      "outputs": []
    },
    {
      "cell_type": "code",
      "metadata": {
        "id": "MGVV_pj1m-Hn"
      },
      "source": [
        "test_input_texts = []\n",
        "test_target_texts = []\n",
        "\n",
        "with open(val_path, \"r\", encoding=\"utf-8\") as f:\n",
        "    lines = f.read().split(\"\\n\")\n",
        "for line in lines[: len(lines) - 1]:\n",
        "    target_text, input_text, _ = line.split(\"\\t\")\n",
        "    # We use \"tab\" as the \"start sequence\" character\n",
        "    # for the targets, and \"\\n\" as \"end sequence\" character.\n",
        "    test_input_texts.append(input_text)\n",
        "    test_target_texts.append(target_text)"
      ],
      "execution_count": 10,
      "outputs": []
    },
    {
      "cell_type": "code",
      "metadata": {
        "colab": {
          "base_uri": "https://localhost:8080/"
        },
        "id": "7BPIVi03m__C",
        "outputId": "85b5bdfa-13d0-403b-e1d7-3b9ec2fc2a91"
      },
      "source": [
        "print(\"Number of samples:\", len(input_texts))\n",
        "print(\"Number of validation samples:\", len(val_input_texts))\n",
        "print(\"Number of test samples:\", len(test_input_texts))\n",
        "print(\"Number of unique input tokens:\", num_encoder_tokens)\n",
        "print(\"Number of unique output tokens:\", num_decoder_tokens)\n",
        "print(\"Max sequence length for inputs:\", max_encoder_seq_length)\n",
        "print(\"Max sequence length for outputs:\", max_decoder_seq_length)"
      ],
      "execution_count": 11,
      "outputs": [
        {
          "output_type": "stream",
          "text": [
            "Number of samples: 44204\n",
            "Number of validation samples: 4358\n",
            "Number of test samples: 4358\n",
            "Number of unique input tokens: 27\n",
            "Number of unique output tokens: 66\n",
            "Max sequence length for inputs: 20\n",
            "Max sequence length for outputs: 21\n"
          ],
          "name": "stdout"
        }
      ]
    },
    {
      "cell_type": "code",
      "metadata": {
        "colab": {
          "base_uri": "https://localhost:8080/"
        },
        "id": "1a27f2DcnBt-",
        "outputId": "1b868da9-deb7-47d7-e068-dbfc4411510d"
      },
      "source": [
        "#Train Set\n",
        "for i in range (5):\n",
        "  index = random. randint(0,len(target_texts))\n",
        "  print(input_texts[index],target_texts[index])"
      ],
      "execution_count": 12,
      "outputs": [
        {
          "output_type": "stream",
          "text": [
            "madonna \tमडोना\n",
            "\n",
            "samvedak \tसंवेदक\n",
            "\n",
            "agrejon \tअग्रेजों\n",
            "\n",
            "sambadhi \tसंबधी\n",
            "\n",
            "aansuon \tआंसुओं\n",
            "\n"
          ],
          "name": "stdout"
        }
      ]
    },
    {
      "cell_type": "code",
      "metadata": {
        "colab": {
          "base_uri": "https://localhost:8080/"
        },
        "id": "8_Xk167znDXe",
        "outputId": "915f5664-6118-48ef-9dac-188d4a3793fb"
      },
      "source": [
        "#Validation Set\n",
        "for i in range (5):\n",
        "  index = random. randint(0,len(val_target_texts))\n",
        "  print(val_input_texts[index],val_target_texts[index])"
      ],
      "execution_count": 13,
      "outputs": [
        {
          "output_type": "stream",
          "text": [
            "jagkar \tजागकर\n",
            "\n",
            "niraj \tनीरज\n",
            "\n",
            "kamzoriyon \tकमज़ोरियों\n",
            "\n",
            "goyethe \tगोएथे\n",
            "\n",
            "jamshedpur \tजमशेदपुर\n",
            "\n"
          ],
          "name": "stdout"
        }
      ]
    },
    {
      "cell_type": "code",
      "metadata": {
        "id": "-a8LaoxKnFED"
      },
      "source": [
        "input_token_index = dict([(char, i) for i, char in enumerate(input_characters)])\n",
        "target_token_index = dict([(char, i) for i, char in enumerate(target_characters)])"
      ],
      "execution_count": 14,
      "outputs": []
    },
    {
      "cell_type": "code",
      "metadata": {
        "colab": {
          "base_uri": "https://localhost:8080/"
        },
        "id": "EdDNswManGtG",
        "outputId": "74110bab-25ab-4238-bb84-fab18a894f55"
      },
      "source": [
        "encoder_input_data = np.zeros((len(input_texts), max_encoder_seq_length, num_encoder_tokens), dtype=\"float32\")\n",
        "decoder_input_data = np.zeros((len(input_texts), max_decoder_seq_length, num_decoder_tokens), dtype=\"float32\")\n",
        "decoder_target_data = np.zeros((len(input_texts), max_decoder_seq_length, num_decoder_tokens), dtype=\"float32\")\n",
        "print(np.shape(encoder_input_data),np.shape(decoder_input_data),np.shape(decoder_target_data))"
      ],
      "execution_count": 15,
      "outputs": [
        {
          "output_type": "stream",
          "text": [
            "(44204, 20, 27) (44204, 21, 66) (44204, 21, 66)\n"
          ],
          "name": "stdout"
        }
      ]
    },
    {
      "cell_type": "code",
      "metadata": {
        "colab": {
          "base_uri": "https://localhost:8080/"
        },
        "id": "_ZifC9_SnIxV",
        "outputId": "64a576f5-cdca-439a-9b45-a5b345192091"
      },
      "source": [
        "val_encoder_input_data = np.zeros((len(val_input_texts), max_encoder_seq_length, num_encoder_tokens), dtype=\"float32\")\n",
        "val_decoder_input_data = np.zeros((len(val_input_texts), max_decoder_seq_length, num_decoder_tokens), dtype=\"float32\")\n",
        "val_decoder_target_data = np.zeros((len(val_input_texts), max_decoder_seq_length, num_decoder_tokens), dtype=\"float32\")\n",
        "print(np.shape(val_encoder_input_data),np.shape(val_decoder_input_data),np.shape(val_decoder_target_data))"
      ],
      "execution_count": 16,
      "outputs": [
        {
          "output_type": "stream",
          "text": [
            "(4358, 20, 27) (4358, 21, 66) (4358, 21, 66)\n"
          ],
          "name": "stdout"
        }
      ]
    },
    {
      "cell_type": "code",
      "metadata": {
        "colab": {
          "base_uri": "https://localhost:8080/"
        },
        "id": "5wtZseFrnLE6",
        "outputId": "5c43dedb-c0da-41bc-e027-1c8076ddfa69"
      },
      "source": [
        "test_encoder_input_data = np.zeros((len(test_input_texts), max_encoder_seq_length, num_encoder_tokens), dtype=\"float32\")\n",
        "print(np.shape(test_encoder_input_data))"
      ],
      "execution_count": 17,
      "outputs": [
        {
          "output_type": "stream",
          "text": [
            "(4358, 20, 27)\n"
          ],
          "name": "stdout"
        }
      ]
    },
    {
      "cell_type": "code",
      "metadata": {
        "id": "tm1p0F24nMrh"
      },
      "source": [
        "for i, (input_text, target_text) in enumerate(zip(input_texts, target_texts)):\n",
        "    for t, char in enumerate(input_text):\n",
        "        encoder_input_data[i, t, input_token_index[char]] = 1.0\n",
        "    encoder_input_data[i, t + 1 :, input_token_index[\" \"]] = 1.0\n",
        "    for t, char in enumerate(target_text):\n",
        "        # decoder_target_data is ahead of decoder_input_data by one timestep\n",
        "        decoder_input_data[i, t, target_token_index[char]] = 1.0\n",
        "        if t > 0:\n",
        "            # decoder_target_data will be ahead by one timestep\n",
        "            # and will not include the start character.\n",
        "            decoder_target_data[i, t - 1, target_token_index[char]] = 1.0\n",
        "    decoder_input_data[i, t + 1 :, target_token_index[\" \"]] = 1.0\n",
        "    decoder_target_data[i, t:, target_token_index[\" \"]] = 1.0"
      ],
      "execution_count": 18,
      "outputs": []
    },
    {
      "cell_type": "code",
      "metadata": {
        "id": "peHZ9ElMnOPM"
      },
      "source": [
        "for i, (val_input_text, val_target_text) in enumerate(zip(val_input_texts, val_target_texts)):\n",
        "    for t, char in enumerate(val_input_text):\n",
        "        val_encoder_input_data[i, t, input_token_index[char]] = 1.0\n",
        "    val_encoder_input_data[i, t + 1 :, input_token_index[\" \"]] = 1.0\n",
        "    for t, char in enumerate(val_target_text):\n",
        "        # decoder_target_data is ahead of decoder_input_data by one timestep\n",
        "        val_decoder_input_data[i, t, target_token_index[char]] = 1.0\n",
        "        if t > 0:\n",
        "            # decoder_target_data will be ahead by one timestep\n",
        "            # and will not include the start character.\n",
        "            val_decoder_target_data[i, t - 1, target_token_index[char]] = 1.0\n",
        "    val_decoder_input_data[i, t + 1 :, target_token_index[\" \"]] = 1.0\n",
        "    val_decoder_target_data[i, t:, target_token_index[\" \"]] = 1.0"
      ],
      "execution_count": 19,
      "outputs": []
    },
    {
      "cell_type": "code",
      "metadata": {
        "id": "PKNN00V9nQIJ"
      },
      "source": [
        "for i, (test_input_text, ) in enumerate(zip(test_input_texts, )):\n",
        "    for t, char in enumerate(test_input_text):\n",
        "        test_encoder_input_data[i, t, input_token_index[char]] = 1.0\n",
        "    test_encoder_input_data[i, t + 1 :, input_token_index[\" \"]] = 1.0"
      ],
      "execution_count": 20,
      "outputs": []
    },
    {
      "cell_type": "code",
      "metadata": {
        "id": "JBJ-FmqZxvCY"
      },
      "source": [
        "def RNN_model(epochs,latent_dim, batch_size, optimizer_fn, dropout, recc_dropout):\n",
        "  encoder_inputs = keras.Input(shape=(None, num_encoder_tokens))\n",
        "  encoder = keras.layers.SimpleRNN(latent_dim, return_state=True)\n",
        "  encoder_outputs, state_h = encoder(encoder_inputs)\n",
        "\n",
        "  decoder_inputs = keras.Input(shape=(None, num_decoder_tokens))\n",
        "  decoder_gru = keras.layers.SimpleRNN(latent_dim, return_sequences=True,return_state=True)\n",
        "  decoder_outputs,_ = decoder_gru(decoder_inputs, initial_state=state_h)\n",
        "  decoder_dense = keras.layers.Dense(num_decoder_tokens, activation='softmax')\n",
        "  decoder_outputs = decoder_dense(decoder_outputs)\n",
        "  model = keras.Model([encoder_inputs, decoder_inputs], decoder_outputs)\n",
        "  model.compile(optimizer=optimizer_fn, loss=\"categorical_crossentropy\", metrics=[\"accuracy\"])\n",
        "  model.fit([encoder_input_data, decoder_input_data], decoder_target_data, batch_size=batch_size, epochs=epochs, validation_data=([val_encoder_input_data, val_decoder_input_data],val_decoder_target_data))\n",
        "  encoder_inputs = model.input[0]  # input_1\n",
        "  encoder_outputs, state_h_enc = model.layers[2].output  # gru_1\n",
        "  encoder_model = keras.Model(encoder_inputs, state_h_enc)\n",
        "\n",
        "  decoder_inputs = model.input[1]  # input_2\n",
        "  decoder_state_input_h = keras.Input(shape=(latent_dim,))\n",
        "  decoder_gru = model.layers[3]\n",
        "  decoder_outputs, state_h_dec = decoder_gru(decoder_inputs, initial_state=decoder_state_input_h)\n",
        "  decoder_dense = model.layers[4]\n",
        "  decoder_outputs = decoder_dense(decoder_outputs)\n",
        "  decoder_model = keras.Model([decoder_inputs] + [decoder_state_input_h], [decoder_outputs] + [state_h_dec])\n",
        "  return model,encoder_model,decoder_model"
      ],
      "execution_count": 21,
      "outputs": []
    },
    {
      "cell_type": "code",
      "metadata": {
        "id": "lVupy23OvCow"
      },
      "source": [
        "def GRU_model(epochs,latent_dim, batch_size, optimizer_fn, dropout, recc_dropout):\n",
        "  encoder_inputs = keras.Input(shape=(None, num_encoder_tokens))\n",
        "  encoder = keras.layers.GRU(latent_dim, return_state=True)\n",
        "  encoder_outputs, state_h = encoder(encoder_inputs)\n",
        "\n",
        "  decoder_inputs = keras.Input(shape=(None, num_decoder_tokens))\n",
        "  decoder_gru = keras.layers.GRU(latent_dim, return_sequences=True,return_state=True)\n",
        "  decoder_outputs,_ = decoder_gru(decoder_inputs, initial_state=state_h)\n",
        "  decoder_dense = keras.layers.Dense(num_decoder_tokens, activation='softmax')\n",
        "  decoder_outputs = decoder_dense(decoder_outputs)\n",
        "  model = keras.Model([encoder_inputs, decoder_inputs], decoder_outputs)\n",
        "  model.compile(optimizer=optimizer_fn, loss=\"categorical_crossentropy\", metrics=[\"accuracy\"])\n",
        "  model.fit([encoder_input_data, decoder_input_data], decoder_target_data, batch_size=batch_size, epochs=epochs, validation_data=([val_encoder_input_data, val_decoder_input_data],val_decoder_target_data))\n",
        "  # Define sampling models GRU\n",
        "  # Restore the model and construct the encoder and decoder.\n",
        "  encoder_inputs = model.input[0]  # input_1\n",
        "  encoder_outputs, state_h_enc = model.layers[2].output  # gru_1\n",
        "  encoder_model = keras.Model(encoder_inputs, state_h_enc)\n",
        "\n",
        "  decoder_inputs = model.input[1]  # input_2\n",
        "  decoder_state_input_h = keras.Input(shape=(latent_dim,))\n",
        "  decoder_gru = model.layers[3]\n",
        "  decoder_outputs, state_h_dec = decoder_gru(decoder_inputs, initial_state=decoder_state_input_h)\n",
        "  decoder_dense = model.layers[4]\n",
        "  decoder_outputs = decoder_dense(decoder_outputs)\n",
        "  decoder_model = keras.Model([decoder_inputs] + [decoder_state_input_h], [decoder_outputs] + [state_h_dec])\n",
        "  return model,encoder_model,decoder_model"
      ],
      "execution_count": 22,
      "outputs": []
    },
    {
      "cell_type": "code",
      "metadata": {
        "id": "2-C8HoDxyG2j"
      },
      "source": [
        "def LSTM_model(epochs,latent_dim, batch_size, optimizer_fn, dropout, recc_dropout):\n",
        "  # Define an input sequence and process it.\n",
        "  encoder_inputs = keras.Input(shape=(None, num_encoder_tokens))\n",
        "  encoder = keras.layers.LSTM(latent_dim, return_state=True)\n",
        "  encoder_outputs, state_h, state_c = encoder(encoder_inputs)\n",
        "\n",
        "  # We discard `encoder_outputs` and only keep the states.\n",
        "  encoder_states = [state_h, state_c]\n",
        "\n",
        "  # Set up the decoder, using `encoder_states` as initial state.\n",
        "  decoder_inputs = keras.Input(shape=(None, num_decoder_tokens))\n",
        "\n",
        "  # We set up our decoder to return full output sequences,\n",
        "  # and to return internal states as well. We don't use the\n",
        "  # return states in the training model, but we will use them in inference.\n",
        "  decoder_lstm = keras.layers.LSTM(latent_dim, return_sequences=True, return_state=True)\n",
        "  decoder_outputs, _, _ = decoder_lstm(decoder_inputs, initial_state=encoder_states)\n",
        "  decoder_dense = keras.layers.Dense(num_decoder_tokens, activation=\"softmax\")\n",
        "  decoder_outputs = decoder_dense(decoder_outputs)\n",
        "  # Define the model that will turn\n",
        "  # `encoder_input_data` & `decoder_input_data` into `decoder_target_data`\n",
        "  model = keras.Model([encoder_inputs, decoder_inputs], decoder_outputs)\n",
        "  model.compile(optimizer=optimizer_fn, loss=\"categorical_crossentropy\", metrics=[\"accuracy\"])\n",
        "  model.fit([encoder_input_data, decoder_input_data], decoder_target_data, batch_size=batch_size, epochs=epochs, validation_data=([val_encoder_input_data, val_decoder_input_data],val_decoder_target_data))\n",
        "  # Define sampling models\n",
        "  # Restore the model and construct the encoder and decoder.\n",
        "  encoder_inputs = model.input[0]  # input_1\n",
        "  encoder_outputs, state_h_enc, state_c_enc = model.layers[2].output  # lstm_1\n",
        "  encoder_states = [state_h_enc, state_c_enc]\n",
        "  encoder_model = keras.Model(encoder_inputs, encoder_states)\n",
        "\n",
        "  decoder_inputs = model.input[1]  # input_2\n",
        "  decoder_state_input_h = keras.Input(shape=(latent_dim,))\n",
        "  decoder_state_input_c = keras.Input(shape=(latent_dim,))\n",
        "  decoder_states_inputs = [decoder_state_input_h, decoder_state_input_c]\n",
        "  decoder_lstm = model.layers[3]\n",
        "  decoder_outputs, state_h_dec, state_c_dec = decoder_lstm(decoder_inputs, initial_state=decoder_states_inputs)\n",
        "  decoder_states = [state_h_dec, state_c_dec]\n",
        "  decoder_dense = model.layers[4]\n",
        "  decoder_outputs = decoder_dense(decoder_outputs)\n",
        "  decoder_model = keras.Model([decoder_inputs] + decoder_states_inputs, [decoder_outputs] + decoder_states)\n",
        "  return model,encoder_model,decoder_model"
      ],
      "execution_count": 23,
      "outputs": []
    },
    {
      "cell_type": "code",
      "metadata": {
        "id": "mnphzqw_n9zD"
      },
      "source": [
        "reverse_input_char_index = dict((i, char) for char, i in input_token_index.items())\n",
        "reverse_target_char_index = dict((i, char) for char, i in target_token_index.items())"
      ],
      "execution_count": 24,
      "outputs": []
    },
    {
      "cell_type": "code",
      "metadata": {
        "id": "57BA0H7doALC"
      },
      "source": [
        "def decode_sequence(input_seq,encoder_model,decoder_model):\n",
        "    # Encode the input as state vectors.\n",
        "    states_value = encoder_model.predict(input_seq)\n",
        "\n",
        "    # Generate empty target sequence of length 1.\n",
        "    target_seq = np.zeros((1, 1, num_decoder_tokens))\n",
        "    # Populate the first character of target sequence with the start character.\n",
        "    target_seq[0, 0, target_token_index[\"\\t\"]] = 1.0\n",
        "\n",
        "    # Sampling loop for a batch of sequences\n",
        "    # (to simplify, here we assume a batch of size 1).\n",
        "    stop_condition = False\n",
        "    decoded_sentence = \"\"\n",
        "    while not stop_condition:\n",
        "        output_tokens, h = decoder_model.predict([target_seq] + [states_value])\n",
        "\n",
        "        # Sample a token\n",
        "        sampled_token_index = np.argmax(output_tokens[0, -1, :])\n",
        "        sampled_char = reverse_target_char_index[sampled_token_index]\n",
        "        decoded_sentence += sampled_char\n",
        "\n",
        "        # Exit condition: either hit max length\n",
        "        # or find stop character.\n",
        "        if sampled_char == \"\\n\" or len(decoded_sentence) > max_decoder_seq_length:\n",
        "            stop_condition = True\n",
        "\n",
        "        # Update the target sequence (of length 1).\n",
        "        target_seq = np.zeros((1, 1, num_decoder_tokens))\n",
        "        target_seq[0, 0, sampled_token_index] = 1.0\n",
        "\n",
        "        # Update states\n",
        "        states_value = h\n",
        "    return decoded_sentence"
      ],
      "execution_count": 25,
      "outputs": []
    },
    {
      "cell_type": "code",
      "metadata": {
        "id": "sch2rr6uwr5p"
      },
      "source": [
        "def decode_sequence_lstm(input_seq,encoder_model,decoder_model):\n",
        "    # Encode the input as state vectors.\n",
        "    states_value = encoder_model.predict(input_seq)\n",
        "\n",
        "    # Generate empty target sequence of length 1.\n",
        "    target_seq = np.zeros((1, 1, num_decoder_tokens))\n",
        "    # Populate the first character of target sequence with the start character.\n",
        "    target_seq[0, 0, target_token_index[\"\\t\"]] = 1.0\n",
        "\n",
        "    # Sampling loop for a batch of sequences\n",
        "    # (to simplify, here we assume a batch of size 1).\n",
        "    stop_condition = False\n",
        "    decoded_sentence = \"\"\n",
        "    while not stop_condition:\n",
        "        output_tokens, h, c = decoder_model.predict([target_seq] + states_value)\n",
        "\n",
        "        # Sample a token\n",
        "        sampled_token_index = np.argmax(output_tokens[0, -1, :])\n",
        "        sampled_char = reverse_target_char_index[sampled_token_index]\n",
        "        decoded_sentence += sampled_char\n",
        "\n",
        "        # Exit condition: either hit max length\n",
        "        # or find stop character.\n",
        "        if sampled_char == \"\\n\" or len(decoded_sentence) > max_decoder_seq_length:\n",
        "            stop_condition = True\n",
        "\n",
        "        # Update the target sequence (of length 1).\n",
        "        target_seq = np.zeros((1, 1, num_decoder_tokens))\n",
        "        target_seq[0, 0, sampled_token_index] = 1.0\n",
        "\n",
        "        # Update states\n",
        "        states_value = [h, c]\n",
        "    return decoded_sentence"
      ],
      "execution_count": 26,
      "outputs": []
    },
    {
      "cell_type": "code",
      "metadata": {
        "id": "KHBNMZrYvj8-"
      },
      "source": [
        "def Run(epochs,latent_dim, batch_size, dropout, recc_dropout, cell_type, optimizer_fn):\n",
        "  if cell_type=='LSTM':\n",
        "    model,encoder_model,decoder_model = LSTM_model(epochs,latent_dim, batch_size, optimizer_fn, dropout, recc_dropout)\n",
        "  elif cell_type=='GRU':\n",
        "    model,encoder_model,decoder_model = GRU_model(epochs,latent_dim, batch_size, optimizer_fn, dropout, recc_dropout)\n",
        "  elif cell_type=='RNN':\n",
        "    model,encoder_model,decoder_model = RNN_model(epochs,latent_dim, batch_size, optimizer_fn, dropout, recc_dropout)\n",
        "  valid = 0\n",
        "  samples=1000\n",
        "  for i in range(samples):\n",
        "      seq_index=random.randint(0,len(test_input_texts))\n",
        "      input_seq = test_encoder_input_data[seq_index : seq_index + 1]\n",
        "      if cell_type=='LSTM':\n",
        "        decoded_sentence = decode_sequence_lstm(input_seq,encoder_model,decoder_model)\n",
        "      else:\n",
        "        decoded_sentence = decode_sequence(input_seq,encoder_model,decoder_model)\n",
        "      flag=1\n",
        "      for (i,j) in zip(decoded_sentence,test_target_texts[seq_index]):\n",
        "        if i!=j:\n",
        "          flag=0\n",
        "          break\n",
        "      if flag==1:\n",
        "        valid += 1\n",
        "  return (valid/samples)*100"
      ],
      "execution_count": 27,
      "outputs": []
    },
    {
      "cell_type": "code",
      "metadata": {
        "id": "7HAGqLy2v3E2"
      },
      "source": [
        "sweep_config = {\n",
        "    'method': 'random',\n",
        "    'metric': {\n",
        "      'name': 'model_accuracy',\n",
        "      'goal': 'maximize'   \n",
        "    },\n",
        "    'parameters': {\n",
        "        'epoch': {\n",
        "            'values': [40]\n",
        "        },\n",
        "        'batch_size': {\n",
        "            'values': [64]\n",
        "        },\n",
        "        'dropout':{\n",
        "            'values': [0.1,0.01,0.0]\n",
        "        },\n",
        "        'recc_dropout':{\n",
        "            'values': [0.1,0.01,0.0]\n",
        "        },\n",
        "        'latent_dim':{\n",
        "            'values': [64,126,256]\n",
        "        },\n",
        "        'cell_type': {\n",
        "            'values':['LSTM','RNN','GRU']\n",
        "        },\n",
        "        'optimizer_fn': {\n",
        "            'values': ['adam','rmsprop']\n",
        "        }\n",
        "    }\n",
        "}"
      ],
      "execution_count": 28,
      "outputs": []
    },
    {
      "cell_type": "code",
      "metadata": {
        "colab": {
          "base_uri": "https://localhost:8080/"
        },
        "id": "grH1fqRFxG3I",
        "outputId": "1726f215-3f3e-421e-ce59-04a60dd960c7"
      },
      "source": [
        "sweep_id = wandb.sweep(sweep_config,entity=\"dl-assignment3\",project=\"NoAttention\")"
      ],
      "execution_count": 29,
      "outputs": [
        {
          "output_type": "stream",
          "text": [
            "Create sweep with ID: 0glucakm\n",
            "Sweep URL: https://wandb.ai/dl-assignment3/NoAttention/sweeps/0glucakm\n"
          ],
          "name": "stdout"
        }
      ]
    },
    {
      "cell_type": "code",
      "metadata": {
        "id": "JDrx7quYxKDx"
      },
      "source": [
        "def train():\n",
        "    config_defaults={\n",
        "        'epoch':10,\n",
        "        'batch_size':64,\n",
        "        'dropout':0.01,\n",
        "        'recc_dropout':0.1,\n",
        "        'cell_type':'LSTM',\n",
        "        'optimizer_fn':'rmsprop',\n",
        "        }\n",
        "    # Initialize a new wandb run\n",
        "    wandb.init(config=config_defaults)\n",
        "    # Config is a variable that holds and saves hyperparameters and inputs\n",
        "    config = wandb.config\n",
        "    model_acc=Run(config.epoch,config.latent_dim, config.batch_size,config.dropout, config.recc_dropout, config.cell_type, config.optimizer_fn)  \n",
        "    wandb.log({'model_accuracy': model_acc})\n",
        "    return"
      ],
      "execution_count": 30,
      "outputs": []
    },
    {
      "cell_type": "code",
      "metadata": {
        "colab": {
          "base_uri": "https://localhost:8080/",
          "height": 1000
        },
        "id": "skCiS9DBxLvX",
        "outputId": "cdba24ce-f8c8-4eff-b478-cd346135fc15"
      },
      "source": [
        "wandb.agent(sweep_id, train,count=3)"
      ],
      "execution_count": null,
      "outputs": [
        {
          "output_type": "stream",
          "text": [
            "\u001b[34m\u001b[1mwandb\u001b[0m: Agent Starting Run: 3ndmn1qb with config:\n",
            "\u001b[34m\u001b[1mwandb\u001b[0m: \tbatch_size: 64\n",
            "\u001b[34m\u001b[1mwandb\u001b[0m: \tcell_type: RNN\n",
            "\u001b[34m\u001b[1mwandb\u001b[0m: \tdropout: 0.1\n",
            "\u001b[34m\u001b[1mwandb\u001b[0m: \tepoch: 40\n",
            "\u001b[34m\u001b[1mwandb\u001b[0m: \tlatent_dim: 126\n",
            "\u001b[34m\u001b[1mwandb\u001b[0m: \toptimizer_fn: rmsprop\n",
            "\u001b[34m\u001b[1mwandb\u001b[0m: \trecc_dropout: 0.1\n",
            "\u001b[34m\u001b[1mwandb\u001b[0m: Currently logged in as: \u001b[33mathirapt\u001b[0m (use `wandb login --relogin` to force relogin)\n"
          ],
          "name": "stderr"
        },
        {
          "output_type": "display_data",
          "data": {
            "text/html": [
              "\n",
              "                Tracking run with wandb version 0.10.30<br/>\n",
              "                Syncing run <strong style=\"color:#cdcd00\">eternal-sweep-1</strong> to <a href=\"https://wandb.ai\" target=\"_blank\">Weights & Biases</a> <a href=\"https://docs.wandb.com/integrations/jupyter.html\" target=\"_blank\">(Documentation)</a>.<br/>\n",
              "                Project page: <a href=\"https://wandb.ai/dl-assignment3/NoAttention\" target=\"_blank\">https://wandb.ai/dl-assignment3/NoAttention</a><br/>\n",
              "                Sweep page: <a href=\"https://wandb.ai/dl-assignment3/NoAttention/sweeps/0glucakm\" target=\"_blank\">https://wandb.ai/dl-assignment3/NoAttention/sweeps/0glucakm</a><br/>\n",
              "Run page: <a href=\"https://wandb.ai/dl-assignment3/NoAttention/runs/3ndmn1qb\" target=\"_blank\">https://wandb.ai/dl-assignment3/NoAttention/runs/3ndmn1qb</a><br/>\n",
              "                Run data is saved locally in <code>/content/wandb/run-20210523_075444-3ndmn1qb</code><br/><br/>\n",
              "            "
            ],
            "text/plain": [
              "<IPython.core.display.HTML object>"
            ]
          },
          "metadata": {
            "tags": []
          }
        },
        {
          "output_type": "stream",
          "text": [
            "Epoch 1/40\n",
            "691/691 [==============================] - 23s 27ms/step - loss: 1.1825 - accuracy: 0.7209 - val_loss: 0.6515 - val_accuracy: 0.8266\n",
            "Epoch 2/40\n",
            "691/691 [==============================] - 18s 25ms/step - loss: 0.6362 - accuracy: 0.8266 - val_loss: 0.5724 - val_accuracy: 0.8412\n",
            "Epoch 3/40\n",
            "691/691 [==============================] - 18s 26ms/step - loss: 0.5409 - accuracy: 0.8469 - val_loss: 0.4909 - val_accuracy: 0.8608\n",
            "Epoch 4/40\n",
            "691/691 [==============================] - 18s 26ms/step - loss: 0.4849 - accuracy: 0.8594 - val_loss: 0.4606 - val_accuracy: 0.8670\n",
            "Epoch 5/40\n",
            "691/691 [==============================] - 18s 26ms/step - loss: 0.4492 - accuracy: 0.8673 - val_loss: 0.4517 - val_accuracy: 0.8665\n",
            "Epoch 6/40\n",
            "691/691 [==============================] - 18s 26ms/step - loss: 0.4221 - accuracy: 0.8739 - val_loss: 0.4546 - val_accuracy: 0.8653\n",
            "Epoch 7/40\n",
            "691/691 [==============================] - 18s 26ms/step - loss: 0.3987 - accuracy: 0.8797 - val_loss: 0.4171 - val_accuracy: 0.8773\n",
            "Epoch 8/40\n",
            "691/691 [==============================] - 18s 26ms/step - loss: 0.3818 - accuracy: 0.8837 - val_loss: 0.4010 - val_accuracy: 0.8812\n",
            "Epoch 9/40\n",
            "691/691 [==============================] - 18s 26ms/step - loss: 0.3705 - accuracy: 0.8869 - val_loss: 0.3877 - val_accuracy: 0.8847\n",
            "Epoch 10/40\n",
            "691/691 [==============================] - 18s 26ms/step - loss: 0.3573 - accuracy: 0.8908 - val_loss: 0.3674 - val_accuracy: 0.8895\n",
            "Epoch 11/40\n",
            "691/691 [==============================] - 19s 27ms/step - loss: 0.3462 - accuracy: 0.8936 - val_loss: 0.3571 - val_accuracy: 0.8917\n",
            "Epoch 12/40\n",
            "691/691 [==============================] - 18s 27ms/step - loss: 0.3374 - accuracy: 0.8955 - val_loss: 0.3894 - val_accuracy: 0.8838\n",
            "Epoch 13/40\n",
            "691/691 [==============================] - 18s 26ms/step - loss: 0.3324 - accuracy: 0.8973 - val_loss: 0.3678 - val_accuracy: 0.8902\n",
            "Epoch 14/40\n",
            "691/691 [==============================] - 18s 26ms/step - loss: 0.3234 - accuracy: 0.8996 - val_loss: 0.3480 - val_accuracy: 0.8943\n",
            "Epoch 15/40\n",
            "691/691 [==============================] - 18s 26ms/step - loss: 0.3166 - accuracy: 0.9017 - val_loss: 0.3371 - val_accuracy: 0.8968\n",
            "Epoch 16/40\n",
            "691/691 [==============================] - 18s 26ms/step - loss: 0.3142 - accuracy: 0.9024 - val_loss: 0.3382 - val_accuracy: 0.8973\n",
            "Epoch 17/40\n",
            "691/691 [==============================] - 18s 26ms/step - loss: 0.3058 - accuracy: 0.9050 - val_loss: 0.3382 - val_accuracy: 0.8974\n",
            "Epoch 18/40\n",
            "691/691 [==============================] - 18s 26ms/step - loss: 0.3064 - accuracy: 0.9046 - val_loss: 0.3429 - val_accuracy: 0.8961\n",
            "Epoch 19/40\n",
            "691/691 [==============================] - 18s 26ms/step - loss: 0.3012 - accuracy: 0.9062 - val_loss: 0.3339 - val_accuracy: 0.8998\n",
            "Epoch 20/40\n",
            "691/691 [==============================] - 18s 26ms/step - loss: 0.2964 - accuracy: 0.9073 - val_loss: 0.3166 - val_accuracy: 0.9057\n",
            "Epoch 21/40\n",
            "691/691 [==============================] - 18s 26ms/step - loss: 0.2921 - accuracy: 0.9090 - val_loss: 0.3483 - val_accuracy: 0.8943\n",
            "Epoch 22/40\n",
            "691/691 [==============================] - 18s 26ms/step - loss: 0.2877 - accuracy: 0.9097 - val_loss: 0.3349 - val_accuracy: 0.8990\n",
            "Epoch 23/40\n",
            "691/691 [==============================] - 18s 26ms/step - loss: 0.2853 - accuracy: 0.9107 - val_loss: 0.3193 - val_accuracy: 0.9038\n",
            "Epoch 24/40\n",
            "691/691 [==============================] - 18s 26ms/step - loss: 0.2814 - accuracy: 0.9112 - val_loss: 0.3386 - val_accuracy: 0.8977\n",
            "Epoch 25/40\n",
            "691/691 [==============================] - 18s 26ms/step - loss: 0.2797 - accuracy: 0.9120 - val_loss: 0.3051 - val_accuracy: 0.9078\n",
            "Epoch 26/40\n",
            "691/691 [==============================] - 18s 26ms/step - loss: 0.2752 - accuracy: 0.9137 - val_loss: 0.3246 - val_accuracy: 0.9011\n",
            "Epoch 27/40\n",
            "691/691 [==============================] - 18s 27ms/step - loss: 0.2719 - accuracy: 0.9143 - val_loss: 0.3172 - val_accuracy: 0.9050\n",
            "Epoch 28/40\n",
            "632/691 [==========================>...] - ETA: 1s - loss: 0.2709 - accuracy: 0.9141"
          ],
          "name": "stdout"
        }
      ]
    }
  ]
}