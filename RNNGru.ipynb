{
  "nbformat": 4,
  "nbformat_minor": 0,
  "metadata": {
    "colab": {
      "name": "RNNGru.ipynb",
      "provenance": [],
      "authorship_tag": "ABX9TyN66ITiAakksLy9f1w7r/ad",
      "include_colab_link": true
    },
    "kernelspec": {
      "name": "python3",
      "display_name": "Python 3"
    },
    "language_info": {
      "name": "python"
    },
    "accelerator": "GPU"
  },
  "cells": [
    {
      "cell_type": "markdown",
      "metadata": {
        "id": "view-in-github",
        "colab_type": "text"
      },
      "source": [
        "<a href=\"https://colab.research.google.com/github/cs20m016/cs6910-Assignment-3/blob/main/RNNGru.ipynb\" target=\"_parent\"><img src=\"https://colab.research.google.com/assets/colab-badge.svg\" alt=\"Open In Colab\"/></a>"
      ]
    },
    {
      "cell_type": "code",
      "metadata": {
        "colab": {
          "base_uri": "https://localhost:8080/"
        },
        "id": "AgnSS1xMmvQe",
        "outputId": "51b2535c-37a2-4a63-aed2-4ee4f56daf84"
      },
      "source": [
        "from google.colab import drive\n",
        "drive.mount('/content/drive/')"
      ],
      "execution_count": 1,
      "outputs": [
        {
          "output_type": "stream",
          "text": [
            "Mounted at /content/drive/\n"
          ],
          "name": "stdout"
        }
      ]
    },
    {
      "cell_type": "code",
      "metadata": {
        "id": "Mh3mlBZDmzaR"
      },
      "source": [
        "!unzip /content/drive/MyDrive/lexicons.zip > /dev/null"
      ],
      "execution_count": 2,
      "outputs": []
    },
    {
      "cell_type": "code",
      "metadata": {
        "id": "4kJSFzx_m1j6"
      },
      "source": [
        "import numpy as np\n",
        "import tensorflow as tf\n",
        "from tensorflow import keras\n",
        "import random\n",
        "from keras.utils.vis_utils import plot_model"
      ],
      "execution_count": 3,
      "outputs": []
    },
    {
      "cell_type": "code",
      "metadata": {
        "id": "R323epWim3SC"
      },
      "source": [
        "# Path to the data txt file on disk.\n",
        "data_path = \"/content/lexicons/hi.translit.sampled.train.tsv\"\n",
        "val_path = \"/content/lexicons/hi.translit.sampled.dev.tsv\"\n",
        "test_path = \"/content/lexicons/hi.translit.sampled.test.tsv\""
      ],
      "execution_count": 4,
      "outputs": []
    },
    {
      "cell_type": "code",
      "metadata": {
        "id": "M50-Z7f4m5A3"
      },
      "source": [
        "input_texts = []\n",
        "target_texts = []\n",
        "input_characters = set()\n",
        "target_characters = set()\n",
        "with open(data_path, \"r\", encoding=\"utf-8\") as f:\n",
        "    lines = f.read().split(\"\\n\")\n",
        "for line in lines[: len(lines) - 1]:\n",
        "    target_text, input_text, _ = line.split(\"\\t\")\n",
        "    # We use \"tab\" as the \"start sequence\" character\n",
        "    # for the targets, and \"\\n\" as \"end sequence\" character.\n",
        "    target_text = \"\\t\" + target_text + \"\\n\"\n",
        "    input_texts.append(input_text)\n",
        "    target_texts.append(target_text)\n",
        "    for char in input_text:\n",
        "        if char not in input_characters:\n",
        "            input_characters.add(char)\n",
        "    for char in target_text:\n",
        "        if char not in target_characters:\n",
        "            target_characters.add(char)\n",
        "\n",
        "input_characters.add(\" \")\n",
        "target_characters.add(\" \")\n",
        "input_characters = sorted(list(input_characters))\n",
        "target_characters = sorted(list(target_characters))\n",
        "num_encoder_tokens = len(input_characters)\n",
        "num_decoder_tokens = len(target_characters)\n",
        "max_encoder_seq_length = max([len(txt) for txt in input_texts])\n",
        "max_decoder_seq_length = max([len(txt) for txt in target_texts])"
      ],
      "execution_count": 5,
      "outputs": []
    },
    {
      "cell_type": "code",
      "metadata": {
        "id": "eNZAYvzQm8Vg"
      },
      "source": [
        "val_input_texts = []\n",
        "val_target_texts = []\n",
        "\n",
        "with open(val_path, \"r\", encoding=\"utf-8\") as f:\n",
        "    lines = f.read().split(\"\\n\")\n",
        "for line in lines[: len(lines) - 1]:\n",
        "    target_text, input_text, _ = line.split(\"\\t\")\n",
        "    # We use \"tab\" as the \"start sequence\" character\n",
        "    # for the targets, and \"\\n\" as \"end sequence\" character.\n",
        "    target_text = \"\\t\" + target_text + \"\\n\"\n",
        "    val_input_texts.append(input_text)\n",
        "    val_target_texts.append(target_text)"
      ],
      "execution_count": 6,
      "outputs": []
    },
    {
      "cell_type": "code",
      "metadata": {
        "id": "MGVV_pj1m-Hn"
      },
      "source": [
        "test_input_texts = []\n",
        "test_target_texts = []\n",
        "\n",
        "with open(test_path, \"r\", encoding=\"utf-8\") as f:\n",
        "    lines = f.read().split(\"\\n\")\n",
        "for line in lines[: len(lines) - 1]:\n",
        "    target_text, input_text, _ = line.split(\"\\t\")\n",
        "    # We use \"tab\" as the \"start sequence\" character\n",
        "    # for the targets, and \"\\n\" as \"end sequence\" character.\n",
        "    test_input_texts.append(input_text)\n",
        "    test_target_texts.append(target_text)"
      ],
      "execution_count": 7,
      "outputs": []
    },
    {
      "cell_type": "code",
      "metadata": {
        "colab": {
          "base_uri": "https://localhost:8080/"
        },
        "id": "7BPIVi03m__C",
        "outputId": "febdfbb3-c867-45d9-b606-3a46b533fb68"
      },
      "source": [
        "print(\"Number of samples:\", len(input_texts))\n",
        "print(\"Number of validation samples:\", len(val_input_texts))\n",
        "print(\"Number of test samples:\", len(test_input_texts))\n",
        "print(\"Number of unique input tokens:\", num_encoder_tokens)\n",
        "print(\"Number of unique output tokens:\", num_decoder_tokens)\n",
        "print(\"Max sequence length for inputs:\", max_encoder_seq_length)\n",
        "print(\"Max sequence length for outputs:\", max_decoder_seq_length)"
      ],
      "execution_count": 8,
      "outputs": [
        {
          "output_type": "stream",
          "text": [
            "Number of samples: 44204\n",
            "Number of validation samples: 4358\n",
            "Number of test samples: 4502\n",
            "Number of unique input tokens: 27\n",
            "Number of unique output tokens: 66\n",
            "Max sequence length for inputs: 20\n",
            "Max sequence length for outputs: 21\n"
          ],
          "name": "stdout"
        }
      ]
    },
    {
      "cell_type": "code",
      "metadata": {
        "colab": {
          "base_uri": "https://localhost:8080/"
        },
        "id": "1a27f2DcnBt-",
        "outputId": "8006c334-820c-4bf0-bf2a-b1c14764c709"
      },
      "source": [
        "#Train Set\n",
        "for i in range (5):\n",
        "  index = random. randint(0,len(target_texts))\n",
        "  print(input_texts[index],target_texts[index])"
      ],
      "execution_count": 9,
      "outputs": [
        {
          "output_type": "stream",
          "text": [
            "devil \tडेविल\n",
            "\n",
            "riwaajon \tरिवाजों\n",
            "\n",
            "navikaraniya \tनवीकरणीय\n",
            "\n",
            "protective \tप्रोटेक्टिव\n",
            "\n",
            "adob \tएडोब\n",
            "\n"
          ],
          "name": "stdout"
        }
      ]
    },
    {
      "cell_type": "code",
      "metadata": {
        "colab": {
          "base_uri": "https://localhost:8080/"
        },
        "id": "8_Xk167znDXe",
        "outputId": "d26cd48b-a545-47f7-af93-8bd58a0a6cfe"
      },
      "source": [
        "#Validation Set\n",
        "for i in range (5):\n",
        "  index = random. randint(0,len(val_target_texts))\n",
        "  print(val_input_texts[index],val_target_texts[index])"
      ],
      "execution_count": 10,
      "outputs": [
        {
          "output_type": "stream",
          "text": [
            "sanskrutnishth \tसंस्कृतनिष्ठ\n",
            "\n",
            "katlaa \tकतला\n",
            "\n",
            "parnana \tपरनाना\n",
            "\n",
            "badhaiya \tबधाईयां\n",
            "\n",
            "fog \tफोग\n",
            "\n"
          ],
          "name": "stdout"
        }
      ]
    },
    {
      "cell_type": "code",
      "metadata": {
        "id": "-a8LaoxKnFED"
      },
      "source": [
        "input_token_index = dict([(char, i) for i, char in enumerate(input_characters)])\n",
        "target_token_index = dict([(char, i) for i, char in enumerate(target_characters)])"
      ],
      "execution_count": 11,
      "outputs": []
    },
    {
      "cell_type": "code",
      "metadata": {
        "colab": {
          "base_uri": "https://localhost:8080/"
        },
        "id": "EdDNswManGtG",
        "outputId": "663a84ba-1f03-4c66-a16b-1e8e6e86961b"
      },
      "source": [
        "encoder_input_data = np.zeros((len(input_texts), max_encoder_seq_length, num_encoder_tokens), dtype=\"float32\")\n",
        "decoder_input_data = np.zeros((len(input_texts), max_decoder_seq_length, num_decoder_tokens), dtype=\"float32\")\n",
        "decoder_target_data = np.zeros((len(input_texts), max_decoder_seq_length, num_decoder_tokens), dtype=\"float32\")\n",
        "print(np.shape(encoder_input_data),np.shape(decoder_input_data),np.shape(decoder_target_data))"
      ],
      "execution_count": 12,
      "outputs": [
        {
          "output_type": "stream",
          "text": [
            "(44204, 20, 27) (44204, 21, 66) (44204, 21, 66)\n"
          ],
          "name": "stdout"
        }
      ]
    },
    {
      "cell_type": "code",
      "metadata": {
        "colab": {
          "base_uri": "https://localhost:8080/"
        },
        "id": "_ZifC9_SnIxV",
        "outputId": "2cc45a9f-db18-44c2-ab42-67ed13e4bf6f"
      },
      "source": [
        "val_encoder_input_data = np.zeros((len(val_input_texts), max_encoder_seq_length, num_encoder_tokens), dtype=\"float32\")\n",
        "val_decoder_input_data = np.zeros((len(val_input_texts), max_decoder_seq_length, num_decoder_tokens), dtype=\"float32\")\n",
        "val_decoder_target_data = np.zeros((len(val_input_texts), max_decoder_seq_length, num_decoder_tokens), dtype=\"float32\")\n",
        "print(np.shape(val_encoder_input_data),np.shape(val_decoder_input_data),np.shape(val_decoder_target_data))"
      ],
      "execution_count": 13,
      "outputs": [
        {
          "output_type": "stream",
          "text": [
            "(4358, 20, 27) (4358, 21, 66) (4358, 21, 66)\n"
          ],
          "name": "stdout"
        }
      ]
    },
    {
      "cell_type": "code",
      "metadata": {
        "colab": {
          "base_uri": "https://localhost:8080/"
        },
        "id": "5wtZseFrnLE6",
        "outputId": "dca53b94-61c4-444f-e45a-d339acb624f4"
      },
      "source": [
        "test_encoder_input_data = np.zeros((len(test_input_texts), max_encoder_seq_length, num_encoder_tokens), dtype=\"float32\")\n",
        "print(np.shape(test_encoder_input_data))"
      ],
      "execution_count": 14,
      "outputs": [
        {
          "output_type": "stream",
          "text": [
            "(4502, 20, 27)\n"
          ],
          "name": "stdout"
        }
      ]
    },
    {
      "cell_type": "code",
      "metadata": {
        "id": "tm1p0F24nMrh"
      },
      "source": [
        "for i, (input_text, target_text) in enumerate(zip(input_texts, target_texts)):\n",
        "    for t, char in enumerate(input_text):\n",
        "        encoder_input_data[i, t, input_token_index[char]] = 1.0\n",
        "    encoder_input_data[i, t + 1 :, input_token_index[\" \"]] = 1.0\n",
        "    for t, char in enumerate(target_text):\n",
        "        # decoder_target_data is ahead of decoder_input_data by one timestep\n",
        "        decoder_input_data[i, t, target_token_index[char]] = 1.0\n",
        "        if t > 0:\n",
        "            # decoder_target_data will be ahead by one timestep\n",
        "            # and will not include the start character.\n",
        "            decoder_target_data[i, t - 1, target_token_index[char]] = 1.0\n",
        "    decoder_input_data[i, t + 1 :, target_token_index[\" \"]] = 1.0\n",
        "    decoder_target_data[i, t:, target_token_index[\" \"]] = 1.0"
      ],
      "execution_count": 15,
      "outputs": []
    },
    {
      "cell_type": "code",
      "metadata": {
        "id": "peHZ9ElMnOPM"
      },
      "source": [
        "for i, (val_input_text, val_target_text) in enumerate(zip(val_input_texts, val_target_texts)):\n",
        "    for t, char in enumerate(val_input_text):\n",
        "        val_encoder_input_data[i, t, input_token_index[char]] = 1.0\n",
        "    val_encoder_input_data[i, t + 1 :, input_token_index[\" \"]] = 1.0\n",
        "    for t, char in enumerate(val_target_text):\n",
        "        # decoder_target_data is ahead of decoder_input_data by one timestep\n",
        "        val_decoder_input_data[i, t, target_token_index[char]] = 1.0\n",
        "        if t > 0:\n",
        "            # decoder_target_data will be ahead by one timestep\n",
        "            # and will not include the start character.\n",
        "            val_decoder_target_data[i, t - 1, target_token_index[char]] = 1.0\n",
        "    val_decoder_input_data[i, t + 1 :, target_token_index[\" \"]] = 1.0\n",
        "    val_decoder_target_data[i, t:, target_token_index[\" \"]] = 1.0"
      ],
      "execution_count": 16,
      "outputs": []
    },
    {
      "cell_type": "code",
      "metadata": {
        "id": "PKNN00V9nQIJ"
      },
      "source": [
        "for i, (test_input_text, ) in enumerate(zip(test_input_texts, )):\n",
        "    for t, char in enumerate(test_input_text):\n",
        "        test_encoder_input_data[i, t, input_token_index[char]] = 1.0\n",
        "    test_encoder_input_data[i, t + 1 :, input_token_index[\" \"]] = 1.0"
      ],
      "execution_count": 17,
      "outputs": []
    },
    {
      "cell_type": "code",
      "metadata": {
        "id": "hjMfQdhLnVIs"
      },
      "source": [
        "batch_size = 64  # Batch size for training.\n",
        "epochs = 40  # Number of epochs to train for.\n",
        "latent_dim = 256  # Latent dimensionality of the encoding space.\n",
        "num_samples = 10000  # Number of samples to train on.\n",
        "dropout=0.2\n",
        "recc_dropout=0.2"
      ],
      "execution_count": 36,
      "outputs": []
    },
    {
      "cell_type": "code",
      "metadata": {
        "id": "vbbK5q3Bqtam"
      },
      "source": [
        "encoder_inputs = keras.Input(shape=(None, num_encoder_tokens))\n",
        "encoder = keras.layers.GRU(latent_dim, return_state=True,dropout=dropout,recurrent_dropout=recc_dropout)\n",
        "encoder_outputs, state_h = encoder(encoder_inputs)\n",
        "\n",
        "decoder_inputs = keras.Input(shape=(None, num_decoder_tokens))\n",
        "decoder_gru = keras.layers.GRU(latent_dim, return_sequences=True,return_state=True,dropout=dropout,recurrent_dropout=recc_dropout)\n",
        "decoder_outputs,_ = decoder_gru(decoder_inputs, initial_state=state_h)\n",
        "decoder_dense = keras.layers.Dense(num_decoder_tokens, activation='softmax')\n",
        "decoder_outputs = decoder_dense(decoder_outputs)\n",
        "model = keras.Model([encoder_inputs, decoder_inputs], decoder_outputs)"
      ],
      "execution_count": 37,
      "outputs": []
    },
    {
      "cell_type": "code",
      "metadata": {
        "colab": {
          "base_uri": "https://localhost:8080/"
        },
        "id": "k55qPzP-nW1P",
        "outputId": "3823003b-f53b-4051-9c53-2ca58e0b662f"
      },
      "source": [
        "model.compile(optimizer=\"rmsprop\", loss=\"categorical_crossentropy\", metrics=[\"accuracy\"])\n",
        "model.fit([encoder_input_data, decoder_input_data], decoder_target_data, batch_size=batch_size, epochs=epochs, validation_data=([val_encoder_input_data, val_decoder_input_data],val_decoder_target_data))"
      ],
      "execution_count": 38,
      "outputs": [
        {
          "output_type": "stream",
          "text": [
            "Epoch 1/40\n",
            "691/691 [==============================] - 19s 23ms/step - loss: 1.2349 - accuracy: 0.7079 - val_loss: 0.7873 - val_accuracy: 0.7789\n",
            "Epoch 2/40\n",
            "691/691 [==============================] - 15s 21ms/step - loss: 0.7861 - accuracy: 0.7792 - val_loss: 0.6877 - val_accuracy: 0.8042\n",
            "Epoch 3/40\n",
            "691/691 [==============================] - 14s 21ms/step - loss: 0.6743 - accuracy: 0.8082 - val_loss: 0.5850 - val_accuracy: 0.8309\n",
            "Epoch 4/40\n",
            "691/691 [==============================] - 14s 21ms/step - loss: 0.5700 - accuracy: 0.8335 - val_loss: 0.4790 - val_accuracy: 0.8568\n",
            "Epoch 5/40\n",
            "691/691 [==============================] - 15s 21ms/step - loss: 0.4546 - accuracy: 0.8637 - val_loss: 0.3950 - val_accuracy: 0.8800\n",
            "Epoch 6/40\n",
            "691/691 [==============================] - 15s 21ms/step - loss: 0.3585 - accuracy: 0.8908 - val_loss: 0.3280 - val_accuracy: 0.8992\n",
            "Epoch 7/40\n",
            "691/691 [==============================] - 15s 21ms/step - loss: 0.2814 - accuracy: 0.9130 - val_loss: 0.2763 - val_accuracy: 0.9152\n",
            "Epoch 8/40\n",
            "691/691 [==============================] - 15s 21ms/step - loss: 0.2330 - accuracy: 0.9280 - val_loss: 0.2528 - val_accuracy: 0.9211\n",
            "Epoch 9/40\n",
            "691/691 [==============================] - 14s 21ms/step - loss: 0.1989 - accuracy: 0.9381 - val_loss: 0.2326 - val_accuracy: 0.9292\n",
            "Epoch 10/40\n",
            "691/691 [==============================] - 14s 21ms/step - loss: 0.1737 - accuracy: 0.9462 - val_loss: 0.2262 - val_accuracy: 0.9302\n",
            "Epoch 11/40\n",
            "691/691 [==============================] - 14s 21ms/step - loss: 0.1523 - accuracy: 0.9524 - val_loss: 0.2139 - val_accuracy: 0.9339\n",
            "Epoch 12/40\n",
            "691/691 [==============================] - 14s 21ms/step - loss: 0.1354 - accuracy: 0.9576 - val_loss: 0.2079 - val_accuracy: 0.9370\n",
            "Epoch 13/40\n",
            "691/691 [==============================] - 14s 21ms/step - loss: 0.1220 - accuracy: 0.9620 - val_loss: 0.2075 - val_accuracy: 0.9374\n",
            "Epoch 14/40\n",
            "691/691 [==============================] - 14s 21ms/step - loss: 0.1094 - accuracy: 0.9661 - val_loss: 0.2023 - val_accuracy: 0.9397\n",
            "Epoch 15/40\n",
            "691/691 [==============================] - 14s 21ms/step - loss: 0.0987 - accuracy: 0.9695 - val_loss: 0.2054 - val_accuracy: 0.9392\n",
            "Epoch 16/40\n",
            "691/691 [==============================] - 14s 21ms/step - loss: 0.0903 - accuracy: 0.9718 - val_loss: 0.2046 - val_accuracy: 0.9408\n",
            "Epoch 17/40\n",
            "691/691 [==============================] - 14s 21ms/step - loss: 0.0808 - accuracy: 0.9750 - val_loss: 0.2098 - val_accuracy: 0.9396\n",
            "Epoch 18/40\n",
            "691/691 [==============================] - 14s 21ms/step - loss: 0.0740 - accuracy: 0.9770 - val_loss: 0.2116 - val_accuracy: 0.9405\n",
            "Epoch 19/40\n",
            "691/691 [==============================] - 14s 21ms/step - loss: 0.0680 - accuracy: 0.9788 - val_loss: 0.2149 - val_accuracy: 0.9401\n",
            "Epoch 20/40\n",
            "691/691 [==============================] - 14s 21ms/step - loss: 0.0626 - accuracy: 0.9811 - val_loss: 0.2201 - val_accuracy: 0.9407\n",
            "Epoch 21/40\n",
            "691/691 [==============================] - 14s 21ms/step - loss: 0.0570 - accuracy: 0.9824 - val_loss: 0.2213 - val_accuracy: 0.9405\n",
            "Epoch 22/40\n",
            "691/691 [==============================] - 14s 21ms/step - loss: 0.0534 - accuracy: 0.9836 - val_loss: 0.2293 - val_accuracy: 0.9400\n",
            "Epoch 23/40\n",
            "691/691 [==============================] - 14s 21ms/step - loss: 0.0492 - accuracy: 0.9850 - val_loss: 0.2358 - val_accuracy: 0.9393\n",
            "Epoch 24/40\n",
            "691/691 [==============================] - 14s 21ms/step - loss: 0.0466 - accuracy: 0.9857 - val_loss: 0.2361 - val_accuracy: 0.9396\n",
            "Epoch 25/40\n",
            "691/691 [==============================] - 14s 21ms/step - loss: 0.0431 - accuracy: 0.9868 - val_loss: 0.2402 - val_accuracy: 0.9399\n",
            "Epoch 26/40\n",
            "691/691 [==============================] - 14s 21ms/step - loss: 0.0402 - accuracy: 0.9876 - val_loss: 0.2474 - val_accuracy: 0.9393\n",
            "Epoch 27/40\n",
            "691/691 [==============================] - 14s 21ms/step - loss: 0.0378 - accuracy: 0.9883 - val_loss: 0.2484 - val_accuracy: 0.9391\n",
            "Epoch 28/40\n",
            "691/691 [==============================] - 14s 21ms/step - loss: 0.0353 - accuracy: 0.9891 - val_loss: 0.2530 - val_accuracy: 0.9394\n",
            "Epoch 29/40\n",
            "691/691 [==============================] - 14s 21ms/step - loss: 0.0340 - accuracy: 0.9895 - val_loss: 0.2591 - val_accuracy: 0.9390\n",
            "Epoch 30/40\n",
            "691/691 [==============================] - 14s 21ms/step - loss: 0.0325 - accuracy: 0.9900 - val_loss: 0.2638 - val_accuracy: 0.9389\n",
            "Epoch 31/40\n",
            "691/691 [==============================] - 14s 20ms/step - loss: 0.0305 - accuracy: 0.9906 - val_loss: 0.2647 - val_accuracy: 0.9390\n",
            "Epoch 32/40\n",
            "691/691 [==============================] - 14s 21ms/step - loss: 0.0291 - accuracy: 0.9911 - val_loss: 0.2679 - val_accuracy: 0.9392\n",
            "Epoch 33/40\n",
            "691/691 [==============================] - 14s 21ms/step - loss: 0.0276 - accuracy: 0.9914 - val_loss: 0.2715 - val_accuracy: 0.9395\n",
            "Epoch 34/40\n",
            "691/691 [==============================] - 14s 21ms/step - loss: 0.0267 - accuracy: 0.9917 - val_loss: 0.2773 - val_accuracy: 0.9384\n",
            "Epoch 35/40\n",
            "691/691 [==============================] - 14s 21ms/step - loss: 0.0257 - accuracy: 0.9921 - val_loss: 0.2773 - val_accuracy: 0.9392\n",
            "Epoch 36/40\n",
            "691/691 [==============================] - 14s 21ms/step - loss: 0.0252 - accuracy: 0.9922 - val_loss: 0.2814 - val_accuracy: 0.9384\n",
            "Epoch 37/40\n",
            "691/691 [==============================] - 14s 21ms/step - loss: 0.0240 - accuracy: 0.9926 - val_loss: 0.2833 - val_accuracy: 0.9385\n",
            "Epoch 38/40\n",
            "691/691 [==============================] - 14s 20ms/step - loss: 0.0236 - accuracy: 0.9926 - val_loss: 0.2856 - val_accuracy: 0.9387\n",
            "Epoch 39/40\n",
            "691/691 [==============================] - 14s 21ms/step - loss: 0.0231 - accuracy: 0.9929 - val_loss: 0.2898 - val_accuracy: 0.9381\n",
            "Epoch 40/40\n",
            "691/691 [==============================] - 14s 20ms/step - loss: 0.0220 - accuracy: 0.9931 - val_loss: 0.2944 - val_accuracy: 0.9375\n"
          ],
          "name": "stdout"
        },
        {
          "output_type": "execute_result",
          "data": {
            "text/plain": [
              "<tensorflow.python.keras.callbacks.History at 0x7f98bf766d90>"
            ]
          },
          "metadata": {
            "tags": []
          },
          "execution_count": 38
        }
      ]
    },
    {
      "cell_type": "code",
      "metadata": {
        "colab": {
          "base_uri": "https://localhost:8080/"
        },
        "id": "ML8WcTNtnYzZ",
        "outputId": "963b5797-4129-4e53-d68b-436138b3c8bf"
      },
      "source": [
        "# Save model\n",
        "model.save(\"s2s\")"
      ],
      "execution_count": 39,
      "outputs": [
        {
          "output_type": "stream",
          "text": [
            "WARNING:absl:Found untraced functions such as gru_cell_4_layer_call_and_return_conditional_losses, gru_cell_4_layer_call_fn, gru_cell_5_layer_call_and_return_conditional_losses, gru_cell_5_layer_call_fn, gru_cell_4_layer_call_fn while saving (showing 5 of 10). These functions will not be directly callable after loading.\n",
            "WARNING:absl:Found untraced functions such as gru_cell_4_layer_call_and_return_conditional_losses, gru_cell_4_layer_call_fn, gru_cell_5_layer_call_and_return_conditional_losses, gru_cell_5_layer_call_fn, gru_cell_4_layer_call_fn while saving (showing 5 of 10). These functions will not be directly callable after loading.\n"
          ],
          "name": "stderr"
        },
        {
          "output_type": "stream",
          "text": [
            "INFO:tensorflow:Assets written to: s2s/assets\n"
          ],
          "name": "stdout"
        },
        {
          "output_type": "stream",
          "text": [
            "INFO:tensorflow:Assets written to: s2s/assets\n"
          ],
          "name": "stderr"
        }
      ]
    },
    {
      "cell_type": "code",
      "metadata": {
        "id": "HxYVxqm1na2b"
      },
      "source": [
        "l_model = keras.models.load_model(\"s2s\")"
      ],
      "execution_count": 40,
      "outputs": []
    },
    {
      "cell_type": "code",
      "metadata": {
        "colab": {
          "base_uri": "https://localhost:8080/",
          "height": 422
        },
        "id": "dPtoV1CCnzuh",
        "outputId": "5a39d5e2-866b-4a45-a9fc-8a96f0d021da"
      },
      "source": [
        "plot_model(l_model, show_shapes=True)"
      ],
      "execution_count": 41,
      "outputs": [
        {
          "output_type": "execute_result",
          "data": {
            "image/png": "[encoded data removed]",
            "text/plain": [
              "<IPython.core.display.Image object>"
            ]
          },
          "metadata": {
            "tags": []
          },
          "execution_count": 41
        }
      ]
    },
    {
      "cell_type": "code",
      "metadata": {
        "colab": {
          "base_uri": "https://localhost:8080/"
        },
        "id": "rCctZ-Gzn2-H",
        "outputId": "69eeb43d-a8ee-4e0e-dc6c-e194e0d5254a"
      },
      "source": [
        "last_il = int(l_model.input[1].name[-1])\n",
        "next_1 = \"input_\"+str(last_il+1)\n",
        "next_2 = \"input_\"+str(last_il+2)\n",
        "print(next_1,next_2)"
      ],
      "execution_count": 42,
      "outputs": [
        {
          "output_type": "stream",
          "text": [
            "input_5 input_6\n"
          ],
          "name": "stdout"
        }
      ]
    },
    {
      "cell_type": "code",
      "metadata": {
        "id": "d7w8_0iltzUl"
      },
      "source": [
        "# Define sampling models GRU\n",
        "# Restore the model and construct the encoder and decoder.\n",
        "encoder_inputs = l_model.input[0]  # input_1\n",
        "encoder_outputs, state_h_enc = l_model.layers[2].output  # gru_1\n",
        "encoder_model = keras.Model(encoder_inputs, state_h_enc)\n",
        "\n",
        "decoder_inputs = l_model.input[1]  # input_2\n",
        "decoder_state_input_h = keras.Input(shape=(latent_dim,), name=next_1)\n",
        "decoder_gru = l_model.layers[3]\n",
        "decoder_outputs, state_h_dec = decoder_gru(decoder_inputs, initial_state=decoder_state_input_h)\n",
        "decoder_dense = l_model.layers[4]\n",
        "decoder_outputs = decoder_dense(decoder_outputs)\n",
        "decoder_model = keras.Model([decoder_inputs] + [decoder_state_input_h], [decoder_outputs] + [state_h_dec])"
      ],
      "execution_count": 43,
      "outputs": []
    },
    {
      "cell_type": "code",
      "metadata": {
        "colab": {
          "base_uri": "https://localhost:8080/",
          "height": 201
        },
        "id": "BO2mEb_zn51U",
        "outputId": "e5b7f616-aad8-43b7-83ab-c3480e4d7350"
      },
      "source": [
        "plot_model(encoder_model, show_shapes=True)"
      ],
      "execution_count": 45,
      "outputs": [
        {
          "output_type": "execute_result",
          "data": {
            "image/png": "[encoded data removed]",
            "text/plain": [
              "<IPython.core.display.Image object>"
            ]
          },
          "metadata": {
            "tags": []
          },
          "execution_count": 45
        }
      ]
    },
    {
      "cell_type": "code",
      "metadata": {
        "colab": {
          "base_uri": "https://localhost:8080/",
          "height": 312
        },
        "id": "Q1GDV5hwn7d1",
        "outputId": "36f2ea4c-2279-4fd9-eac9-4f97c4bc247e"
      },
      "source": [
        "plot_model(decoder_model, show_shapes=True)"
      ],
      "execution_count": 46,
      "outputs": [
        {
          "output_type": "execute_result",
          "data": {
            "image/png": "[encoded data removed]",
            "text/plain": [
              "<IPython.core.display.Image object>"
            ]
          },
          "metadata": {
            "tags": []
          },
          "execution_count": 46
        }
      ]
    },
    {
      "cell_type": "code",
      "metadata": {
        "id": "mnphzqw_n9zD"
      },
      "source": [
        "# Reverse-lookup token index to decode sequences back to\n",
        "# something readable.\n",
        "reverse_input_char_index = dict((i, char) for char, i in input_token_index.items())\n",
        "reverse_target_char_index = dict((i, char) for char, i in target_token_index.items())"
      ],
      "execution_count": 47,
      "outputs": []
    },
    {
      "cell_type": "code",
      "metadata": {
        "id": "57BA0H7doALC"
      },
      "source": [
        "def decode_sequence(input_seq):\n",
        "    # Encode the input as state vectors.\n",
        "    states_value = encoder_model.predict(input_seq)\n",
        "\n",
        "    # Generate empty target sequence of length 1.\n",
        "    target_seq = np.zeros((1, 1, num_decoder_tokens))\n",
        "    # Populate the first character of target sequence with the start character.\n",
        "    target_seq[0, 0, target_token_index[\"\\t\"]] = 1.0\n",
        "\n",
        "    # Sampling loop for a batch of sequences\n",
        "    # (to simplify, here we assume a batch of size 1).\n",
        "    stop_condition = False\n",
        "    decoded_sentence = \"\"\n",
        "    while not stop_condition:\n",
        "        output_tokens, h = decoder_model.predict([target_seq] + [states_value])\n",
        "\n",
        "        # Sample a token\n",
        "        sampled_token_index = np.argmax(output_tokens[0, -1, :])\n",
        "        sampled_char = reverse_target_char_index[sampled_token_index]\n",
        "        decoded_sentence += sampled_char\n",
        "\n",
        "        # Exit condition: either hit max length\n",
        "        # or find stop character.\n",
        "        if sampled_char == \"\\n\" or len(decoded_sentence) > max_decoder_seq_length:\n",
        "            stop_condition = True\n",
        "\n",
        "        # Update the target sequence (of length 1).\n",
        "        target_seq = np.zeros((1, 1, num_decoder_tokens))\n",
        "        target_seq[0, 0, sampled_token_index] = 1.0\n",
        "\n",
        "        # Update states\n",
        "        states_value = h\n",
        "    return decoded_sentence"
      ],
      "execution_count": 48,
      "outputs": []
    },
    {
      "cell_type": "code",
      "metadata": {
        "colab": {
          "base_uri": "https://localhost:8080/"
        },
        "id": "B3GkG-b7oDVS",
        "outputId": "d05c3886-7597-494a-97e7-f1f29c2de347"
      },
      "source": [
        "valid = 0\n",
        "for i in range(len(test_input_texts)):\n",
        "    # Take one sequence (part of the training set)\n",
        "    # for trying out decoding.\n",
        "    #seq_index=random.randint(0,len(test_input_texts))\n",
        "    seq_index=i\n",
        "    input_seq = test_encoder_input_data[seq_index : seq_index + 1]\n",
        "    decoded_sentence = decode_sequence(input_seq)\n",
        "    #print(\"-\")\n",
        "    #print(\"Input sentence:\", test_input_texts[seq_index])\n",
        "    #print(\"Decoded sentence:\", decoded_sentence)\n",
        "    #print(\"Actual sentence:\", test_target_texts[seq_index])\n",
        "    flag=1\n",
        "    for (i,j) in zip(decoded_sentence,test_target_texts[seq_index]):\n",
        "      if i!=j:\n",
        "        flag=0\n",
        "        break\n",
        "    if flag==1:\n",
        "      valid += 1\n",
        "print(valid/len(test_input_texts))\n",
        "#print(valid/200)"
      ],
      "execution_count": 50,
      "outputs": [
        {
          "output_type": "stream",
          "text": [
            "0.27587738782763216\n"
          ],
          "name": "stdout"
        }
      ]
    }
  ]
}