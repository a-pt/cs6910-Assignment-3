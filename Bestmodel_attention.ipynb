{
  "nbformat": 4,
  "nbformat_minor": 0,
  "metadata": {
    "colab": {
      "name": "Bestmodel_attention.ipynb",
      "provenance": [],
      "include_colab_link": true
    },
    "kernelspec": {
      "name": "python3",
      "display_name": "Python 3"
    },
    "language_info": {
      "name": "python"
    },
    "accelerator": "GPU"
  },
  "cells": [
    {
      "cell_type": "markdown",
      "metadata": {
        "id": "view-in-github",
        "colab_type": "text"
      },
      "source": [
        "<a href=\"https://colab.research.google.com/github/cs20m016/cs6910-Assignment-3/blob/main/Bestmodel_attention.ipynb\" target=\"_parent\"><img src=\"https://colab.research.google.com/assets/colab-badge.svg\" alt=\"Open In Colab\"/></a>"
      ]
    },
    {
      "cell_type": "code",
      "metadata": {
        "colab": {
          "base_uri": "https://localhost:8080/"
        },
        "id": "SqeXxfxc4wcj",
        "outputId": "ef43d156-ab2a-46fd-8023-7220d7b65e4f"
      },
      "source": [
        "pip install colour"
      ],
      "execution_count": 2,
      "outputs": [
        {
          "output_type": "stream",
          "text": [
            "Collecting colour\n",
            "  Downloading https://files.pythonhosted.org/packages/74/46/e81907704ab203206769dee1385dc77e1407576ff8f50a0681d0a6b541be/colour-0.1.5-py2.py3-none-any.whl\n",
            "Installing collected packages: colour\n",
            "Successfully installed colour-0.1.5\n"
          ],
          "name": "stdout"
        }
      ]
    },
    {
      "cell_type": "code",
      "metadata": {
        "colab": {
          "base_uri": "https://localhost:8080/"
        },
        "id": "OOhQJOC2nMJG",
        "outputId": "7d4ed8ae-302e-4418-8879-3458319035fc"
      },
      "source": [
        "from google.colab import drive\n",
        "drive.mount('/content/drive/')"
      ],
      "execution_count": 3,
      "outputs": [
        {
          "output_type": "stream",
          "text": [
            "Mounted at /content/drive/\n"
          ],
          "name": "stdout"
        }
      ]
    },
    {
      "cell_type": "code",
      "metadata": {
        "id": "SCOU5wewqEmK"
      },
      "source": [
        "!unzip /content/drive/MyDrive/lexicons.zip > /dev/null"
      ],
      "execution_count": 4,
      "outputs": []
    },
    {
      "cell_type": "code",
      "metadata": {
        "id": "Gs76iyyqsIqz"
      },
      "source": [
        "import numpy as np\n",
        "import tensorflow as tf\n",
        "from tensorflow import keras\n",
        "import random\n",
        "from keras.utils.vis_utils import plot_model\n",
        "from tensorflow.keras import layers\n",
        "from keras.models import Model\n",
        "from keras.layers import Input, LSTM, Dense, RNN, GRU, SimpleRNN\n",
        "from tensorflow.python.keras.layers import Layer,Input, GRU, Dense, Concatenate, TimeDistributed\n",
        "from tensorflow.python.keras.models import Model\n",
        "import math\n",
        "from math import log\n",
        "import matplotlib.pyplot as plt\n",
        "import matplotlib\n",
        "from scipy.special import softmax\n",
        "from keras.utils import np_utils\n",
        "import re\n",
        "from IPython.display import HTML as html_print\n",
        "from IPython.display import display, clear_output\n",
        "from random import uniform\n",
        "import time\n",
        "from colour import Color\n",
        "import os\n",
        "from tensorflow.python.keras import backend as K"
      ],
      "execution_count": 5,
      "outputs": []
    },
    {
      "cell_type": "code",
      "metadata": {
        "colab": {
          "base_uri": "https://localhost:8080/"
        },
        "id": "RfBzH_4EsMpA",
        "outputId": "1bd591ae-401d-4a7a-87f4-bc57586b612b"
      },
      "source": [
        "# Path to the data txt file on disk.\n",
        "data_path = \"/content/lexicons/hi.translit.sampled.train.tsv\"\n",
        "val_path = \"/content/lexicons/hi.translit.sampled.dev.tsv\"\n",
        "test_path = \"/content/lexicons/hi.translit.sampled.test.tsv\"\n",
        "\n",
        "input_texts = []\n",
        "target_texts = []\n",
        "input_characters = set()\n",
        "target_characters = set()\n",
        "with open(data_path, \"r\", encoding=\"utf-8\") as f:\n",
        "    lines = f.read().split(\"\\n\")\n",
        "for line in lines[: len(lines) - 1]:\n",
        "    target_text, input_text, _ = line.split(\"\\t\")\n",
        "    # We use \"tab\" as the \"start sequence\" character\n",
        "    # for the targets, and \"\\n\" as \"end sequence\" character.\n",
        "    target_text = \"\\t\" + target_text + \"\\n\"\n",
        "    input_texts.append(input_text)\n",
        "    target_texts.append(target_text)\n",
        "    for char in input_text:\n",
        "        if char not in input_characters:\n",
        "            input_characters.add(char)\n",
        "    for char in target_text:\n",
        "        if char not in target_characters:\n",
        "            target_characters.add(char)\n",
        "\n",
        "input_characters.add(\" \")\n",
        "target_characters.add(\" \")\n",
        "input_characters = sorted(list(input_characters))\n",
        "target_characters = sorted(list(target_characters))\n",
        "num_encoder_tokens = len(input_characters)\n",
        "num_decoder_tokens = len(target_characters)\n",
        "max_encoder_seq_length = max([len(txt) for txt in input_texts])\n",
        "max_decoder_seq_length = max([len(txt) for txt in target_texts])\n",
        "\n",
        "val_input_texts = []\n",
        "val_target_texts = []\n",
        "\n",
        "with open(val_path, \"r\", encoding=\"utf-8\") as f:\n",
        "    lines = f.read().split(\"\\n\")\n",
        "for line in lines[: len(lines) - 1]:\n",
        "    target_text, input_text, _ = line.split(\"\\t\")\n",
        "    # We use \"tab\" as the \"start sequence\" character\n",
        "    # for the targets, and \"\\n\" as \"end sequence\" character.\n",
        "    target_text = \"\\t\" + target_text + \"\\n\"\n",
        "    val_input_texts.append(input_text)\n",
        "    val_target_texts.append(target_text)\n",
        "\n",
        "test_input_texts = []\n",
        "test_target_texts = []\n",
        "\n",
        "with open(val_path, \"r\", encoding=\"utf-8\") as f:\n",
        "    lines = f.read().split(\"\\n\")\n",
        "for line in lines[: len(lines) - 1]:\n",
        "    target_text, input_text, _ = line.split(\"\\t\")\n",
        "    # We use \"tab\" as the \"start sequence\" character\n",
        "    # for the targets, and \"\\n\" as \"end sequence\" character.\n",
        "    test_input_texts.append(input_text)\n",
        "    test_target_texts.append(target_text)\n",
        "\n",
        "print(\"Number of samples:\", len(input_texts))\n",
        "print(\"Number of validation samples:\", len(val_input_texts))\n",
        "print(\"Number of test samples:\", len(test_input_texts))\n",
        "print(\"Number of unique input tokens:\", num_encoder_tokens)\n",
        "print(\"Number of unique output tokens:\", num_decoder_tokens)\n",
        "print(\"Max sequence length for inputs:\", max_encoder_seq_length)\n",
        "print(\"Max sequence length for outputs:\", max_decoder_seq_length)"
      ],
      "execution_count": 6,
      "outputs": [
        {
          "output_type": "stream",
          "text": [
            "Number of samples: 44204\n",
            "Number of validation samples: 4358\n",
            "Number of test samples: 4358\n",
            "Number of unique input tokens: 27\n",
            "Number of unique output tokens: 66\n",
            "Max sequence length for inputs: 20\n",
            "Max sequence length for outputs: 21\n"
          ],
          "name": "stdout"
        }
      ]
    },
    {
      "cell_type": "code",
      "metadata": {
        "colab": {
          "base_uri": "https://localhost:8080/"
        },
        "id": "EML1vXyzsVnn",
        "outputId": "9459f402-8f98-48ee-b2d1-b9bc98920005"
      },
      "source": [
        "print(\"Train Set Samples\")\n",
        "for i in range (5):\n",
        "  index = random. randint(0,len(target_texts))\n",
        "  print(input_texts[index],target_texts[index])"
      ],
      "execution_count": 7,
      "outputs": [
        {
          "output_type": "stream",
          "text": [
            "Train Set Samples\n",
            "mritakon \tमृतकों\n",
            "\n",
            "paragve \tपैराग्वे\n",
            "\n",
            "chhatarpur \tछतरपुर\n",
            "\n",
            "kalnirnay \tकालनिर्णय\n",
            "\n",
            "taphi \tटफी\n",
            "\n"
          ],
          "name": "stdout"
        }
      ]
    },
    {
      "cell_type": "code",
      "metadata": {
        "colab": {
          "base_uri": "https://localhost:8080/"
        },
        "id": "IRx7moWdtpEt",
        "outputId": "e095ff46-12be-447e-bab1-48f081828fcf"
      },
      "source": [
        "print(\"Validation Set Samples\")\n",
        "for i in range (5):\n",
        "  index = random. randint(0,len(val_target_texts))\n",
        "  print(val_input_texts[index],val_target_texts[index])"
      ],
      "execution_count": 8,
      "outputs": [
        {
          "output_type": "stream",
          "text": [
            "Validation Set Samples\n",
            "vyakhyakar \tव्याख्याकार\n",
            "\n",
            "shraddheya \tश्रद्धेय\n",
            "\n",
            "matric \tमैट्रिक\n",
            "\n",
            "majedaar \tमजेदार\n",
            "\n",
            "ghumthe \tघूमते\n",
            "\n"
          ],
          "name": "stdout"
        }
      ]
    },
    {
      "cell_type": "code",
      "metadata": {
        "colab": {
          "base_uri": "https://localhost:8080/"
        },
        "id": "YJHg55tEtq_8",
        "outputId": "63e3f2ab-349e-4569-da93-853b4ab1c36d"
      },
      "source": [
        "input_token_index = dict([(char, i) for i, char in enumerate(input_characters)])\n",
        "target_token_index = dict([(char, i) for i, char in enumerate(target_characters)])\n",
        "\n",
        "encoder_input_data = np.zeros((len(input_texts), max_encoder_seq_length, num_encoder_tokens), dtype=\"float32\")\n",
        "decoder_input_data = np.zeros((len(input_texts), max_decoder_seq_length, num_decoder_tokens), dtype=\"float32\")\n",
        "decoder_target_data = np.zeros((len(input_texts), max_decoder_seq_length, num_decoder_tokens), dtype=\"float32\")\n",
        "print(np.shape(encoder_input_data),np.shape(decoder_input_data),np.shape(decoder_target_data))\n",
        "\n",
        "val_encoder_input_data = np.zeros((len(val_input_texts), max_encoder_seq_length, num_encoder_tokens), dtype=\"float32\")\n",
        "val_decoder_input_data = np.zeros((len(val_input_texts), max_decoder_seq_length, num_decoder_tokens), dtype=\"float32\")\n",
        "val_decoder_target_data = np.zeros((len(val_input_texts), max_decoder_seq_length, num_decoder_tokens), dtype=\"float32\")\n",
        "print(np.shape(val_encoder_input_data),np.shape(val_decoder_input_data),np.shape(val_decoder_target_data))\n",
        "\n",
        "test_encoder_input_data = np.zeros((len(test_input_texts), max_encoder_seq_length, num_encoder_tokens), dtype=\"float32\")\n",
        "print(np.shape(test_encoder_input_data))\n",
        "\n",
        "for i, (input_text, target_text) in enumerate(zip(input_texts, target_texts)):\n",
        "    for t, char in enumerate(input_text):\n",
        "        encoder_input_data[i, t, input_token_index[char]] = 1.0\n",
        "    encoder_input_data[i, t + 1 :, input_token_index[\" \"]] = 1.0\n",
        "    for t, char in enumerate(target_text):\n",
        "        # decoder_target_data is ahead of decoder_input_data by one timestep\n",
        "        decoder_input_data[i, t, target_token_index[char]] = 1.0\n",
        "        if t > 0:\n",
        "            # decoder_target_data will be ahead by one timestep\n",
        "            # and will not include the start character.\n",
        "            decoder_target_data[i, t - 1, target_token_index[char]] = 1.0\n",
        "    decoder_input_data[i, t + 1 :, target_token_index[\" \"]] = 1.0\n",
        "    decoder_target_data[i, t:, target_token_index[\" \"]] = 1.0\n",
        "\n",
        "for i, (val_input_text, val_target_text) in enumerate(zip(val_input_texts, val_target_texts)):\n",
        "    for t, char in enumerate(val_input_text):\n",
        "        val_encoder_input_data[i, t, input_token_index[char]] = 1.0\n",
        "    val_encoder_input_data[i, t + 1 :, input_token_index[\" \"]] = 1.0\n",
        "    for t, char in enumerate(val_target_text):\n",
        "        # decoder_target_data is ahead of decoder_input_data by one timestep\n",
        "        val_decoder_input_data[i, t, target_token_index[char]] = 1.0\n",
        "        if t > 0:\n",
        "            # decoder_target_data will be ahead by one timestep\n",
        "            # and will not include the start character.\n",
        "            val_decoder_target_data[i, t - 1, target_token_index[char]] = 1.0\n",
        "    val_decoder_input_data[i, t + 1 :, target_token_index[\" \"]] = 1.0\n",
        "    val_decoder_target_data[i, t:, target_token_index[\" \"]] = 1.0\n",
        "\n",
        "for i, (test_input_text, ) in enumerate(zip(test_input_texts, )):\n",
        "    for t, char in enumerate(test_input_text):\n",
        "        test_encoder_input_data[i, t, input_token_index[char]] = 1.0\n",
        "    test_encoder_input_data[i, t + 1 :, input_token_index[\" \"]] = 1.0"
      ],
      "execution_count": 9,
      "outputs": [
        {
          "output_type": "stream",
          "text": [
            "(44204, 20, 27) (44204, 21, 66) (44204, 21, 66)\n",
            "(4358, 20, 27) (4358, 21, 66) (4358, 21, 66)\n",
            "(4358, 20, 27)\n"
          ],
          "name": "stdout"
        }
      ]
    },
    {
      "cell_type": "code",
      "metadata": {
        "id": "hlEeGd9at7R7"
      },
      "source": [
        "batch_size = 64  # Batch size for training.\n",
        "epochs = 4  # Number of epochs to train for.\n",
        "hidden_neurons = 64\n",
        "dropout = 0.0\n",
        "recc_dropout = 0.1"
      ],
      "execution_count": 10,
      "outputs": []
    },
    {
      "cell_type": "code",
      "metadata": {
        "id": "IewDfsaXV7B0"
      },
      "source": [
        "latent_dims = 256"
      ],
      "execution_count": 11,
      "outputs": []
    },
    {
      "cell_type": "code",
      "metadata": {
        "id": "ZuhFTOLYrDHx"
      },
      "source": [
        "class AttentionLayer(Layer):\n",
        "    \"\"\"\n",
        "    This class implements Bahdanau attention (https://arxiv.org/pdf/1409.0473.pdf).\n",
        "    There are three sets of weights introduced W_a, U_a, and V_a\n",
        "     \"\"\"\n",
        "\n",
        "    def __init__(self, **kwargs):\n",
        "        super(AttentionLayer, self).__init__(**kwargs)\n",
        "\n",
        "    def build(self, input_shape):\n",
        "        assert isinstance(input_shape, list)\n",
        "        # Create a trainable weight variable for this layer.\n",
        "\n",
        "        self.W_a = self.add_weight(name='W_a',\n",
        "                                   shape=tf.TensorShape((input_shape[0][2], input_shape[0][2])),\n",
        "                                   initializer='uniform',\n",
        "                                   trainable=True)\n",
        "        self.U_a = self.add_weight(name='U_a',\n",
        "                                   shape=tf.TensorShape((input_shape[1][2], input_shape[0][2])),\n",
        "                                   initializer='uniform',\n",
        "                                   trainable=True)\n",
        "        self.V_a = self.add_weight(name='V_a',\n",
        "                                   shape=tf.TensorShape((input_shape[0][2], 1)),\n",
        "                                   initializer='uniform',\n",
        "                                   trainable=True)\n",
        "\n",
        "        super(AttentionLayer, self).build(input_shape)  # Be sure to call this at the end\n",
        "\n",
        "    def call(self, inputs, verbose=False):\n",
        "        \"\"\"\n",
        "        inputs: [encoder_output_sequence, decoder_output_sequence]\n",
        "        \"\"\"\n",
        "        assert type(inputs) == list\n",
        "        encoder_out_seq, decoder_out_seq = inputs\n",
        "        if verbose:\n",
        "            print('encoder_out_seq>', encoder_out_seq.shape)\n",
        "            print('decoder_out_seq>', decoder_out_seq.shape)\n",
        "\n",
        "        def energy_step(inputs, states):\n",
        "            \"\"\" Step function for computing energy for a single decoder state\n",
        "            inputs: (batchsize * 1 * de_in_dim)\n",
        "            states: (batchsize * 1 * de_latent_dim)\n",
        "            \"\"\"\n",
        "\n",
        "            assert_msg = \"States must be an iterable. Got {} of type {}\".format(states, type(states))\n",
        "            assert isinstance(states, list) or isinstance(states, tuple), assert_msg\n",
        "\n",
        "            \"\"\" Some parameters required for shaping tensors\"\"\"\n",
        "            en_seq_len, en_hidden = encoder_out_seq.shape[1], encoder_out_seq.shape[2]\n",
        "            de_hidden = inputs.shape[-1]\n",
        "\n",
        "            \"\"\" Computing S.Wa where S=[s0, s1, ..., si]\"\"\"\n",
        "            # <= batch size * en_seq_len * latent_dim\n",
        "            W_a_dot_s = K.dot(encoder_out_seq, self.W_a)\n",
        "\n",
        "            \"\"\" Computing hj.Ua \"\"\"\n",
        "            U_a_dot_h = K.expand_dims(K.dot(inputs, self.U_a), 1)  # <= batch_size, 1, latent_dim\n",
        "            if verbose:\n",
        "                print('Ua.h>', U_a_dot_h.shape)\n",
        "\n",
        "            \"\"\" tanh(S.Wa + hj.Ua) \"\"\"\n",
        "            # <= batch_size*en_seq_len, latent_dim\n",
        "            Ws_plus_Uh = K.tanh(W_a_dot_s + U_a_dot_h)\n",
        "            if verbose:\n",
        "                print('Ws+Uh>', Ws_plus_Uh.shape)\n",
        "\n",
        "            \"\"\" softmax(va.tanh(S.Wa + hj.Ua)) \"\"\"\n",
        "            # <= batch_size, en_seq_len\n",
        "            e_i = K.squeeze(K.dot(Ws_plus_Uh, self.V_a), axis=-1)\n",
        "            # <= batch_size, en_seq_len\n",
        "            e_i = K.softmax(e_i)\n",
        "\n",
        "            if verbose:\n",
        "                print('ei>', e_i.shape)\n",
        "\n",
        "            return e_i, [e_i]\n",
        "\n",
        "        def context_step(inputs, states):\n",
        "            \"\"\" Step function for computing ci using ei \"\"\"\n",
        "\n",
        "            assert_msg = \"States must be an iterable. Got {} of type {}\".format(states, type(states))\n",
        "            assert isinstance(states, list) or isinstance(states, tuple), assert_msg\n",
        "\n",
        "            # <= batch_size, hidden_size\n",
        "            c_i = K.sum(encoder_out_seq * K.expand_dims(inputs, -1), axis=1)\n",
        "            if verbose:\n",
        "                print('ci>', c_i.shape)\n",
        "            return c_i, [c_i]\n",
        "\n",
        "        fake_state_c = K.sum(encoder_out_seq, axis=1)\n",
        "        fake_state_e = K.sum(encoder_out_seq, axis=2)  # <= (batch_size, enc_seq_len, latent_dim\n",
        "\n",
        "        \"\"\" Computing energy outputs \"\"\"\n",
        "        # e_outputs => (batch_size, de_seq_len, en_seq_len)\n",
        "        last_out, e_outputs, _ = K.rnn(\n",
        "            energy_step, decoder_out_seq, [fake_state_e],\n",
        "        )\n",
        "\n",
        "        \"\"\" Computing context vectors \"\"\"\n",
        "        last_out, c_outputs, _ = K.rnn(\n",
        "            context_step, e_outputs, [fake_state_c],\n",
        "        )\n",
        "\n",
        "        return c_outputs, e_outputs\n",
        "\n",
        "    def compute_output_shape(self, input_shape):\n",
        "        \"\"\" Outputs produced by the layer \"\"\"\n",
        "        return [\n",
        "            tf.TensorShape((input_shape[1][0], input_shape[1][1], input_shape[1][2])),\n",
        "            tf.TensorShape((input_shape[1][0], input_shape[1][1], input_shape[0][1]))\n",
        "        ]"
      ],
      "execution_count": 12,
      "outputs": []
    },
    {
      "cell_type": "code",
      "metadata": {
        "id": "XGBhKBaujsnq",
        "colab": {
          "base_uri": "https://localhost:8080/"
        },
        "outputId": "5cc6cf33-cb58-49f4-9966-046164912437"
      },
      "source": [
        "# Define an input sequence and process it by going through a len(latent_dims)-layer deep encoder\n",
        "encoder_inputs = Input(shape=(None, num_encoder_tokens),name='encoder_inputs')\n",
        "decoder_inputs = Input(shape=(None,num_decoder_tokens),name='decoder_inputs')\n",
        " \n",
        "encoder_gru = GRU(latent_dims, return_sequences=True, return_state=True,name='encoder_gru')\n",
        "encoder_out, encoder_state = encoder_gru(encoder_inputs)\n",
        "decoder_gru = GRU(latent_dims, return_sequences=True, return_state=True,name='decoder_gru')\n",
        "decoder_out, decoder_state = decoder_gru(decoder_inputs, initial_state=encoder_state)\n",
        "\n",
        "# Attention layer\n",
        "attn_layer = AttentionLayer(name='attention_layer')\n",
        "attn_out,_ = attn_layer([encoder_out, decoder_out])\n",
        "\n",
        "decoder_concat_input = Concatenate(axis=-1,name='concat_layer')([decoder_out, attn_out])\n",
        "\n",
        "# Dense layer\n",
        "dense = Dense(num_decoder_tokens, activation='softmax',name='softmax_layer')\n",
        "dense_time = TimeDistributed(dense,name='output_layer')\n",
        "decoder_pred = dense_time(decoder_concat_input)\n",
        "\n",
        "# Full model\n",
        "model = Model(inputs=[encoder_inputs, decoder_inputs], outputs=decoder_pred)\n",
        "model.compile(optimizer='adam', loss='categorical_crossentropy')\n",
        "model.summary()"
      ],
      "execution_count": 13,
      "outputs": [
        {
          "output_type": "stream",
          "text": [
            "Model: \"model\"\n",
            "__________________________________________________________________________________________________\n",
            "Layer (type)                    Output Shape         Param #     Connected to                     \n",
            "==================================================================================================\n",
            "encoder_inputs (InputLayer)     [(None, None, 27)]   0                                            \n",
            "__________________________________________________________________________________________________\n",
            "decoder_inputs (InputLayer)     [(None, None, 66)]   0                                            \n",
            "__________________________________________________________________________________________________\n",
            "encoder_gru (GRU)               [(None, None, 256),  218112      encoder_inputs[0][0]             \n",
            "__________________________________________________________________________________________________\n",
            "decoder_gru (GRU)               [(None, None, 256),  248064      decoder_inputs[0][0]             \n",
            "                                                                 encoder_gru[0][1]                \n",
            "__________________________________________________________________________________________________\n",
            "attention_layer (AttentionLayer ((None, None, 256),  131328      encoder_gru[0][0]                \n",
            "                                                                 decoder_gru[0][0]                \n",
            "__________________________________________________________________________________________________\n",
            "concat_layer (Concatenate)      (None, None, 512)    0           decoder_gru[0][0]                \n",
            "                                                                 attention_layer[0][0]            \n",
            "__________________________________________________________________________________________________\n",
            "output_layer (TimeDistributed)  (None, None, 66)     33858       concat_layer[0][0]               \n",
            "==================================================================================================\n",
            "Total params: 631,362\n",
            "Trainable params: 631,362\n",
            "Non-trainable params: 0\n",
            "__________________________________________________________________________________________________\n"
          ],
          "name": "stdout"
        }
      ]
    },
    {
      "cell_type": "code",
      "metadata": {
        "id": "oF6BGW6AlKLk"
      },
      "source": [
        "\"\"\" Encoder (Inference) model \"\"\"\n",
        "encoder_inputs = model.input[0]\n",
        "encoder_inf_out, encoder_inf_state = model.layers[2].output\n",
        "encoder_model = Model(inputs=encoder_inputs, outputs=[encoder_inf_out, encoder_inf_state])\n",
        "\n",
        "\"\"\" Decoder (Inference) model \"\"\"\n",
        "decoder_inf_inputs = model.input[1]\n",
        "encoder_inf_states = Input(shape=(None, latent_dims))\n",
        "decoder_init_state = Input(shape=(latent_dims,))\n",
        "decoder_gru=model.layers[3]\n",
        "decoder_inf_out, decoder_inf_state = decoder_gru(decoder_inf_inputs, initial_state=decoder_init_state)\n",
        "attn_inf_out, attn_inf_states = attn_layer([encoder_inf_states, decoder_inf_out])\n",
        "decoder_inf_concat = Concatenate(axis=-1,name='concat')([decoder_inf_out, attn_inf_out])\n",
        "decoder_inf_pred = TimeDistributed(dense)(decoder_inf_concat)\n",
        "decoder_model = Model(inputs=[encoder_inf_states, decoder_init_state, decoder_inf_inputs],outputs=[decoder_inf_pred, attn_inf_states, decoder_inf_state])"
      ],
      "execution_count": 14,
      "outputs": []
    },
    {
      "cell_type": "code",
      "metadata": {
        "colab": {
          "base_uri": "https://localhost:8080/"
        },
        "id": "2jQ_aFvDir-X",
        "outputId": "cfc32485-3849-453d-a559-d8b0793e9e34"
      },
      "source": [
        "model.compile(optimizer=\"rmsprop\", loss=\"categorical_crossentropy\", metrics=[\"accuracy\"])\n",
        "model.fit([encoder_input_data, decoder_input_data], decoder_target_data, batch_size=batch_size, epochs=epochs, validation_data=([val_encoder_input_data, val_decoder_input_data],val_decoder_target_data))"
      ],
      "execution_count": 15,
      "outputs": [
        {
          "output_type": "stream",
          "text": [
            "Epoch 1/4\n",
            "691/691 [==============================] - 107s 145ms/step - loss: 1.1912 - accuracy: 0.7124 - val_loss: 0.6436 - val_accuracy: 0.8156\n",
            "Epoch 2/4\n",
            "691/691 [==============================] - 98s 142ms/step - loss: 0.5900 - accuracy: 0.8253 - val_loss: 0.3843 - val_accuracy: 0.8808\n",
            "Epoch 3/4\n",
            "691/691 [==============================] - 98s 142ms/step - loss: 0.3378 - accuracy: 0.8954 - val_loss: 0.2322 - val_accuracy: 0.9294\n",
            "Epoch 4/4\n",
            "691/691 [==============================] - 98s 142ms/step - loss: 0.2148 - accuracy: 0.9327 - val_loss: 0.1815 - val_accuracy: 0.9425\n"
          ],
          "name": "stdout"
        },
        {
          "output_type": "execute_result",
          "data": {
            "text/plain": [
              "<tensorflow.python.keras.callbacks.History at 0x7fb31016de10>"
            ]
          },
          "metadata": {
            "tags": []
          },
          "execution_count": 15
        }
      ]
    },
    {
      "cell_type": "code",
      "metadata": {
        "id": "V3DV6L-rt_yd",
        "colab": {
          "base_uri": "https://localhost:8080/",
          "height": 201
        },
        "outputId": "99602e27-6b8f-4379-c320-71d3b72a040e"
      },
      "source": [
        "plot_model(encoder_model, show_shapes=True)"
      ],
      "execution_count": 16,
      "outputs": [
        {
          "output_type": "execute_result",
          "data": {
            "image/png": "[encoded data removed]",
            "text/plain": [
              "<IPython.core.display.Image object>"
            ]
          },
          "metadata": {
            "tags": []
          },
          "execution_count": 16
        }
      ]
    },
    {
      "cell_type": "code",
      "metadata": {
        "colab": {
          "base_uri": "https://localhost:8080/",
          "height": 533
        },
        "id": "9hjhzIcZOGjb",
        "outputId": "45a80e6d-1c9f-48fc-9570-a33b2e5f5903"
      },
      "source": [
        "plot_model(decoder_model, show_shapes=True)"
      ],
      "execution_count": 17,
      "outputs": [
        {
          "output_type": "execute_result",
          "data": {
            "image/png": "[encoded data removed]",
            "text/plain": [
              "<IPython.core.display.Image object>"
            ]
          },
          "metadata": {
            "tags": []
          },
          "execution_count": 17
        }
      ]
    },
    {
      "cell_type": "code",
      "metadata": {
        "id": "TDr0jSVfuQH3"
      },
      "source": [
        "# Reverse-lookup token index to decode sequences back to\n",
        "# something readable.\n",
        "reverse_input_char_index = dict((i, char) for char, i in input_token_index.items())\n",
        "reverse_target_char_index = dict((i, char) for char, i in target_token_index.items())"
      ],
      "execution_count": 18,
      "outputs": []
    },
    {
      "cell_type": "code",
      "metadata": {
        "id": "ODeQksH8l8Bw"
      },
      "source": [
        "def decode_sequence(input_seq,beam_search):\n",
        "    # Encode the input as state vectors.\n",
        "    enc_outs, enc_last_state = encoder_model.predict(input_seq)\n",
        "    dec_state = enc_last_state\n",
        "    # Generate empty target sequence of length 1.\n",
        "    target_seq = np.zeros((1, 1, num_decoder_tokens))\n",
        "    # Populate the first character of target sequence with the start character.\n",
        "    target_seq[0, 0, target_token_index['\\t']] = 1.\n",
        "    # Sampling loop for a batch of sequences\n",
        "    # (to simplify, here we assume a batch of size 1).\n",
        "    stop_condition = False\n",
        "    decoded_sentences = []\n",
        "    attention_weights = []\n",
        "    if beam_search==0:\n",
        "      decoded_sentence = []  #Creating a list then using \"\".join() is usually much faster for string creation\n",
        "      while not stop_condition:\n",
        "          dec_out, attention, dec_state = decoder_model.predict([enc_outs, dec_state, target_seq])\n",
        "          dec_ind = np.argmax(dec_out[0, 0])\n",
        "          sampled_char = reverse_target_char_index[dec_ind]\n",
        "          decoded_sentence.append(sampled_char)\n",
        "          if sampled_char == '\\n' or len(decoded_sentence) > max_decoder_seq_length:\n",
        "            stop_condition = True\n",
        "          target_seq = np.zeros((1, 1, num_decoder_tokens))\n",
        "          target_seq[0, 0, dec_ind] = 1.\n",
        "          attention_weights.append((dec_ind, attention))\n",
        "      decoded_sentences.append(\"\".join(decoded_sentence))\n",
        "    else:\n",
        "      decoded_prob = []\n",
        "      it=0\n",
        "      while not stop_condition:\n",
        "          dec_out, attention, dec_state = decoder_model.predict([enc_outs, dec_state, target_seq])\n",
        "          dec_ind = np.argmax(dec_out[0, 0])\n",
        "          sampled_char = reverse_target_char_index[dec_ind]\n",
        "          it += 1\n",
        "          decoded_prob.append(dec_out[0, 0])\n",
        "          if sampled_char == '\\n' or it > max_decoder_seq_length:\n",
        "            stop_condition = True\n",
        "          target_seq = np.zeros((1, 1, num_decoder_tokens))\n",
        "          target_seq[0, 0, dec_ind] = 1.\n",
        "          attention_weights.append((dec_ind, attention))\n",
        "      sequences = [[list(), 0.0]]\n",
        "      # walk over each step in sequence\n",
        "      for row in decoded_prob:\n",
        "        all_candidates = list()\n",
        "        # expand each current candidate\n",
        "        for i in range(len(sequences)):\n",
        "          seq, score = sequences[i]\n",
        "          for j in range(len(row)):\n",
        "            candidate = [seq + [j], score - log(row[j])]\n",
        "            all_candidates.append(candidate)\n",
        "        # order all candidates by score\n",
        "        ordered = sorted(all_candidates, key=lambda tup:tup[1])\n",
        "        # select k best\n",
        "        sequences = ordered[:beam_search]\n",
        "      for seq in sequences:\n",
        "        decoded_sentence = []\n",
        "        for char_in in seq[0]:\n",
        "          sampled_char = reverse_target_char_index[char_in]\n",
        "          decoded_sentence.append(sampled_char)\n",
        "        decoded_sentences.append(\"\".join(decoded_sentence))\n",
        "    return decoded_sentences,attention_weights"
      ],
      "execution_count": 19,
      "outputs": []
    },
    {
      "cell_type": "code",
      "metadata": {
        "id": "wMWuUhClMvGz"
      },
      "source": [
        "def plot_attention_weights(encoder_inputs, attention_weights):\n",
        "    if len(attention_weights) == 0:\n",
        "        print('Your attention weights was empty. No attention map saved to the disk. ' +\n",
        "              '\\nPlease check if the decoder produced  a proper translation')\n",
        "        return\n",
        "    mats = []\n",
        "    dec_inputs = []\n",
        "    for dec_ind, attn in attention_weights:\n",
        "        mats.append(attn.reshape(-1))\n",
        "        dec_inputs.append(dec_ind)\n",
        "    attention_mat = np.transpose(np.array(mats))\n",
        "    attention_mat = attention_mat[:len(encoder_inputs)+1]\n",
        "    return attention_mat,dec_inputs"
      ],
      "execution_count": 20,
      "outputs": []
    },
    {
      "cell_type": "code",
      "metadata": {
        "id": "ecOWDrju1eD7"
      },
      "source": [
        "import matplotlib.pyplot as plt\n",
        "from mpl_toolkits.axes_grid1 import ImageGrid\n",
        "import numpy as np\n",
        "import seaborn as sn\n",
        "import matplotlib.pyplot as plt"
      ],
      "execution_count": 23,
      "outputs": []
    },
    {
      "cell_type": "code",
      "metadata": {
        "colab": {
          "base_uri": "https://localhost:8080/",
          "height": 265
        },
        "id": "1k62RlJl-h0V",
        "outputId": "39cddf4c-0d36-478a-f58e-c10a8830b85f"
      },
      "source": [
        "beam_search=4\n",
        "prediction = \"\"\n",
        "done=0\n",
        "while True:\n",
        "  sequence_ip=[]\n",
        "  seq_index=random.randint(0,len(test_input_texts))\n",
        "  for ch in test_input_texts[seq_index]:\n",
        "    sequence_ip.append(input_token_index[ch])\n",
        "  input_seq = test_encoder_input_data[seq_index : seq_index + 1]\n",
        "  decoded_sentence, attention_weights = decode_sequence(input_seq,beam_search)\n",
        "  for seq in decoded_sentence:\n",
        "    id=0\n",
        "    for translate in decoded_sentence:\n",
        "      flag=1\n",
        "      for (i,j) in zip(translate,test_target_texts[seq_index]):\n",
        "        if i!=j:\n",
        "          flag=0\n",
        "          break\n",
        "      if flag==1:\n",
        "        done=1\n",
        "        break\n",
        "      id+=1\n",
        "  if done==1:\n",
        "    prediction = decoded_sentence[id]\n",
        "    attention_mat,decoder_inp = plot_attention_weights(sequence_ip, attention_weights)\n",
        "    # setting the parameter values\n",
        "    #xticklabels = [reverse_target_char_index[inp] if inp != 0 else \"<Res>\" for inp in decoder_inp]\n",
        "    xticklabels = False\n",
        "    yticklabels = [reverse_input_char_index[inp] if inp != 0 else \"<Res>\" for inp in sequence_ip]\n",
        "      \n",
        "    # plotting the heatmap\n",
        "    hm = sn.heatmap(data=attention_mat,\n",
        "                    xticklabels=xticklabels,\n",
        "                    yticklabels=yticklabels,cmap='viridis')\n",
        "      \n",
        "    # displaying the plotted heatmap\n",
        "    plt.show()\n",
        "    break\n",
        "print([char for char in prediction])"
      ],
      "execution_count": 141,
      "outputs": [
        {
          "output_type": "display_data",
          "data": {
            "image/png": "[encoded data removed]",
            "text/plain": [
              "<Figure size 432x288 with 2 Axes>"
            ]
          },
          "metadata": {
            "tags": [],
            "needs_background": "light"
          }
        },
        {
          "output_type": "stream",
          "text": [
            "['च', 'ौ', 'ं', 'क', 'त', 'ी', '\\n']\n"
          ],
          "name": "stdout"
        }
      ]
    },
    {
      "cell_type": "code",
      "metadata": {
        "colab": {
          "base_uri": "https://localhost:8080/",
          "height": 1000
        },
        "id": "0UDXeNoCA4xm",
        "outputId": "9a8056a4-3263-405e-bcbc-80b6029e8049"
      },
      "source": [
        "valid = 0\n",
        "beam_search=0\n",
        "index=0\n",
        "att_mat=[]\n",
        "seq_ind=[]\n",
        "dec_inp=[]\n",
        "ylabel=[]\n",
        "fig = plt.figure(figsize = (20,20)) # width x height\n",
        "axis = []\n",
        "for i in range(9):\n",
        "  axis.append(fig.add_subplot(3, 3, i+1))\n",
        "while True:\n",
        "    prediction = \"\"\n",
        "    sequence_ip=[]\n",
        "    seq_index=random.randint(0,len(test_input_texts))\n",
        "    for ch in test_input_texts[seq_index]:\n",
        "      sequence_ip.append(input_token_index[ch])\n",
        "    input_seq = test_encoder_input_data[seq_index : seq_index + 1]\n",
        "    decoded_sentence, attention_weights = decode_sequence(input_seq,beam_search)\n",
        "    id=0\n",
        "    done=0\n",
        "    for translate in decoded_sentence:\n",
        "      flag=1\n",
        "      for (i,j) in zip(translate,test_target_texts[seq_index]):\n",
        "        if i!=j:\n",
        "          flag=0\n",
        "          break\n",
        "      if flag==1:\n",
        "        done=1\n",
        "        valid += 1\n",
        "        break\n",
        "      id+=1\n",
        "    if done==1:\n",
        "      prediction = decoded_sentence[id]\n",
        "      attention_mat,decoder_inp= plot_attention_weights(sequence_ip, attention_weights)\n",
        "      att_mat.append(attention_mat)\n",
        "      seq_ind.append(seq_index)\n",
        "      dec_inp.append(decoder_inp)\n",
        "      yticklabels = [reverse_input_char_index[inp] if inp != 0 else \"<Res>\" for inp in sequence_ip]\n",
        "      hm = sn.heatmap(data=attention_mat, xticklabels=xticklabels, yticklabels=yticklabels,cmap='viridis',ax=axis[index])\n",
        "      index+=1\n",
        "    if index==9:\n",
        "      break\n",
        "plt.show()"
      ],
      "execution_count": 153,
      "outputs": [
        {
          "output_type": "display_data",
          "data": {
            "image/png": "[encoded data removed]",
            "text/plain": [
              "<Figure size 1440x1440 with 18 Axes>"
            ]
          },
          "metadata": {
            "tags": [],
            "needs_background": "light"
          }
        }
      ]
    },
    {
      "cell_type": "code",
      "metadata": {
        "id": "3vNeCGy-BSuJ"
      },
      "source": [
        "# get html element\n",
        "def cstr(s, color='black'):\n",
        "\tif s == ' ':\n",
        "\t\treturn \"<text style=color:#000;padding-left:10px;background-color:{}> </text>\".format(color, s)\n",
        "\telse:\n",
        "\t\treturn \"<text style=color:#000;background-color:{}>{} </text>\".format(color, s)\n",
        "\t\n",
        "# print html\n",
        "def print_color(t):\n",
        "\tdisplay(html_print(''.join([cstr(ti, color=ci) for ti,ci in t])))\n",
        "\n",
        "# get appropriate color for value\n",
        "def get_clr(value):\n",
        "  col = Color(\"snow\")\n",
        "  colors = list(col.range_to(Color(\"red\"),20))\n",
        "  value = int((value * 100) / 5)\n",
        "  return colors[value]\n",
        "\n",
        "def visualize(output_values, result_list):\n",
        "  text_colours = []\n",
        "  for i in range(len(result_list)):\n",
        "    text = (result_list[i], get_clr(output_values[i]))\n",
        "    text_colours.append(text)\n",
        "  print_color(text_colours)"
      ],
      "execution_count": 154,
      "outputs": []
    },
    {
      "cell_type": "code",
      "metadata": {
        "colab": {
          "base_uri": "https://localhost:8080/",
          "height": 69
        },
        "id": "VWkte_RvE-ea",
        "outputId": "158e530a-2d91-44cc-a3a1-10a00c562aeb"
      },
      "source": [
        "for (attention_mat,decoder_inp,seq_index) in zip(att_mat,dec_inp,seq_ind):\n",
        "  Wt = np.transpose(attention_mat)\n",
        "  for i in range(len(decoder_inp)):\n",
        "    clear_output(wait=True)\n",
        "    visualize(Wt[i], test_input_texts[seq_index])\n",
        "    print(\"Decoder Output:\",reverse_target_char_index[decoder_inp[i]])\n",
        "    time.sleep(1)"
      ],
      "execution_count": 155,
      "outputs": [
        {
          "output_type": "display_data",
          "data": {
            "text/html": [
              "<text style=color:#000;background-color:snow>s </text><text style=color:#000;background-color:snow>i </text><text style=color:#000;background-color:snow>k </text><text style=color:#000;background-color:snow>h </text><text style=color:#000;background-color:snow>a </text><text style=color:#000;background-color:snow>n </text><text style=color:#000;background-color:snow>a </text>"
            ],
            "text/plain": [
              "<IPython.core.display.HTML object>"
            ]
          },
          "metadata": {
            "tags": []
          }
        },
        {
          "output_type": "stream",
          "text": [
            "Decoder Output: \n",
            "\n"
          ],
          "name": "stdout"
        }
      ]
    }
  ]
}