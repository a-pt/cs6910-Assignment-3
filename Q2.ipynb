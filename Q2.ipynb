{
  "nbformat": 4,
  "nbformat_minor": 0,
  "metadata": {
    "colab": {
      "name": "Q2_temp.ipynb",
      "provenance": [],
      "include_colab_link": true
    },
    "kernelspec": {
      "name": "python3",
      "display_name": "Python 3"
    },
    "language_info": {
      "name": "python"
    },
    "accelerator": "GPU"
  },
  "cells": [
    {
      "cell_type": "markdown",
      "metadata": {
        "id": "view-in-github",
        "colab_type": "text"
      },
      "source": [
        "<a href=\"https://colab.research.google.com/github/cs20m016/cs6910-Assignment-3/blob/main/Q2.ipynb\" target=\"_parent\"><img src=\"https://colab.research.google.com/assets/colab-badge.svg\" alt=\"Open In Colab\"/></a>"
      ]
    },
    {
      "cell_type": "code",
      "metadata": {
        "id": "F3Z3K7Nf7q79",
        "colab": {
          "base_uri": "https://localhost:8080/"
        },
        "outputId": "bf6183ed-072b-44df-c308-4f8d4b466731"
      },
      "source": [
        "!pip install wandb -qq\n",
        "import wandb"
      ],
      "execution_count": 1,
      "outputs": [
        {
          "output_type": "stream",
          "text": [
            "\u001b[K     |████████████████████████████████| 1.8MB 6.5MB/s \n",
            "\u001b[K     |████████████████████████████████| 133kB 23.0MB/s \n",
            "\u001b[K     |████████████████████████████████| 174kB 21.1MB/s \n",
            "\u001b[K     |████████████████████████████████| 102kB 9.6MB/s \n",
            "\u001b[K     |████████████████████████████████| 71kB 9.1MB/s \n",
            "\u001b[?25h  Building wheel for pathtools (setup.py) ... \u001b[?25l\u001b[?25hdone\n",
            "  Building wheel for subprocess32 (setup.py) ... \u001b[?25l\u001b[?25hdone\n"
          ],
          "name": "stdout"
        }
      ]
    },
    {
      "cell_type": "code",
      "metadata": {
        "id": "IovU_R9f7sba",
        "colab": {
          "base_uri": "https://localhost:8080/",
          "height": 104
        },
        "outputId": "6ee62317-5362-4fb2-bf75-3a7ec4406731"
      },
      "source": [
        "wandb.login()"
      ],
      "execution_count": 2,
      "outputs": [
        {
          "output_type": "display_data",
          "data": {
            "application/javascript": [
              "\n",
              "        window._wandbApiKey = new Promise((resolve, reject) => {\n",
              "            function loadScript(url) {\n",
              "            return new Promise(function(resolve, reject) {\n",
              "                let newScript = document.createElement(\"script\");\n",
              "                newScript.onerror = reject;\n",
              "                newScript.onload = resolve;\n",
              "                document.body.appendChild(newScript);\n",
              "                newScript.src = url;\n",
              "            });\n",
              "            }\n",
              "            loadScript(\"https://cdn.jsdelivr.net/npm/postmate/build/postmate.min.js\").then(() => {\n",
              "            const iframe = document.createElement('iframe')\n",
              "            iframe.style.cssText = \"width:0;height:0;border:none\"\n",
              "            document.body.appendChild(iframe)\n",
              "            const handshake = new Postmate({\n",
              "                container: iframe,\n",
              "                url: 'https://wandb.ai/authorize'\n",
              "            });\n",
              "            const timeout = setTimeout(() => reject(\"Couldn't auto authenticate\"), 5000)\n",
              "            handshake.then(function(child) {\n",
              "                child.on('authorize', data => {\n",
              "                    clearTimeout(timeout)\n",
              "                    resolve(data)\n",
              "                });\n",
              "            });\n",
              "            })\n",
              "        });\n",
              "    "
            ],
            "text/plain": [
              "<IPython.core.display.Javascript object>"
            ]
          },
          "metadata": {
            "tags": []
          }
        },
        {
          "output_type": "stream",
          "text": [
            "\u001b[34m\u001b[1mwandb\u001b[0m: You can find your API key in your browser here: https://wandb.ai/authorize\n"
          ],
          "name": "stderr"
        },
        {
          "output_type": "stream",
          "text": [
            "wandb: Paste an API key from your profile and hit enter: ··········\n"
          ],
          "name": "stdout"
        },
        {
          "output_type": "stream",
          "text": [
            "\u001b[34m\u001b[1mwandb\u001b[0m: Appending key for api.wandb.ai to your netrc file: /root/.netrc\n"
          ],
          "name": "stderr"
        },
        {
          "output_type": "execute_result",
          "data": {
            "text/plain": [
              "True"
            ]
          },
          "metadata": {
            "tags": []
          },
          "execution_count": 2
        }
      ]
    },
    {
      "cell_type": "code",
      "metadata": {
        "id": "97MiICgk2-UN",
        "colab": {
          "base_uri": "https://localhost:8080/"
        },
        "outputId": "aa1873ed-03d0-45a6-8043-ee07fe79b914"
      },
      "source": [
        "from google.colab import drive\n",
        "drive.mount('/content/drive/')"
      ],
      "execution_count": 3,
      "outputs": [
        {
          "output_type": "stream",
          "text": [
            "Mounted at /content/drive/\n"
          ],
          "name": "stdout"
        }
      ]
    },
    {
      "cell_type": "code",
      "metadata": {
        "id": "D4ggVohJ3Beq"
      },
      "source": [
        "import numpy as np\n",
        "import tensorflow as tf\n",
        "from tensorflow import keras\n",
        "import random\n",
        "from keras.utils.vis_utils import plot_model"
      ],
      "execution_count": 4,
      "outputs": []
    },
    {
      "cell_type": "code",
      "metadata": {
        "id": "Y-lBuMTLvrgp"
      },
      "source": [
        "!unzip /content/drive/MyDrive/Assignment3_DL/dakshina_dataset_v1.0.zip > /dev/null"
      ],
      "execution_count": 5,
      "outputs": []
    },
    {
      "cell_type": "code",
      "metadata": {
        "id": "abHYywZh3BcK"
      },
      "source": [
        "def Recurrent_Neural_Network(epochs, dropout, recc_dropout, input_embedding_size, number_of_encoder_layers, number_of_decoder_layers, cell_type, learning_rate, optimiser_fn, activation_fn):\n",
        "  \n",
        "  batch_size = 64  # Batch size for training.\n",
        "  latent_dim = 256  # Latent dimensionality of the encoding space.\n",
        "  num_samples = 10000  # Number of samples to train on.\n",
        "\n",
        "  # Path to the data txt file on disk.\n",
        "  data_path = \"dakshina_dataset_v1.0/hi/lexicons/hi.translit.sampled.train.tsv\"\n",
        "  val_path = \"dakshina_dataset_v1.0/hi/lexicons/hi.translit.sampled.dev.tsv\"\n",
        "  test_path = \"dakshina_dataset_v1.0/hi/lexicons/hi.translit.sampled.test.tsv\"\n",
        "\n",
        "  input_texts = []\n",
        "  target_texts = []\n",
        "  input_characters = set()\n",
        "  target_characters = set()\n",
        "  with open(data_path, \"r\", encoding=\"utf-8\") as f:\n",
        "      lines = f.read().split(\"\\n\")\n",
        "  for line in lines[: len(lines) - 1]:\n",
        "      target_text, input_text, _ = line.split(\"\\t\")\n",
        "      # We use \"tab\" as the \"start sequence\" character\n",
        "      # for the targets, and \"\\n\" as \"end sequence\" character.\n",
        "      target_text = \"\\t\" + target_text + \"\\n\"\n",
        "      input_texts.append(input_text)\n",
        "      target_texts.append(target_text)\n",
        "      for char in input_text:\n",
        "          if char not in input_characters:\n",
        "              input_characters.add(char)\n",
        "      for char in target_text:\n",
        "          if char not in target_characters:\n",
        "              target_characters.add(char)\n",
        "\n",
        "  input_characters.add(\" \")\n",
        "  target_characters.add(\" \")\n",
        "  input_characters = sorted(list(input_characters))\n",
        "  target_characters = sorted(list(target_characters))\n",
        "  num_encoder_tokens = len(input_characters)\n",
        "  num_decoder_tokens = len(target_characters)\n",
        "  max_encoder_seq_length = max([len(txt) for txt in input_texts])\n",
        "  max_decoder_seq_length = max([len(txt) for txt in target_texts])\n",
        "\n",
        "  val_input_texts = []\n",
        "  val_target_texts = []\n",
        "\n",
        "  with open(val_path, \"r\", encoding=\"utf-8\") as f:\n",
        "      lines = f.read().split(\"\\n\")\n",
        "  for line in lines[: len(lines) - 1]:\n",
        "      target_text, input_text, _ = line.split(\"\\t\")\n",
        "      # We use \"tab\" as the \"start sequence\" character\n",
        "      # for the targets, and \"\\n\" as \"end sequence\" character.\n",
        "      target_text = \"\\t\" + target_text + \"\\n\"\n",
        "      val_input_texts.append(input_text)\n",
        "      val_target_texts.append(target_text)\n",
        "\n",
        "  # test_input_texts = []\n",
        "  # test_target_texts = []\n",
        "\n",
        "  # with open(test_path, \"r\", encoding=\"utf-8\") as f:\n",
        "  #     lines = f.read().split(\"\\n\")\n",
        "  # for line in lines[: len(lines) - 1]:\n",
        "  #     target_text, input_text, _ = line.split(\"\\t\")\n",
        "  #     # We use \"tab\" as the \"start sequence\" character\n",
        "  #     # for the targets, and \"\\n\" as \"end sequence\" character.\n",
        "  #     test_input_texts.append(input_text)\n",
        "  #     test_target_texts.append(target_text)\n",
        "\n",
        "  input_token_index = dict([(char, i) for i, char in enumerate(input_characters)])\n",
        "  target_token_index = dict([(char, i) for i, char in enumerate(target_characters)])\n",
        "\n",
        "  encoder_input_data = np.zeros((len(input_texts), max_encoder_seq_length, num_encoder_tokens), dtype=\"float32\")\n",
        "  decoder_input_data = np.zeros((len(input_texts), max_decoder_seq_length, num_decoder_tokens), dtype=\"float32\")\n",
        "  decoder_target_data = np.zeros((len(input_texts), max_decoder_seq_length, num_decoder_tokens), dtype=\"float32\")\n",
        "  #print(np.shape(encoder_input_data),np.shape(decoder_input_data),np.shape(decoder_target_data))\n",
        "\n",
        "  val_encoder_input_data = np.zeros((len(val_input_texts), max_encoder_seq_length, num_encoder_tokens), dtype=\"float32\")\n",
        "  val_decoder_input_data = np.zeros((len(val_input_texts), max_decoder_seq_length, num_decoder_tokens), dtype=\"float32\")\n",
        "  val_decoder_target_data = np.zeros((len(val_input_texts), max_decoder_seq_length, num_decoder_tokens), dtype=\"float32\")\n",
        "  #print(np.shape(val_encoder_input_data),np.shape(val_decoder_input_data),np.shape(val_decoder_target_data))\n",
        "\n",
        "  #test_encoder_input_data = np.zeros((len(test_input_texts), max_encoder_seq_length, num_encoder_tokens), dtype=\"float32\")\n",
        "\n",
        "  for i, (input_text, target_text) in enumerate(zip(input_texts, target_texts)):\n",
        "    for t, char in enumerate(input_text):\n",
        "        encoder_input_data[i, t, input_token_index[char]] = 1.0\n",
        "    encoder_input_data[i, t + 1 :, input_token_index[\" \"]] = 1.0\n",
        "    for t, char in enumerate(target_text):\n",
        "        # decoder_target_data is ahead of decoder_input_data by one timestep\n",
        "        decoder_input_data[i, t, target_token_index[char]] = 1.0\n",
        "        if t > 0:\n",
        "            # decoder_target_data will be ahead by one timestep\n",
        "            # and will not include the start character.\n",
        "            decoder_target_data[i, t - 1, target_token_index[char]] = 1.0\n",
        "    decoder_input_data[i, t + 1 :, target_token_index[\" \"]] = 1.0\n",
        "    decoder_target_data[i, t:, target_token_index[\" \"]] = 1.0\n",
        "\n",
        "  for i, (val_input_text, val_target_text) in enumerate(zip(val_input_texts, val_target_texts)):\n",
        "    for t, char in enumerate(val_input_text):\n",
        "        val_encoder_input_data[i, t, input_token_index[char]] = 1.0\n",
        "    val_encoder_input_data[i, t + 1 :, input_token_index[\" \"]] = 1.0\n",
        "    for t, char in enumerate(val_target_text):\n",
        "        # decoder_target_data is ahead of decoder_input_data by one timestep\n",
        "        val_decoder_input_data[i, t, target_token_index[char]] = 1.0\n",
        "        if t > 0:\n",
        "            # decoder_target_data will be ahead by one timestep\n",
        "            # and will not include the start character.\n",
        "            val_decoder_target_data[i, t - 1, target_token_index[char]] = 1.0\n",
        "    val_decoder_input_data[i, t + 1 :, target_token_index[\" \"]] = 1.0\n",
        "    val_decoder_target_data[i, t:, target_token_index[\" \"]] = 1.0\n",
        "\n",
        "    # for i, (test_input_text, ) in enumerate(zip(test_input_texts, )):\n",
        "    #   for t, char in enumerate(test_input_text):\n",
        "    #       test_encoder_input_data[i, t, input_token_index[char]] = 1.0\n",
        "    #   test_encoder_input_data[i, t + 1 :, input_token_index[\" \"]] = 1.0\n",
        "\n",
        "  encoder_inputs = keras.Input(shape=(None, num_encoder_tokens))\n",
        "\n",
        "  # Define an input sequence and process it.\n",
        "  if cell_type=='LSTM':\n",
        "    encoder = keras.layers.LSTM(latent_dim, return_state=True)\n",
        "    encoder_outputs, state_h, state_c = encoder(encoder_inputs)\n",
        "    # We discard `encoder_outputs` and only keep the states.\n",
        "    encoder_states = [state_h, state_c]\n",
        "    # Set up the decoder, using `encoder_states` as initial state.\n",
        "    decoder_inputs = keras.Input(shape=(None, num_decoder_tokens))\n",
        "    # We set up our decoder to return full output sequences,\n",
        "    # and to return internal states as well. We don't use the\n",
        "    # return states in the training model, but we will use them in inference.\n",
        "    decoder_lstm = keras.layers.LSTM(latent_dim, return_sequences=True, return_state=True)\n",
        "    decoder_outputs, _, _ = decoder_lstm(decoder_inputs, initial_state=encoder_states)\n",
        "\n",
        "  elif cell_type=='RNN':\n",
        "    encoder = keras.layers.SimpleRNN(latent_dim, return_state=True,dropout=dropout,recurrent_dropout=recc_dropout)\n",
        "    encoder_outputs, state_h = encoder(encoder_inputs)\n",
        "    decoder_inputs = keras.Input(shape=(None, num_decoder_tokens))\n",
        "    decoder_rnn = keras.layers.SimpleRNN(latent_dim, return_sequences=True,return_state=True,dropout=dropout,recurrent_dropout=recc_dropout)\n",
        "    decoder_outputs,_ = decoder_rnn(decoder_inputs, initial_state=state_h)\n",
        "\n",
        "  elif cell_type=='GRU':\n",
        "    encoder = keras.layers.GRU(latent_dim, return_state=True,dropout=dropout,recurrent_dropout=recc_dropout)\n",
        "    encoder_outputs, state_h = encoder(encoder_inputs)\n",
        "    decoder_inputs = keras.Input(shape=(None, num_decoder_tokens))\n",
        "    decoder_gru = keras.layers.GRU(latent_dim, return_sequences=True,return_state=True,dropout=dropout,recurrent_dropout=recc_dropout)\n",
        "    decoder_outputs,_ = decoder_gru(decoder_inputs, initial_state=state_h)\n",
        "    \n",
        "  decoder_dense = keras.layers.Dense(num_decoder_tokens, activation='softmax')\n",
        "  decoder_outputs = decoder_dense(decoder_outputs)\n",
        "  \n",
        "  # Define the model that will turn\n",
        "  # `encoder_input_data` & `decoder_input_data` into `decoder_target_data`\n",
        "  model = keras.Model([encoder_inputs, decoder_inputs], decoder_outputs)\n",
        "\n",
        "  if optimiser_fn=='adam':\n",
        "    opt = tf.keras.optimizers.Adam(learning_rate = learning_rate, beta_1=0.9, beta_2=0.999, epsilon=1e-07, amsgrad=False, name=\"Adam\")\n",
        "  elif optimiser_fn=='sgd':\n",
        "    opt = tf.keras.optimizers.SGD(learning_rate = learning_rate, momentum=0.0, nesterov=False, name=\"SGD\")\n",
        "  elif optimiser_fn=='momentum':\n",
        "    opt = tf.keras.optimizers.SGD(learning_rate = learning_rate, momentum=0.9, nesterov=False)\n",
        "\n",
        "  model.compile(optimizer=opt, loss=\"categorical_crossentropy\", metrics=[\"accuracy\"])\n",
        "  history = model.fit([encoder_input_data, decoder_input_data], decoder_target_data, batch_size=batch_size, epochs=epochs, validation_data=([val_encoder_input_data, val_decoder_input_data],val_decoder_target_data))\n",
        "  epochs_range = len(history.history['loss'])\n",
        "  for i in range(epochs_range):\n",
        "    wandb.log({'accuracy': history.history['accuracy'][i]})\n",
        "    wandb.log({'val_accuracy': history.history['val_accuracy'][i]})\n",
        "    wandb.log({'loss': history.history['loss'][i]})\n",
        "    wandb.log({'val_loss': history.history['val_loss'][i]})\n",
        "  wandb.log({'model_accuracy': max(history.history['val_accuracy'])})\n",
        "  return\n"
      ],
      "execution_count": 27,
      "outputs": []
    },
    {
      "cell_type": "code",
      "metadata": {
        "id": "nQqHDUmy3BZV"
      },
      "source": [
        "sweep_config = {\n",
        "    'method': 'random',\n",
        "    'metric': {\n",
        "      'name': 'model_accuracy',\n",
        "      'goal': 'maximize'   \n",
        "    },\n",
        "    'parameters': {\n",
        "        'epoch': {\n",
        "            'values': [40,50,60]\n",
        "        },\n",
        "        'dropout':{\n",
        "            'values': [0.1,0.2,0.3]\n",
        "        },\n",
        "        'recc_dropout':{\n",
        "            'values': [0.1,0.2,0.3]\n",
        "        },\n",
        "        'input_embedding_size': {\n",
        "            'values': [16]\n",
        "        },\n",
        "        'number_of_encoder_layers': {\n",
        "            'values': [1]\n",
        "        },\n",
        "        'number_of_decoder_layers':{\n",
        "            'values': [1]\n",
        "        },\n",
        "        'cell_type': {\n",
        "            'values':['RNN','GRU','LSTM']\n",
        "        },\n",
        "        'learning_rate':{\n",
        "            'values': [0.01,0.001,0.0001]\n",
        "        },\n",
        "        'optimizer_fn':{\n",
        "            'values': ['adam','sgd','momentum']\n",
        "        },\n",
        "        'activation_fn':{\n",
        "            'values': ['relu']\n",
        "        }\n",
        "    }\n",
        "}"
      ],
      "execution_count": 28,
      "outputs": []
    },
    {
      "cell_type": "code",
      "metadata": {
        "id": "uODXDwDw3BW7",
        "colab": {
          "base_uri": "https://localhost:8080/"
        },
        "outputId": "17386b88-9a68-4ac0-cb83-f8f84e261eb2"
      },
      "source": [
        "sweep_id = wandb.sweep(sweep_config,entity=\"aanchaljawere\",project=\"extra\")"
      ],
      "execution_count": 29,
      "outputs": [
        {
          "output_type": "stream",
          "text": [
            "Create sweep with ID: a25nk4jr\n",
            "Sweep URL: https://wandb.ai/aanchaljawere/extra/sweeps/a25nk4jr\n"
          ],
          "name": "stdout"
        }
      ]
    },
    {
      "cell_type": "code",
      "metadata": {
        "id": "DxEIHgab3BUT"
      },
      "source": [
        "def train():\n",
        "    config_defaults={\n",
        "        'epoch':40,\n",
        "        'dropout':0.2,\n",
        "        'recc_dropout':0.2,\n",
        "        'input_embedding_size':32,\n",
        "        'number_of_encoder_layers':1,\n",
        "        'number_of_decoder_layers':1,\n",
        "        'cell_type':'RNN',\n",
        "        'learning_rate':0.001,\n",
        "        'optimiser_fn':'adam',\n",
        "        'activation_fn':'relu',\n",
        "        }\n",
        "    # Initialize a new wandb run\n",
        "    wandb.init(config=config_defaults)\n",
        "    \n",
        "    # Config is a variable that holds and saves hyperparameters and inputs\n",
        "    config = wandb.config\n",
        "\n",
        "    Recurrent_Neural_Network(config.epoch, config.dropout, config.recc_dropout, config.input_embedding_size, config.number_of_encoder_layers,config.number_of_decoder_layers, config.cell_type, config.learning_rate, config.optimiser_fn, config.activation_fn)  \n",
        "    return"
      ],
      "execution_count": 30,
      "outputs": []
    },
    {
      "cell_type": "code",
      "metadata": {
        "id": "pc9c9Mrh3BRx",
        "colab": {
          "base_uri": "https://localhost:8080/",
          "height": 381
        },
        "outputId": "1922d4fe-bdbc-43ea-fb3d-cbf1fbc46395"
      },
      "source": [
        "wandb.agent(sweep_id, train,count=6)"
      ],
      "execution_count": null,
      "outputs": [
        {
          "output_type": "stream",
          "text": [
            "\u001b[34m\u001b[1mwandb\u001b[0m: Sweep Agent: Waiting for job.\n",
            "\u001b[34m\u001b[1mwandb\u001b[0m: Job received.\n",
            "\u001b[34m\u001b[1mwandb\u001b[0m: Agent Starting Run: 5syedtii with config:\n",
            "\u001b[34m\u001b[1mwandb\u001b[0m: \tactivation_fn: relu\n",
            "\u001b[34m\u001b[1mwandb\u001b[0m: \tcell_type: LSTM\n",
            "\u001b[34m\u001b[1mwandb\u001b[0m: \tdropout: 0.2\n",
            "\u001b[34m\u001b[1mwandb\u001b[0m: \tepoch: 50\n",
            "\u001b[34m\u001b[1mwandb\u001b[0m: \tinput_embedding_size: 16\n",
            "\u001b[34m\u001b[1mwandb\u001b[0m: \tlearning_rate: 0.0001\n",
            "\u001b[34m\u001b[1mwandb\u001b[0m: \tnumber_of_decoder_layers: 1\n",
            "\u001b[34m\u001b[1mwandb\u001b[0m: \tnumber_of_encoder_layers: 1\n",
            "\u001b[34m\u001b[1mwandb\u001b[0m: \toptimizer_fn: adam\n",
            "\u001b[34m\u001b[1mwandb\u001b[0m: \trecc_dropout: 0.2\n"
          ],
          "name": "stderr"
        },
        {
          "output_type": "display_data",
          "data": {
            "text/html": [
              "\n",
              "                Tracking run with wandb version 0.10.30<br/>\n",
              "                Syncing run <strong style=\"color:#cdcd00\">good-sweep-1</strong> to <a href=\"https://wandb.ai\" target=\"_blank\">Weights & Biases</a> <a href=\"https://docs.wandb.com/integrations/jupyter.html\" target=\"_blank\">(Documentation)</a>.<br/>\n",
              "                Project page: <a href=\"https://wandb.ai/aanchaljawere/extra\" target=\"_blank\">https://wandb.ai/aanchaljawere/extra</a><br/>\n",
              "                Sweep page: <a href=\"https://wandb.ai/aanchaljawere/extra/sweeps/a25nk4jr\" target=\"_blank\">https://wandb.ai/aanchaljawere/extra/sweeps/a25nk4jr</a><br/>\n",
              "Run page: <a href=\"https://wandb.ai/aanchaljawere/extra/runs/5syedtii\" target=\"_blank\">https://wandb.ai/aanchaljawere/extra/runs/5syedtii</a><br/>\n",
              "                Run data is saved locally in <code>/content/wandb/run-20210520_033322-5syedtii</code><br/><br/>\n",
              "            "
            ],
            "text/plain": [
              "<IPython.core.display.HTML object>"
            ]
          },
          "metadata": {
            "tags": []
          }
        },
        {
          "output_type": "stream",
          "text": [
            "Epoch 1/50\n"
          ],
          "name": "stdout"
        }
      ]
    },
    {
      "cell_type": "code",
      "metadata": {
        "id": "kvkXVjAv3BPV"
      },
      "source": [
        ""
      ],
      "execution_count": null,
      "outputs": []
    },
    {
      "cell_type": "code",
      "metadata": {
        "id": "drRTmGg13BMg"
      },
      "source": [
        ""
      ],
      "execution_count": null,
      "outputs": []
    },
    {
      "cell_type": "code",
      "metadata": {
        "id": "VmyBKt_z3BJ7"
      },
      "source": [
        ""
      ],
      "execution_count": null,
      "outputs": []
    },
    {
      "cell_type": "code",
      "metadata": {
        "id": "pK1c043-3BHY"
      },
      "source": [
        ""
      ],
      "execution_count": null,
      "outputs": []
    },
    {
      "cell_type": "code",
      "metadata": {
        "id": "I5JzL9543BFI"
      },
      "source": [
        ""
      ],
      "execution_count": null,
      "outputs": []
    },
    {
      "cell_type": "code",
      "metadata": {
        "id": "pNFuz9D33BCj"
      },
      "source": [
        ""
      ],
      "execution_count": null,
      "outputs": []
    },
    {
      "cell_type": "code",
      "metadata": {
        "id": "GIFzNw8-3A_9"
      },
      "source": [
        ""
      ],
      "execution_count": null,
      "outputs": []
    }
  ]
}