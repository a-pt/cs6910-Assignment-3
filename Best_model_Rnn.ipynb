{
  "nbformat": 4,
  "nbformat_minor": 0,
  "metadata": {
    "colab": {
      "name": "RnnWandB.ipynb",
      "provenance": [],
      "include_colab_link": true
    },
    "kernelspec": {
      "name": "python3",
      "display_name": "Python 3"
    },
    "language_info": {
      "name": "python"
    },
    "accelerator": "GPU"
  },
  "cells": [
    {
      "cell_type": "markdown",
      "metadata": {
        "id": "view-in-github",
        "colab_type": "text"
      },
      "source": [
        "<a href=\"https://colab.research.google.com/github/cs20m016/cs6910-Assignment-3/blob/main/Best_model_Rnn.ipynb\" target=\"_parent\"><img src=\"https://colab.research.google.com/assets/colab-badge.svg\" alt=\"Open In Colab\"/></a>"
      ]
    },
    {
      "cell_type": "code",
      "metadata": {
        "colab": {
          "base_uri": "https://localhost:8080/"
        },
        "id": "q-CDyqt2LXiV",
        "outputId": "c49eaaf7-cc09-4b1f-90de-743a6c593831"
      },
      "source": [
        "!pip install wandb -qq\n",
        "import wandb"
      ],
      "execution_count": 1,
      "outputs": [
        {
          "output_type": "stream",
          "text": [
            "\u001b[K     |████████████████████████████████| 1.8MB 33.2MB/s \n",
            "\u001b[K     |████████████████████████████████| 174kB 53.4MB/s \n",
            "\u001b[K     |████████████████████████████████| 102kB 15.8MB/s \n",
            "\u001b[K     |████████████████████████████████| 133kB 58.7MB/s \n",
            "\u001b[K     |████████████████████████████████| 71kB 12.5MB/s \n",
            "\u001b[?25h  Building wheel for subprocess32 (setup.py) ... \u001b[?25l\u001b[?25hdone\n",
            "  Building wheel for pathtools (setup.py) ... \u001b[?25l\u001b[?25hdone\n"
          ],
          "name": "stdout"
        }
      ]
    },
    {
      "cell_type": "code",
      "metadata": {
        "colab": {
          "base_uri": "https://localhost:8080/",
          "height": 69
        },
        "id": "yJQGqheJLsrp",
        "outputId": "a528a6a7-2cc5-4fe3-c61c-61dc6535cb43"
      },
      "source": [
        "wandb.login()"
      ],
      "execution_count": 2,
      "outputs": [
        {
          "output_type": "display_data",
          "data": {
            "application/javascript": [
              "\n",
              "        window._wandbApiKey = new Promise((resolve, reject) => {\n",
              "            function loadScript(url) {\n",
              "            return new Promise(function(resolve, reject) {\n",
              "                let newScript = document.createElement(\"script\");\n",
              "                newScript.onerror = reject;\n",
              "                newScript.onload = resolve;\n",
              "                document.body.appendChild(newScript);\n",
              "                newScript.src = url;\n",
              "            });\n",
              "            }\n",
              "            loadScript(\"https://cdn.jsdelivr.net/npm/postmate/build/postmate.min.js\").then(() => {\n",
              "            const iframe = document.createElement('iframe')\n",
              "            iframe.style.cssText = \"width:0;height:0;border:none\"\n",
              "            document.body.appendChild(iframe)\n",
              "            const handshake = new Postmate({\n",
              "                container: iframe,\n",
              "                url: 'https://wandb.ai/authorize'\n",
              "            });\n",
              "            const timeout = setTimeout(() => reject(\"Couldn't auto authenticate\"), 5000)\n",
              "            handshake.then(function(child) {\n",
              "                child.on('authorize', data => {\n",
              "                    clearTimeout(timeout)\n",
              "                    resolve(data)\n",
              "                });\n",
              "            });\n",
              "            })\n",
              "        });\n",
              "    "
            ],
            "text/plain": [
              "<IPython.core.display.Javascript object>"
            ]
          },
          "metadata": {
            "tags": []
          }
        },
        {
          "output_type": "stream",
          "text": [
            "\u001b[34m\u001b[1mwandb\u001b[0m: Appending key for api.wandb.ai to your netrc file: /root/.netrc\n"
          ],
          "name": "stderr"
        },
        {
          "output_type": "execute_result",
          "data": {
            "text/plain": [
              "True"
            ]
          },
          "metadata": {
            "tags": []
          },
          "execution_count": 2
        }
      ]
    },
    {
      "cell_type": "code",
      "metadata": {
        "colab": {
          "base_uri": "https://localhost:8080/"
        },
        "id": "OOhQJOC2nMJG",
        "outputId": "44cd03f2-33aa-43a2-ad4a-b4f7f6ae7619"
      },
      "source": [
        "from google.colab import drive\n",
        "drive.mount('/content/drive/')"
      ],
      "execution_count": 3,
      "outputs": [
        {
          "output_type": "stream",
          "text": [
            "Mounted at /content/drive/\n"
          ],
          "name": "stdout"
        }
      ]
    },
    {
      "cell_type": "code",
      "metadata": {
        "id": "SCOU5wewqEmK",
        "colab": {
          "base_uri": "https://localhost:8080/"
        },
        "outputId": "8d198d75-e505-4b9b-a46a-1f6d171154f7"
      },
      "source": [
        "!unzip /content/drive/MyDrive/Assignment3_DL/dakshina_dataset_v1.0.zip > /dev/null"
      ],
      "execution_count": 5,
      "outputs": [
        {
          "output_type": "stream",
          "text": [
            "replace dakshina_dataset_v1.0/bn/lexicons/bn.translit.sampled.dev.tsv? [y]es, [n]o, [A]ll, [N]one, [r]ename: "
          ],
          "name": "stdout"
        }
      ]
    },
    {
      "cell_type": "code",
      "metadata": {
        "id": "Gs76iyyqsIqz"
      },
      "source": [
        "import numpy as np\n",
        "import tensorflow as tf\n",
        "from tensorflow import keras\n",
        "import random\n",
        "from keras.utils.vis_utils import plot_model\n",
        "from tensorflow.keras import layers\n",
        "from keras.models import Model\n",
        "from keras.layers import Input, LSTM, Dense, RNN, GRU, SimpleRNN\n",
        "import math\n",
        "from math import log"
      ],
      "execution_count": 8,
      "outputs": []
    },
    {
      "cell_type": "code",
      "metadata": {
        "colab": {
          "base_uri": "https://localhost:8080/"
        },
        "id": "RfBzH_4EsMpA",
        "outputId": "40ef10cb-853a-49fa-ddb9-7ca0d4f8cf20"
      },
      "source": [
        "# Path to the data txt file on disk.\n",
        "data_path = \"dakshina_dataset_v1.0/hi/lexicons/hi.translit.sampled.train.tsv\"\n",
        "val_path = \"dakshina_dataset_v1.0/hi/lexicons/hi.translit.sampled.dev.tsv\"\n",
        "test_path = \"dakshina_dataset_v1.0/hi/lexicons/hi.translit.sampled.test.tsv\"\n",
        "\n",
        "input_texts = []\n",
        "target_texts = []\n",
        "input_characters = set()\n",
        "target_characters = set()\n",
        "with open(data_path, \"r\", encoding=\"utf-8\") as f:\n",
        "    lines = f.read().split(\"\\n\")\n",
        "for line in lines[: len(lines) - 1]:\n",
        "    target_text, input_text, _ = line.split(\"\\t\")\n",
        "    # We use \"tab\" as the \"start sequence\" character\n",
        "    # for the targets, and \"\\n\" as \"end sequence\" character.\n",
        "    target_text = \"\\t\" + target_text + \"\\n\"\n",
        "    input_texts.append(input_text)\n",
        "    target_texts.append(target_text)\n",
        "    for char in input_text:\n",
        "        if char not in input_characters:\n",
        "            input_characters.add(char)\n",
        "    for char in target_text:\n",
        "        if char not in target_characters:\n",
        "            target_characters.add(char)\n",
        "\n",
        "input_characters.add(\" \")\n",
        "target_characters.add(\" \")\n",
        "input_characters = sorted(list(input_characters))\n",
        "target_characters = sorted(list(target_characters))\n",
        "num_encoder_tokens = len(input_characters)\n",
        "num_decoder_tokens = len(target_characters)\n",
        "max_encoder_seq_length = max([len(txt) for txt in input_texts])\n",
        "max_decoder_seq_length = max([len(txt) for txt in target_texts])\n",
        "\n",
        "val_input_texts = []\n",
        "val_target_texts = []\n",
        "\n",
        "with open(val_path, \"r\", encoding=\"utf-8\") as f:\n",
        "    lines = f.read().split(\"\\n\")\n",
        "for line in lines[: len(lines) - 1]:\n",
        "    target_text, input_text, _ = line.split(\"\\t\")\n",
        "    # We use \"tab\" as the \"start sequence\" character\n",
        "    # for the targets, and \"\\n\" as \"end sequence\" character.\n",
        "    target_text = \"\\t\" + target_text + \"\\n\"\n",
        "    val_input_texts.append(input_text)\n",
        "    val_target_texts.append(target_text)\n",
        "\n",
        "test_input_texts = []\n",
        "test_target_texts = []\n",
        "\n",
        "with open(val_path, \"r\", encoding=\"utf-8\") as f:\n",
        "    lines = f.read().split(\"\\n\")\n",
        "for line in lines[: len(lines) - 1]:\n",
        "    target_text, input_text, _ = line.split(\"\\t\")\n",
        "    # We use \"tab\" as the \"start sequence\" character\n",
        "    # for the targets, and \"\\n\" as \"end sequence\" character.\n",
        "    test_input_texts.append(input_text)\n",
        "    test_target_texts.append(target_text)\n",
        "\n",
        "print(\"Number of samples:\", len(input_texts))\n",
        "print(\"Number of validation samples:\", len(val_input_texts))\n",
        "print(\"Number of test samples:\", len(test_input_texts))\n",
        "print(\"Number of unique input tokens:\", num_encoder_tokens)\n",
        "print(\"Number of unique output tokens:\", num_decoder_tokens)\n",
        "print(\"Max sequence length for inputs:\", max_encoder_seq_length)\n",
        "print(\"Max sequence length for outputs:\", max_decoder_seq_length)"
      ],
      "execution_count": 6,
      "outputs": [
        {
          "output_type": "stream",
          "text": [
            "Number of samples: 44204\n",
            "Number of validation samples: 4358\n",
            "Number of test samples: 4358\n",
            "Number of unique input tokens: 27\n",
            "Number of unique output tokens: 66\n",
            "Max sequence length for inputs: 20\n",
            "Max sequence length for outputs: 21\n"
          ],
          "name": "stdout"
        }
      ]
    },
    {
      "cell_type": "code",
      "metadata": {
        "colab": {
          "base_uri": "https://localhost:8080/"
        },
        "id": "EML1vXyzsVnn",
        "outputId": "e60a16a1-a5c2-4de0-c4eb-06bda032ec63"
      },
      "source": [
        "#\"Train Set Samples\"\n",
        "for i in range (5):\n",
        "  index = random. randint(0,len(target_texts))\n",
        "  print(input_texts[index],target_texts[index])"
      ],
      "execution_count": 9,
      "outputs": [
        {
          "output_type": "stream",
          "text": [
            "mahakata \tमहकता\n",
            "\n",
            "kazim \tकाजिम\n",
            "\n",
            "meethe \tमीठे\n",
            "\n",
            "utarkar \tउतरकर\n",
            "\n",
            "chita \tचिता\n",
            "\n"
          ],
          "name": "stdout"
        }
      ]
    },
    {
      "cell_type": "code",
      "metadata": {
        "colab": {
          "base_uri": "https://localhost:8080/"
        },
        "id": "IRx7moWdtpEt",
        "outputId": "67b229be-ab6a-4f1f-ab75-026bc1a42cb5"
      },
      "source": [
        "#Validation Set Samples\"\n",
        "for i in range (5):\n",
        "  index = random. randint(0,len(val_target_texts))\n",
        "  print(val_input_texts[index],val_target_texts[index])"
      ],
      "execution_count": 10,
      "outputs": [
        {
          "output_type": "stream",
          "text": [
            "bhasin \tभसीन\n",
            "\n",
            "hindi \tहिन्दी\n",
            "\n",
            "premanand \tप्रेमानंद\n",
            "\n",
            "raagi \tरागी\n",
            "\n",
            "shariri \tशरीरी\n",
            "\n"
          ],
          "name": "stdout"
        }
      ]
    },
    {
      "cell_type": "code",
      "metadata": {
        "colab": {
          "base_uri": "https://localhost:8080/"
        },
        "id": "YJHg55tEtq_8",
        "outputId": "9cbd45d7-2403-4d92-f094-f93009a7bfa5"
      },
      "source": [
        "input_token_index = dict([(char, i) for i, char in enumerate(input_characters)])\n",
        "target_token_index = dict([(char, i) for i, char in enumerate(target_characters)])\n",
        "\n",
        "encoder_input_data = np.zeros((len(input_texts), max_encoder_seq_length, num_encoder_tokens), dtype=\"float32\")\n",
        "decoder_input_data = np.zeros((len(input_texts), max_decoder_seq_length, num_decoder_tokens), dtype=\"float32\")\n",
        "decoder_target_data = np.zeros((len(input_texts), max_decoder_seq_length, num_decoder_tokens), dtype=\"float32\")\n",
        "print(np.shape(encoder_input_data),np.shape(decoder_input_data),np.shape(decoder_target_data))\n",
        "\n",
        "val_encoder_input_data = np.zeros((len(val_input_texts), max_encoder_seq_length, num_encoder_tokens), dtype=\"float32\")\n",
        "val_decoder_input_data = np.zeros((len(val_input_texts), max_decoder_seq_length, num_decoder_tokens), dtype=\"float32\")\n",
        "val_decoder_target_data = np.zeros((len(val_input_texts), max_decoder_seq_length, num_decoder_tokens), dtype=\"float32\")\n",
        "print(np.shape(val_encoder_input_data),np.shape(val_decoder_input_data),np.shape(val_decoder_target_data))\n",
        "\n",
        "test_encoder_input_data = np.zeros((len(test_input_texts), max_encoder_seq_length, num_encoder_tokens), dtype=\"float32\")\n",
        "print(np.shape(test_encoder_input_data))\n",
        "\n",
        "for i, (input_text, target_text) in enumerate(zip(input_texts, target_texts)):\n",
        "    for t, char in enumerate(input_text):\n",
        "        encoder_input_data[i, t, input_token_index[char]] = 1.0\n",
        "    encoder_input_data[i, t + 1 :, input_token_index[\" \"]] = 1.0\n",
        "    for t, char in enumerate(target_text):\n",
        "        # decoder_target_data is ahead of decoder_input_data by one timestep\n",
        "        decoder_input_data[i, t, target_token_index[char]] = 1.0\n",
        "        if t > 0:\n",
        "            # decoder_target_data will be ahead by one timestep\n",
        "            # and will not include the start character.\n",
        "            decoder_target_data[i, t - 1, target_token_index[char]] = 1.0\n",
        "    decoder_input_data[i, t + 1 :, target_token_index[\" \"]] = 1.0\n",
        "    decoder_target_data[i, t:, target_token_index[\" \"]] = 1.0\n",
        "\n",
        "for i, (val_input_text, val_target_text) in enumerate(zip(val_input_texts, val_target_texts)):\n",
        "    for t, char in enumerate(val_input_text):\n",
        "        val_encoder_input_data[i, t, input_token_index[char]] = 1.0\n",
        "    val_encoder_input_data[i, t + 1 :, input_token_index[\" \"]] = 1.0\n",
        "    for t, char in enumerate(val_target_text):\n",
        "        # decoder_target_data is ahead of decoder_input_data by one timestep\n",
        "        val_decoder_input_data[i, t, target_token_index[char]] = 1.0\n",
        "        if t > 0:\n",
        "            # decoder_target_data will be ahead by one timestep\n",
        "            # and will not include the start character.\n",
        "            val_decoder_target_data[i, t - 1, target_token_index[char]] = 1.0\n",
        "    val_decoder_input_data[i, t + 1 :, target_token_index[\" \"]] = 1.0\n",
        "    val_decoder_target_data[i, t:, target_token_index[\" \"]] = 1.0\n",
        "\n",
        "for i, (test_input_text, ) in enumerate(zip(test_input_texts, )):\n",
        "    for t, char in enumerate(test_input_text):\n",
        "        test_encoder_input_data[i, t, input_token_index[char]] = 1.0\n",
        "    test_encoder_input_data[i, t + 1 :, input_token_index[\" \"]] = 1.0"
      ],
      "execution_count": 11,
      "outputs": [
        {
          "output_type": "stream",
          "text": [
            "(44204, 20, 27) (44204, 21, 66) (44204, 21, 66)\n",
            "(4358, 20, 27) (4358, 21, 66) (4358, 21, 66)\n",
            "(4358, 20, 27)\n"
          ],
          "name": "stdout"
        }
      ]
    },
    {
      "cell_type": "code",
      "metadata": {
        "id": "C-dgFe8CJ1_n"
      },
      "source": [
        "def LSTM_model(epochs, batch_size, latent_dims, optimizer_fn, dropout, recc_dropout):\n",
        "  # Define an input sequence and process it by going through a len(latent_dims)-layer deep encoder\n",
        "  encoder_inputs = Input(shape=(None, num_encoder_tokens))\n",
        "\n",
        "  outputs = encoder_inputs\n",
        "  encoder_states = []\n",
        "  for j in range(len(latent_dims))[::-1]:\n",
        "      outputs, h, c = LSTM(latent_dims[j], return_state=True, return_sequences=bool(j),dropout=dropout,recurrent_dropout=recc_dropout)(outputs)\n",
        "      encoder_states += [h, c]\n",
        "\n",
        "  # Set up the decoder, setting the initial state of each layer to the state of the layer in the encoder\n",
        "  # which is it's mirror (so for encoder: a->b->c, you'd have decoder initial states: c->b->a).\n",
        "  decoder_inputs = Input(shape=(None, num_decoder_tokens))\n",
        "\n",
        "  outputs = decoder_inputs\n",
        "  output_layers = []\n",
        "  for j in range(len(latent_dims)):\n",
        "      output_layers.append(LSTM(latent_dims[len(latent_dims) - j - 1], return_sequences=True, return_state=True,dropout=dropout,recurrent_dropout=recc_dropout))\n",
        "      outputs, dh, dc = output_layers[-1](outputs, initial_state=encoder_states[2*j:2*(j+1)])\n",
        "\n",
        "\n",
        "  decoder_dense = Dense(num_decoder_tokens, activation='softmax')\n",
        "  decoder_outputs = decoder_dense(outputs)\n",
        "\n",
        "  # Define the model that will turn\n",
        "  # `encoder_input_data` & `decoder_input_data` into `decoder_target_data`\n",
        "  model = Model([encoder_inputs, decoder_inputs], decoder_outputs)\n",
        "  model.compile(optimizer=optimizer_fn, loss=\"categorical_crossentropy\", metrics=[\"accuracy\"])\n",
        "  model.fit([encoder_input_data, decoder_input_data], decoder_target_data, batch_size=batch_size, epochs=epochs, validation_data=([val_encoder_input_data, val_decoder_input_data],val_decoder_target_data))\n",
        "  encoder_model = Model(encoder_inputs, encoder_states)\n",
        "\n",
        "  d_outputs = decoder_inputs\n",
        "  decoder_states_inputs = []\n",
        "  decoder_states = []\n",
        "  for j in range(len(latent_dims))[::-1]:\n",
        "      current_state_inputs = [Input(shape=(latent_dims[j],)) for _ in range(2)]\n",
        "      temp = output_layers[len(latent_dims)-j-1](d_outputs, initial_state=current_state_inputs)\n",
        "      d_outputs, cur_states = temp[0], temp[1:]\n",
        "\n",
        "      decoder_states += cur_states\n",
        "      decoder_states_inputs += current_state_inputs\n",
        "\n",
        "  decoder_outputs = decoder_dense(d_outputs)\n",
        "  decoder_model = Model([decoder_inputs] + decoder_states_inputs, [decoder_outputs] + decoder_states)\n",
        "  return model,encoder_model,decoder_model"
      ],
      "execution_count": 12,
      "outputs": []
    },
    {
      "cell_type": "code",
      "metadata": {
        "id": "XGBhKBaujsnq"
      },
      "source": [
        "def GRU_model(epochs, batch_size, latent_dims, optimizer_fn, dropout, recc_dropout):\n",
        "  # Define an input sequence and process it by going through a len(latent_dims)-layer deep encoder\n",
        "  encoder_inputs = Input(shape=(None, num_encoder_tokens))\n",
        "\n",
        "  outputs = encoder_inputs\n",
        "  encoder_states = []\n",
        "  for j in range(len(latent_dims))[::-1]:\n",
        "      outputs, h = GRU(latent_dims[j], return_state=True, return_sequences=bool(j),dropout=dropout,recurrent_dropout=recc_dropout)(outputs)\n",
        "      encoder_states += [h]\n",
        "\n",
        "  # Set up the decoder, setting the initial state of each layer to the state of the layer in the encoder\n",
        "  # which is it's mirror (so for encoder: a->b->c, you'd have decoder initial states: c->b->a).\n",
        "  decoder_inputs = Input(shape=(None, num_decoder_tokens))\n",
        "\n",
        "  outputs = decoder_inputs\n",
        "  output_layers = []\n",
        "  for j in range(len(latent_dims)):\n",
        "      output_layers.append(GRU(latent_dims[len(latent_dims) - j - 1], return_sequences=True, return_state=True,dropout=dropout,recurrent_dropout=recc_dropout))\n",
        "      outputs, dh = output_layers[-1](outputs, initial_state=encoder_states[j:j+1])\n",
        "\n",
        "  decoder_dense = Dense(num_decoder_tokens, activation='softmax')\n",
        "  decoder_outputs = decoder_dense(outputs)\n",
        "\n",
        "  # Define the model that will turn\n",
        "  # `encoder_input_data` & `decoder_input_data` into `decoder_target_data`\n",
        "  model = Model([encoder_inputs, decoder_inputs], decoder_outputs)\n",
        "  model.compile(optimizer=optimizer_fn, loss=\"categorical_crossentropy\", metrics=[\"accuracy\"])\n",
        "  model.fit([encoder_input_data, decoder_input_data], decoder_target_data, batch_size=batch_size, epochs=epochs, validation_data=([val_encoder_input_data, val_decoder_input_data],val_decoder_target_data))\n",
        "  encoder_model = Model(encoder_inputs, encoder_states)\n",
        "\n",
        "  d_outputs = decoder_inputs\n",
        "  decoder_states_inputs = []\n",
        "  decoder_states = []\n",
        "  for j in range(len(latent_dims))[::-1]:\n",
        "      current_state_inputs = [Input(shape=(latent_dims[j],)) for _ in range(1)]\n",
        "      temp = output_layers[len(latent_dims)-j-1](d_outputs, initial_state=current_state_inputs)\n",
        "      d_outputs, cur_states = temp[0], temp[1:]\n",
        "\n",
        "      decoder_states += cur_states\n",
        "      decoder_states_inputs += current_state_inputs\n",
        "\n",
        "  decoder_outputs = decoder_dense(d_outputs)\n",
        "  decoder_model = Model([decoder_inputs] + decoder_states_inputs, [decoder_outputs] + decoder_states)\n",
        "  return model,encoder_model,decoder_model"
      ],
      "execution_count": 13,
      "outputs": []
    },
    {
      "cell_type": "code",
      "metadata": {
        "id": "z3R17GB8TKPh"
      },
      "source": [
        "def RNN_model(epochs,batch_size, latent_dims, optimizer_fn, dropout, recc_dropout):\n",
        "  # Define an input sequence and process it by going through a len(latent_dims)-layer deep encoder\n",
        "  encoder_inputs = Input(shape=(None, num_encoder_tokens))\n",
        "\n",
        "  outputs = encoder_inputs\n",
        "  encoder_states = []\n",
        "  for j in range(len(latent_dims))[::-1]:\n",
        "      outputs, h = SimpleRNN(latent_dims[j], return_state=True, return_sequences=bool(j),dropout=dropout,recurrent_dropout=recc_dropout)(outputs)\n",
        "      encoder_states += [h]\n",
        "\n",
        "  # Set up the decoder, setting the initial state of each layer to the state of the layer in the encoder\n",
        "  # which is it's mirror (so for encoder: a->b->c, you'd have decoder initial states: c->b->a).\n",
        "  decoder_inputs = Input(shape=(None, num_decoder_tokens))\n",
        "\n",
        "  outputs = decoder_inputs\n",
        "  output_layers = []\n",
        "  for j in range(len(latent_dims)):\n",
        "      output_layers.append(SimpleRNN(latent_dims[len(latent_dims) - j - 1], return_sequences=True, return_state=True,dropout=dropout,recurrent_dropout=recc_dropout))\n",
        "      outputs, dh = output_layers[-1](outputs, initial_state=encoder_states[j:j+1])\n",
        "\n",
        "  decoder_dense = Dense(num_decoder_tokens, activation='softmax')\n",
        "  decoder_outputs = decoder_dense(outputs)\n",
        "\n",
        "  # Define the model that will turn\n",
        "  # `encoder_input_data` & `decoder_input_data` into `decoder_target_data`\n",
        "  model = Model([encoder_inputs, decoder_inputs], decoder_outputs)\n",
        "  model.compile(optimizer=optimizer_fn, loss=\"categorical_crossentropy\", metrics=[\"accuracy\"])\n",
        "  history = model.fit([encoder_input_data, decoder_input_data], decoder_target_data, batch_size=batch_size, epochs=epochs, validation_data=([val_encoder_input_data, val_decoder_input_data],val_decoder_target_data))\n",
        "  encoder_model = Model(encoder_inputs, encoder_states)\n",
        "\n",
        "  d_outputs = decoder_inputs\n",
        "  decoder_states_inputs = []\n",
        "  decoder_states = []\n",
        "  for j in range(len(latent_dims))[::-1]:\n",
        "      current_state_inputs = [Input(shape=(latent_dims[j],)) for _ in range(1)]\n",
        "      temp = output_layers[len(latent_dims)-j-1](d_outputs, initial_state=current_state_inputs)\n",
        "      d_outputs, cur_states = temp[0], temp[1:]\n",
        "\n",
        "      decoder_states += cur_states\n",
        "      decoder_states_inputs += current_state_inputs\n",
        "\n",
        "  decoder_outputs = decoder_dense(d_outputs)\n",
        "  decoder_model = Model([decoder_inputs] + decoder_states_inputs, [decoder_outputs] + decoder_states)\n",
        "  return model,encoder_model,decoder_model"
      ],
      "execution_count": 14,
      "outputs": []
    },
    {
      "cell_type": "code",
      "metadata": {
        "id": "ODeQksH8l8Bw"
      },
      "source": [
        "def decode_sequence(input_seq,beam_search,encoder_model,decoder_model,reverse_target_char_index):\n",
        "    # Encode the input as state vectors.\n",
        "    states_value = encoder_model.predict(input_seq)\n",
        "\n",
        "    # Generate empty target sequence of length 1.\n",
        "    target_seq = np.zeros((1, 1, num_decoder_tokens))\n",
        "    # Populate the first character of target sequence with the start character.\n",
        "    target_seq[0, 0, target_token_index['\\t']] = 1.\n",
        "\n",
        "    # Sampling loop for a batch of sequences\n",
        "    # (to simplify, here we assume a batch of size 1).\n",
        "    stop_condition = False\n",
        "    decoded_sentences = []\n",
        "    if beam_search==0:\n",
        "      decoded_sentence = []  #Creating a list then using \"\".join() is usually much faster for string creation\n",
        "      while not stop_condition:\n",
        "          to_split = decoder_model.predict([target_seq] + states_value)\n",
        "          output_tokens, states_value = to_split[0], to_split[1:]\n",
        "          sampled_token_index = np.argmax(output_tokens[0, 0])\n",
        "          sampled_char = reverse_target_char_index[sampled_token_index]\n",
        "          decoded_sentence.append(sampled_char)\n",
        "          if sampled_char == '\\n' or len(decoded_sentence) > max_decoder_seq_length:\n",
        "            stop_condition = True\n",
        "          target_seq = np.zeros((1, 1, num_decoder_tokens))\n",
        "          target_seq[0, 0, sampled_token_index] = 1.\n",
        "      decoded_sentences.append(\"\".join(decoded_sentence))\n",
        "    else:\n",
        "      decoded_prob = []\n",
        "      it=0\n",
        "      while not stop_condition:\n",
        "          to_split = decoder_model.predict([target_seq] + states_value)\n",
        "          output_tokens, states_value = to_split[0], to_split[1:]\n",
        "          sampled_token_index = np.argmax(output_tokens[0, 0])\n",
        "          sampled_char = reverse_target_char_index[sampled_token_index]\n",
        "          it += 1\n",
        "          decoded_prob.append(output_tokens[0, 0])\n",
        "          if sampled_char == '\\n' or it > max_decoder_seq_length:\n",
        "            stop_condition = True\n",
        "          target_seq = np.zeros((1, 1, num_decoder_tokens))\n",
        "          target_seq[0, 0, sampled_token_index] = 1.\n",
        "      sequences = [[list(), 0.0]]\n",
        "      # walk over each step in sequence\n",
        "      for row in decoded_prob:\n",
        "        all_candidates = list()\n",
        "        # expand each current candidate\n",
        "        for i in range(len(sequences)):\n",
        "          seq, score = sequences[i]\n",
        "          for j in range(len(row)):\n",
        "            candidate = [seq + [j], score - log(row[j])]\n",
        "            all_candidates.append(candidate)\n",
        "        # order all candidates by score\n",
        "        ordered = sorted(all_candidates, key=lambda tup:tup[1])\n",
        "        # select k best\n",
        "        sequences = ordered[:beam_search]\n",
        "      for seq in sequences:\n",
        "        decoded_sentence = []\n",
        "        for char_in in seq[0]:\n",
        "          sampled_char = reverse_target_char_index[char_in]\n",
        "          decoded_sentence.append(sampled_char)\n",
        "        decoded_sentences.append(\"\".join(decoded_sentence))\n",
        "    return decoded_sentences"
      ],
      "execution_count": 15,
      "outputs": []
    },
    {
      "cell_type": "code",
      "metadata": {
        "id": "X1ROIPF0OS_I"
      },
      "source": [
        "def Recurrent_Neural_Network(epochs, batch_size, dropout, recc_dropout, beam_search, layers, hidden_neurons, cell_type, optimizer_fn):\n",
        "  #latent_dims = [256,128,64]  # Latent dimensionality of the encoding space.\n",
        "  latent_dims = []\n",
        "  for i in range(layers):\n",
        "    latent_dims.append((i+1)*hidden_neurons)\n",
        "  latent_dims = latent_dims[::-1]\n",
        "  #print(latent_dims)\n",
        "\n",
        "  if cell_type=='LSTM':\n",
        "    model,encoder_model,decoder_model = LSTM_model(epochs, batch_size, latent_dims, optimizer_fn, dropout, recc_dropout)\n",
        "  elif cell_type=='GRU':\n",
        "    model,encoder_model,decoder_model = GRU_model(epochs, batch_size, latent_dims, optimizer_fn, dropout, recc_dropout)\n",
        "  elif cell_type=='RNN':\n",
        "    model,encoder_model,decoder_model = RNN_model(epochs, batch_size, latent_dims, optimizer_fn, dropout, recc_dropout)\n",
        "\n",
        "  #plot_model(encoder_model, show_shapes=True))\n",
        "  #plot_model(decoder_model, show_shapes=True))\n",
        "\n",
        "  # Reverse-lookup token index to decode sequences back to\n",
        "  # something readable.\n",
        "  reverse_input_char_index = dict((i, char) for char, i in input_token_index.items())\n",
        "  reverse_target_char_index = dict((i, char) for char, i in target_token_index.items())\n",
        "    \n",
        "  valid = 0\n",
        "  samples=len(test_input_texts)\n",
        "  for i in range(len(test_input_texts)):\n",
        "      # Take one sequence (part of the training set)\n",
        "      # for trying out decoding.\n",
        "      #seq_index=random.randint(0,len(test_input_texts))\n",
        "      seq_index=i\n",
        "      input_seq = test_encoder_input_data[seq_index : seq_index + 1]\n",
        "      decoded_sentence = decode_sequence(input_seq,beam_search,encoder_model,decoder_model,reverse_target_char_index)\n",
        "      # print(\"-\")\n",
        "      # print(\"Input sentence:\", test_input_texts[seq_index])\n",
        "      # for seq in decoded_sentence:\n",
        "      #   print(\"Decoded sentence:\", seq)\n",
        "      # print(\"Actual sentence:\", test_target_texts[seq_index])\n",
        "      for translate in decoded_sentence:\n",
        "        flag=1\n",
        "        for (i,j) in zip(translate,test_target_texts[seq_index]):\n",
        "          if i!=j:\n",
        "            flag=0\n",
        "            break\n",
        "        if flag==1:\n",
        "          valid += 1\n",
        "          break\n",
        "  print(\"Word Level Validation Accuracy :\",(valid/samples)*100)\n",
        "  return  (valid/samples)*100"
      ],
      "execution_count": 35,
      "outputs": []
    },
    {
      "cell_type": "code",
      "metadata": {
        "id": "egAFX-qOMrQn"
      },
      "source": [
        "sweep_config = {\n",
        "    'method': 'random',\n",
        "    'metric': {\n",
        "      'name': 'model_accuracy',\n",
        "      'goal': 'maximize'   \n",
        "    },\n",
        "    'parameters': {\n",
        "        'epoch': {\n",
        "            'values': [10]\n",
        "        },\n",
        "        'batch_size': {\n",
        "            'values': [32]\n",
        "        },\n",
        "        'dropout':{\n",
        "            'values': [0.1]\n",
        "        },\n",
        "        'recc_dropout':{\n",
        "            'values': [0.0]\n",
        "        },\n",
        "        'beam_search': {\n",
        "            'values': [5]\n",
        "        },\n",
        "        'layers': {\n",
        "            'values': [3]\n",
        "        },\n",
        "        'hidden_neurons':{\n",
        "            'values': [64]\n",
        "        },\n",
        "        'cell_type': {\n",
        "            'values':['GRU']\n",
        "        },\n",
        "        'optimizer_fn': {\n",
        "            'values': ['adam']\n",
        "        }\n",
        "    }\n",
        "}"
      ],
      "execution_count": 36,
      "outputs": []
    },
    {
      "cell_type": "code",
      "metadata": {
        "colab": {
          "base_uri": "https://localhost:8080/"
        },
        "id": "1B5lY9vYNCm5",
        "outputId": "c4296116-7353-4f79-a664-25842cd7106c"
      },
      "source": [
        "sweep_id = wandb.sweep(sweep_config,entity=\"dl-assignment3\",project=\"Assignment3\")"
      ],
      "execution_count": 37,
      "outputs": [
        {
          "output_type": "stream",
          "text": [
            "Create sweep with ID: vydyv1zx\n",
            "Sweep URL: https://wandb.ai/dl-assignment3/Assignment3/sweeps/vydyv1zx\n"
          ],
          "name": "stdout"
        }
      ]
    },
    {
      "cell_type": "code",
      "metadata": {
        "id": "lRLBh0IxNMa1"
      },
      "source": [
        "def train():\n",
        "    config_defaults={\n",
        "        'epoch':10,\n",
        "        'batch_size':32,\n",
        "        'dropout':0.1,\n",
        "        'recc_dropout':0.0,\n",
        "        'beam_search':5,\n",
        "        'layers':3,\n",
        "        'hidden_neurons':64,\n",
        "        'cell_type':'GRU',\n",
        "        'optimizer_fn':'adam',\n",
        "        }\n",
        "    # Initialize a new wandb run\n",
        "    wandb.init(config=config_defaults)\n",
        "    # Config is a variable that holds and saves hyperparameters and inputs\n",
        "    config = wandb.config\n",
        "    model_acc=Recurrent_Neural_Network(config.epoch, config.batch_size,config.dropout, config.recc_dropout, config.beam_search, config.layers,config.hidden_neurons, config.cell_type, config.optimizer_fn)  \n",
        "    wandb.log({'model_accuracy': model_acc})\n",
        "    return"
      ],
      "execution_count": 39,
      "outputs": []
    },
    {
      "cell_type": "code",
      "metadata": {
        "id": "QbYVvIPSTCa7",
        "colab": {
          "base_uri": "https://localhost:8080/",
          "height": 765
        },
        "outputId": "6ee1789f-ee68-4ade-b455-e5a667d6d59f"
      },
      "source": [
        "wandb.agent(sweep_id, train,count=1)"
      ],
      "execution_count": null,
      "outputs": [
        {
          "output_type": "stream",
          "text": [
            "\u001b[34m\u001b[1mwandb\u001b[0m: Sweep Agent: Waiting for job.\n",
            "500 response executing GraphQL.\n",
            "{\"errors\":[{\"message\":\"Post \\\"http://anaconda.default.svc.cluster.local/search\\\": context deadline exceeded\",\"path\":[\"agentHeartbeat\"]}],\"data\":{\"agentHeartbeat\":null}}\n",
            "\u001b[34m\u001b[1mwandb\u001b[0m: \u001b[32m\u001b[41mERROR\u001b[0m Error while calling W&B API: Post \"http://anaconda.default.svc.cluster.local/search\": context deadline exceeded (<Response [500]>)\n",
            "\u001b[34m\u001b[1mwandb\u001b[0m: Job received.\n",
            "\u001b[34m\u001b[1mwandb\u001b[0m: Agent Starting Run: g1r50h4k with config:\n",
            "\u001b[34m\u001b[1mwandb\u001b[0m: \tbatch_size: 32\n",
            "\u001b[34m\u001b[1mwandb\u001b[0m: \tbeam_search: 5\n",
            "\u001b[34m\u001b[1mwandb\u001b[0m: \tcell_type: GRU\n",
            "\u001b[34m\u001b[1mwandb\u001b[0m: \tdropout: 0.1\n",
            "\u001b[34m\u001b[1mwandb\u001b[0m: \tepoch: 10\n",
            "\u001b[34m\u001b[1mwandb\u001b[0m: \thidden_neurons: 64\n",
            "\u001b[34m\u001b[1mwandb\u001b[0m: \tlayers: 3\n",
            "\u001b[34m\u001b[1mwandb\u001b[0m: \toptimizer_fn: adam\n",
            "\u001b[34m\u001b[1mwandb\u001b[0m: \trecc_dropout: 0\n"
          ],
          "name": "stderr"
        },
        {
          "output_type": "display_data",
          "data": {
            "text/html": [
              "\n",
              "                Tracking run with wandb version 0.10.30<br/>\n",
              "                Syncing run <strong style=\"color:#cdcd00\">rich-sweep-1</strong> to <a href=\"https://wandb.ai\" target=\"_blank\">Weights & Biases</a> <a href=\"https://docs.wandb.com/integrations/jupyter.html\" target=\"_blank\">(Documentation)</a>.<br/>\n",
              "                Project page: <a href=\"https://wandb.ai/dl-assignment3/Assignment3\" target=\"_blank\">https://wandb.ai/dl-assignment3/Assignment3</a><br/>\n",
              "                Sweep page: <a href=\"https://wandb.ai/dl-assignment3/Assignment3/sweeps/vydyv1zx\" target=\"_blank\">https://wandb.ai/dl-assignment3/Assignment3/sweeps/vydyv1zx</a><br/>\n",
              "Run page: <a href=\"https://wandb.ai/dl-assignment3/Assignment3/runs/g1r50h4k\" target=\"_blank\">https://wandb.ai/dl-assignment3/Assignment3/runs/g1r50h4k</a><br/>\n",
              "                Run data is saved locally in <code>/content/wandb/run-20210523_105628-g1r50h4k</code><br/><br/>\n",
              "            "
            ],
            "text/plain": [
              "<IPython.core.display.HTML object>"
            ]
          },
          "metadata": {
            "tags": []
          }
        },
        {
          "output_type": "stream",
          "text": [
            "Epoch 1/10\n",
            "1382/1382 [==============================] - 32s 17ms/step - loss: 1.1484 - accuracy: 0.7237 - val_loss: 0.5201 - val_accuracy: 0.8446\n",
            "Epoch 2/10\n",
            "1382/1382 [==============================] - 22s 16ms/step - loss: 0.5507 - accuracy: 0.8399 - val_loss: 0.3110 - val_accuracy: 0.9006\n",
            "Epoch 3/10\n",
            "1382/1382 [==============================] - 22s 16ms/step - loss: 0.3976 - accuracy: 0.8829 - val_loss: 0.2459 - val_accuracy: 0.9256\n",
            "Epoch 4/10\n",
            "1382/1382 [==============================] - 22s 16ms/step - loss: 0.3381 - accuracy: 0.9006 - val_loss: 0.2151 - val_accuracy: 0.9330\n",
            "Epoch 5/10\n",
            "1382/1382 [==============================] - 21s 15ms/step - loss: 0.3061 - accuracy: 0.9092 - val_loss: 0.2013 - val_accuracy: 0.9369\n",
            "Epoch 6/10\n",
            "1382/1382 [==============================] - 22s 16ms/step - loss: 0.2814 - accuracy: 0.9167 - val_loss: 0.1878 - val_accuracy: 0.9427\n",
            "Epoch 7/10\n",
            "1382/1382 [==============================] - 22s 16ms/step - loss: 0.2657 - accuracy: 0.9209 - val_loss: 0.1834 - val_accuracy: 0.9423\n",
            "Epoch 8/10\n",
            "1382/1382 [==============================] - 22s 16ms/step - loss: 0.2523 - accuracy: 0.9243 - val_loss: 0.1755 - val_accuracy: 0.9450\n",
            "Epoch 9/10\n",
            "1382/1382 [==============================] - 21s 16ms/step - loss: 0.2407 - accuracy: 0.9276 - val_loss: 0.1678 - val_accuracy: 0.9469\n",
            "Epoch 10/10\n",
            "1382/1382 [==============================] - 22s 16ms/step - loss: 0.2326 - accuracy: 0.9301 - val_loss: 0.1635 - val_accuracy: 0.9487\n"
          ],
          "name": "stdout"
        }
      ]
    }
  ]
}